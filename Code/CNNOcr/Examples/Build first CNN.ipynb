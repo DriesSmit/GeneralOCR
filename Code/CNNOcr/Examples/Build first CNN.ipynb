{
 "cells": [
  {
   "cell_type": "markdown",
   "metadata": {},
   "source": [
    "#  Table detection using a CNN"
   ]
  },
  {
   "cell_type": "code",
   "execution_count": 1,
   "metadata": {},
   "outputs": [],
   "source": [
    "%matplotlib inline\n",
    "import cv2\n",
    "import matplotlib\n",
    "import matplotlib.pyplot as plt\n",
    "import matplotlib.cm as cm\n",
    "import numpy as np\n",
    "import random"
   ]
  },
  {
   "cell_type": "markdown",
   "metadata": {},
   "source": [
    "## Generate data"
   ]
  },
  {
   "cell_type": "code",
   "execution_count": 2,
   "metadata": {},
   "outputs": [],
   "source": [
    "def generateData(numImages=1,pageSize=(100,100),circleSize=10):\n",
    "    images = []\n",
    "    images1D = np.zeros((numImages,pageSize[0]*pageSize[1]),dtype=np.float32)\n",
    "    labels = []\n",
    "\n",
    "    for i in range(numImages):\n",
    "        page = np.full(pageSize, 255, dtype=np.uint8)\n",
    "\n",
    "        location = (circleSize+int(random.random()*(pageSize[1]-circleSize*2)), circleSize+int(random.random()*(pageSize[0]-circleSize*2)))\n",
    "        cv2.circle(page, location,circleSize, (0, 0, 255))\n",
    "\n",
    "        images.append(page)\n",
    "        images1D[i] = page.reshape(pageSize[0]*pageSize[1])\n",
    "        labels.append((location[0]/float(pageSize[1]),location[1]/float(pageSize[0])))\n",
    "    images1D /= 255.0\n",
    "    return images, labels,images1D"
   ]
  },
  {
   "cell_type": "code",
   "execution_count": 3,
   "metadata": {},
   "outputs": [],
   "source": [
    "circleSize = 6\n",
    "pageSize = (28, 28)\n",
    "\n",
    "images, labels,images1D = generateData(numImages=1000,pageSize=pageSize,circleSize=circleSize) #Do not make this more that around 1000\n",
    "\n",
    "trainImages = images1D[:800]\n",
    "trainImagesD = images[:800]\n",
    "\n",
    "testImages = images1D[800:]\n",
    "testImagesD = images[800:]\n",
    "\n",
    "trainLabels = labels[:800]\n",
    "testLabels = labels[800:]"
   ]
  },
  {
   "cell_type": "markdown",
   "metadata": {},
   "source": [
    "## Display the data (Causes kernel restart)"
   ]
  },
  {
   "cell_type": "raw",
   "metadata": {},
   "source": [
    "for i in range(len(images)):\n",
    "    image = images[i]\n",
    "    label = (labels[i][0]*pageSize[1],labels[i][1]*pageSize[0])\n",
    "    print label\n",
    "    cv2.rectangle(image, (int(label[0])-circleSize, int(label[1])-circleSize), (int(label[0])+circleSize, int(label[1])+circleSize), (0, 0, 0), 1)\n",
    "\n",
    "    cv2.namedWindow(\"Image\", cv2.WINDOW_NORMAL)\n",
    "    cv2.imshow(\"Image\", image)\n",
    "    cv2.waitKey(0)\n",
    "cv2.destroyWindow()"
   ]
  },
  {
   "cell_type": "code",
   "execution_count": 4,
   "metadata": {},
   "outputs": [],
   "source": [
    "import tensorflow as tf\n",
    "sess = tf.InteractiveSession()"
   ]
  },
  {
   "cell_type": "code",
   "execution_count": 5,
   "metadata": {},
   "outputs": [],
   "source": [
    "x = tf.placeholder(tf.float32, shape=[None, pageSize[0]*pageSize[1]])\n",
    "y_ = tf.placeholder(tf.float32, shape=[None, 2])"
   ]
  },
  {
   "cell_type": "markdown",
   "metadata": {},
   "source": [
    "## Weight Initialization\n",
    "\n",
    "To create this model, we're going to need to create a lot of weights and biases. One should generally initialize weights with a small amount of noise for symmetry breaking, and to prevent 0 gradients. Since we're using ReLU neurons, it is also good practice to initialize them with a slightly positive initial bias to avoid \"dead neurons\". Instead of doing this repeatedly while we build the model, let's create two handy functions to do it for us."
   ]
  },
  {
   "cell_type": "code",
   "execution_count": 6,
   "metadata": {},
   "outputs": [],
   "source": [
    "def weight_variable(shape):\n",
    "    initial = tf.truncated_normal(shape, stddev=0.1)\n",
    "    return tf.Variable(initial)\n",
    "\n",
    "def bias_variable(shape):\n",
    "    initial = tf.constant(0.1, shape=shape)\n",
    "    return tf.Variable(initial)"
   ]
  },
  {
   "cell_type": "markdown",
   "metadata": {},
   "source": [
    "## Convolution and Pooling\n",
    "\n",
    "TensorFlow also gives us a lot of flexibility in convolution and pooling operations. How do we handle the boundaries? What is our stride size? In this example, we're always going to choose the vanilla version. Our convolutions uses a stride of one and are zero padded so that the output is the same size as the input. Our pooling is plain old max pooling over 2x2 blocks. To keep our code cleaner, let's also abstract those operations into functions."
   ]
  },
  {
   "cell_type": "code",
   "execution_count": 7,
   "metadata": {},
   "outputs": [],
   "source": [
    "def conv2d(x, W):\n",
    "  return tf.nn.conv2d(x, W, strides=[1, 1, 1, 1], padding='SAME')\n",
    "\n",
    "def max_pool_2x2(x):\n",
    "  return tf.nn.max_pool(x, ksize=[1, 2, 2, 1],\n",
    "                        strides=[1, 2, 2, 1], padding='SAME')"
   ]
  },
  {
   "cell_type": "markdown",
   "metadata": {},
   "source": [
    "## First convolutional layer\n",
    "\n",
    "We can now implement our first layer. It will consist of convolution, followed by max pooling. The convolutional will compute 32 features for each 5x5 patch. Its weight tensor will have a shape of [5, 5, 1, 32]. The first two dimensions are the patch size, the next is the number of input channels, and the last is the number of output channels. We will also have a bias vector with a component for each output channel."
   ]
  },
  {
   "cell_type": "code",
   "execution_count": 8,
   "metadata": {},
   "outputs": [],
   "source": [
    "W_conv1 = weight_variable([5, 5, 1, 32]) #(window_dim1,window_dim1,input channels,output channels)\n",
    "b_conv1 = bias_variable([32])"
   ]
  },
  {
   "cell_type": "markdown",
   "metadata": {},
   "source": [
    "To apply the layer, we first reshape x to a 4d tensor, with the second and third dimensions corresponding to image width and height, and the final dimension corresponding to the number of color channels.\n",
    "\n",
    "The first dimension is specified as -1 since it will be inferred from the number of images in the batch."
   ]
  },
  {
   "cell_type": "code",
   "execution_count": 9,
   "metadata": {},
   "outputs": [],
   "source": [
    "x_image = tf.reshape(x, [-1,pageSize[0],pageSize[1],1])"
   ]
  },
  {
   "cell_type": "markdown",
   "metadata": {},
   "source": [
    "We then convolve x_image with the weight tensor, add the bias, apply the ReLU function, and finally max pool."
   ]
  },
  {
   "cell_type": "code",
   "execution_count": 10,
   "metadata": {},
   "outputs": [],
   "source": [
    "h_conv1 = tf.nn.relu(conv2d(x_image, W_conv1) + b_conv1)\n",
    "h_pool1 = max_pool_2x2(h_conv1)"
   ]
  },
  {
   "cell_type": "markdown",
   "metadata": {},
   "source": [
    "## Second Convolutional Layer\n",
    "\n",
    "\n",
    "\n",
    "In order to build a deep network, we stack several layers of this type. The second layer will have 64 features for each 5x5 patch."
   ]
  },
  {
   "cell_type": "code",
   "execution_count": 11,
   "metadata": {},
   "outputs": [],
   "source": [
    "W_conv2 = weight_variable([5, 5, 32, 64])\n",
    "b_conv2 = bias_variable([64])\n",
    "\n",
    "h_conv2 = tf.nn.relu(conv2d(h_pool1, W_conv2) + b_conv2)\n",
    "h_pool2 = max_pool_2x2(h_conv2)"
   ]
  },
  {
   "cell_type": "markdown",
   "metadata": {},
   "source": [
    "## Densely Connected Layer\n",
    "\n",
    "Now that the image size has been reduced to 7x7, we add a fully-connected layer with 1024 neurons to allow processing on the entire image. We reshape the tensor from the pooling layer into a batch of vectors, multiply by a weight matrix, add a bias, and apply a ReLU."
   ]
  },
  {
   "cell_type": "code",
   "execution_count": 12,
   "metadata": {},
   "outputs": [],
   "source": [
    "size = 7*7*64\n",
    "W_fc1 = weight_variable([size, 1024])#Was 7*7*64\n",
    "b_fc1 = bias_variable([1024])\n",
    "\n",
    "h_pool2_flat = tf.reshape(h_pool2, [-1, size]) #Was 7*7*64\n",
    "h_fc1 = tf.nn.relu(tf.matmul(h_pool2_flat, W_fc1) + b_fc1)"
   ]
  },
  {
   "cell_type": "markdown",
   "metadata": {},
   "source": [
    "## Dropout\n",
    "\n",
    "To reduce overfitting, we will apply dropout before the readout layer. We create a placeholder for the probability that a neuron's output is kept during dropout. This allows us to turn dropout on during training, and turn it off during testing. TensorFlow's tf.nn.dropout op automatically handles scaling neuron outputs in addition to masking them, so dropout just works without any additional scaling."
   ]
  },
  {
   "cell_type": "code",
   "execution_count": 13,
   "metadata": {},
   "outputs": [],
   "source": [
    "keep_prob = tf.placeholder(tf.float32)\n",
    "h_fc1_drop = tf.nn.dropout(h_fc1, keep_prob)"
   ]
  },
  {
   "cell_type": "markdown",
   "metadata": {},
   "source": [
    "## Readout Layer\n",
    "\n",
    "Finally, we add a softmax layer, just like for the one layer softmax regression above."
   ]
  },
  {
   "cell_type": "code",
   "execution_count": 14,
   "metadata": {},
   "outputs": [],
   "source": [
    "W_fc2 = weight_variable([1024, 2])\n",
    "b_fc2 = bias_variable([2])\n",
    "\n",
    "y_conv=tf.matmul(h_fc1_drop, W_fc2) + b_fc2#tf.nn.softmax(tf.matmul(h_fc1_drop, W_fc2) + b_fc2)"
   ]
  },
  {
   "cell_type": "markdown",
   "metadata": {},
   "source": [
    "## Train and Evaluate the Model\n",
    "\n",
    "How well does this model do? To train and evaluate it we will use code that is nearly identical to that for the simple one layer SoftMax network.\n",
    "\n",
    "The differences are that:\n",
    "\n",
    "We will replace the steepest gradient descent optimizer with the more sophisticated ADAM optimizer.\n",
    "\n",
    "We will include the additional parameter keep_prob in feed_dict to control the dropout rate.\n",
    "\n",
    "We will add logging to every 100th iteration in the training process.\n",
    "\n",
    "Feel free to go ahead and run this code, but it does 20,000 training iterations and may take a while (possibly up to half an hour), depending on your processor.\n",
    "\n"
   ]
  },
  {
   "cell_type": "code",
   "execution_count": 15,
   "metadata": {},
   "outputs": [
    {
     "name": "stdout",
     "output_type": "stream",
     "text": [
      "WARNING:tensorflow:From /usr/local/lib/python2.7/dist-packages/tensorflow/python/util/tf_should_use.py:107: initialize_all_variables (from tensorflow.python.ops.variables) is deprecated and will be removed after 2017-03-02.\n",
      "Instructions for updating:\n",
      "Use `tf.global_variables_initializer` instead.\n",
      "20\n",
      "step 0, training accuracy 3.64186\n",
      "20\n",
      "step 100, training accuracy 0.52894\n",
      "20\n",
      "step 200, training accuracy 0.322557\n",
      "20\n",
      "step 300, training accuracy 0.224041\n",
      "20\n",
      "step 400, training accuracy 0.184576\n",
      "20\n",
      "step 500, training accuracy 0.140781\n",
      "20\n",
      "step 600, training accuracy 0.108287\n",
      "20\n",
      "step 700, training accuracy 0.0783096\n",
      "20\n",
      "step 800, training accuracy 0.0704471\n",
      "20\n",
      "step 900, training accuracy 0.0487278\n",
      "20\n",
      "step 1000, training accuracy 0.063105\n",
      "20\n",
      "step 1100, training accuracy 0.0477324\n",
      "20\n",
      "step 1200, training accuracy 0.0475741\n",
      "20\n",
      "step 1300, training accuracy 0.0396357\n",
      "20\n",
      "step 1400, training accuracy 0.0398665\n",
      "20\n",
      "step 1500, training accuracy 0.0395588\n",
      "20\n",
      "step 1600, training accuracy 0.0340725\n",
      "20\n",
      "step 1700, training accuracy 0.0326841\n",
      "20\n",
      "step 1800, training accuracy 0.031864\n",
      "20\n",
      "step 1900, training accuracy 0.0328108\n",
      "test accuracy 0.0334687\n"
     ]
    }
   ],
   "source": [
    "squareError = tf.reduce_sum(tf.pow(y_conv - y_, 2))\n",
    "train_step = tf.train.AdamOptimizer(1e-4).minimize(squareError)\n",
    "accuracy = tf.reduce_mean(tf.abs(y_conv - y_))\n",
    "\n",
    "sess.run(tf.initialize_all_variables())\n",
    "\n",
    "batchSize = 20\n",
    "\n",
    "numBatches = len(trainImages)/batchSize\n",
    "\n",
    "\n",
    "for i in range(2000):\n",
    "\n",
    "  lowerLimit = (i%numBatches)*batchSize\n",
    "  upperLimit = (i%numBatches+1)*batchSize\n",
    "\n",
    "  imageBatch = trainImages[lowerLimit:upperLimit]\n",
    "  labelBatch = trainLabels[lowerLimit:upperLimit]\n",
    "  \n",
    "  if i%100 == 0:\n",
    "    #print imageBatch[0]\n",
    "    #print len(imageBatch[0])\n",
    "    print(len(labelBatch))\n",
    "    train_accuracy = accuracy.eval(feed_dict={x:imageBatch, y_: labelBatch, keep_prob: 1.0})\n",
    "    print(\"step %d, training accuracy %g\"%(i, train_accuracy))\n",
    "  train_step.run(feed_dict={x: imageBatch, y_: labelBatch, keep_prob: 0.5})\n",
    "\n",
    "print(\"test accuracy %g\"%accuracy.eval(feed_dict={x: testImages, y_: testLabels, keep_prob: 1.0}))"
   ]
  },
  {
   "cell_type": "markdown",
   "metadata": {},
   "source": [
    "## Evaluate the network using the testing data"
   ]
  },
  {
   "cell_type": "code",
   "execution_count": null,
   "metadata": {},
   "outputs": [
    {
     "name": "stdout",
     "output_type": "stream",
     "text": [
      "True center:  (6.0, 16.0) . Estimated center:  (5.5459688901901245, 16.027114152908325)\n",
      "True center:  (19.0, 20.0) . Estimated center:  (20.451569557189941, 19.268354892730713)\n",
      "True center:  (19.0, 12.0) . Estimated center:  (19.414024114608765, 11.489305019378662)\n",
      "True center:  (10.0, 12.0) . Estimated center:  (8.9535051584243774, 11.996841669082642)\n",
      "True center:  (11.0, 14.0) . Estimated center:  (9.6327154636383057, 14.430467128753662)\n",
      "True center:  (14.0, 15.0) . Estimated center:  (13.327037334442139, 14.522750616073608)\n",
      "True center:  (10.0, 8.0) . Estimated center:  (9.9049772024154663, 7.1085655689239502)\n",
      "True center:  (10.0, 12.0) . Estimated center:  (8.9535051584243774, 11.996841669082642)\n",
      "True center:  (6.0, 12.0) . Estimated center:  (7.1651548147201538, 12.312407970428467)\n",
      "True center:  (6.0, 14.0) . Estimated center:  (6.0717127323150635, 12.883208751678467)\n",
      "True center:  (20.0, 12.0) . Estimated center:  (17.046748638153076, 11.802199363708496)\n",
      "True center:  (6.0, 17.0) . Estimated center:  (5.8368992805480957, 15.626909732818604)\n",
      "True center:  (7.0, 9.0) . Estimated center:  (8.3624293804168701, 10.018585443496704)\n",
      "True center:  (18.0, 16.0) . Estimated center:  (17.752452373504639, 15.970000028610229)\n",
      "True center:  (18.0, 15.0) . Estimated center:  (15.879534006118774, 14.198025226593018)\n",
      "True center:  (10.0, 9.0) . Estimated center:  (8.8626978397369385, 9.3422164916992188)\n",
      "True center:  (20.0, 13.0) . Estimated center:  (18.972151517868042, 12.066441059112549)\n",
      "True center:  (9.0, 10.0) . Estimated center:  (10.810722231864929, 9.485227108001709)\n",
      "True center:  (11.0, 18.0) . Estimated center:  (11.466684341430664, 16.38516640663147)\n",
      "True center:  (13.0, 14.0) . Estimated center:  (13.702335476875305, 13.422112941741943)\n",
      "True center:  (18.0, 17.0) . Estimated center:  (17.213925361633301, 16.718299865722656)\n",
      "True center:  (18.0, 13.0) . Estimated center:  (16.169972896575928, 12.901882410049438)\n",
      "True center:  (16.0, 20.0) . Estimated center:  (14.73038387298584, 18.688094615936279)\n",
      "True center:  (17.0, 19.0) . Estimated center:  (16.545652389526367, 18.42744779586792)\n",
      "True center:  (16.0, 17.0) . Estimated center:  (16.54210090637207, 16.516763210296631)\n",
      "True center:  (7.0, 11.0) . Estimated center:  (8.3966140747070312, 11.032410383224487)\n",
      "True center:  (16.0, 17.0) . Estimated center:  (16.54210090637207, 16.516763210296631)\n",
      "True center:  (17.0, 14.0) . Estimated center:  (17.082537174224854, 12.957235813140869)\n",
      "True center:  (10.0, 12.0) . Estimated center:  (8.9535051584243774, 11.996841669082642)\n",
      "True center:  (6.0, 15.0) . Estimated center:  (5.982031524181366, 13.437023162841797)\n",
      "True center:  (9.0, 12.0) . Estimated center:  (8.9728180170059204, 11.670801162719727)\n",
      "True center:  (9.0, 14.0) . Estimated center:  (7.1658624410629272, 13.681139230728149)\n",
      "True center:  (20.0, 9.0) . Estimated center:  (19.466692209243774, 8.4165728092193604)\n",
      "True center:  (14.0, 9.0) . Estimated center:  (12.826032042503357, 9.0707817077636719)\n",
      "True center:  (7.0, 15.0) . Estimated center:  (7.1527262926101685, 14.026382446289062)\n",
      "True center:  (19.0, 12.0) . Estimated center:  (19.414024114608765, 11.489305019378662)\n",
      "True center:  (14.0, 13.0) . Estimated center:  (13.109110951423645, 11.796690225601196)\n",
      "True center:  (11.0, 21.0) . Estimated center:  (9.2493263483047485, 17.894882202148438)\n",
      "True center:  (13.0, 13.0) . Estimated center:  (11.588848352432251, 11.940990924835205)\n",
      "True center:  (11.0, 14.0) . Estimated center:  (9.6327154636383057, 14.430467128753662)\n",
      "True center:  (11.0, 20.0) . Estimated center:  (10.542600274085999, 20.741364240646362)\n",
      "True center:  (19.0, 7.0) . Estimated center:  (19.322601795196533, 6.1689291596412659)\n",
      "True center:  (17.0, 13.0) . Estimated center:  (15.786135673522949, 11.063003540039062)\n",
      "True center:  (19.0, 21.0) . Estimated center:  (17.851376533508301, 19.991298675537109)\n",
      "True center:  (14.0, 16.0) . Estimated center:  (14.87899374961853, 15.178147792816162)\n",
      "True center:  (18.0, 9.0) . Estimated center:  (16.365459680557251, 7.3827123641967773)\n",
      "True center:  (9.0, 18.0) . Estimated center:  (10.254870057106018, 18.636287689208984)\n",
      "True center:  (21.0, 10.0) . Estimated center:  (20.093036651611328, 6.3614072799682617)\n",
      "True center:  (17.0, 8.0) . Estimated center:  (14.021567583084106, 9.5402233600616455)\n",
      "True center:  (8.0, 7.0) . Estimated center:  (7.2808750867843628, 8.4895192384719849)\n",
      "True center:  (6.0, 11.0) . Estimated center:  (6.7809120416641235, 8.6674555540084839)\n",
      "True center:  (7.0, 14.0) . Estimated center:  (7.5503964424133301, 14.80089282989502)\n",
      "True center:  (11.0, 8.0) . Estimated center:  (11.68182361125946, 6.5851857662200928)\n",
      "True center:  (7.0, 15.0) . Estimated center:  (7.1527262926101685, 14.026382446289062)\n",
      "True center:  (12.0, 18.0) . Estimated center:  (11.847582578659058, 16.365426301956177)\n",
      "True center:  (12.0, 13.0) . Estimated center:  (11.457708835601807, 13.088320255279541)\n"
     ]
    }
   ],
   "source": [
    "for i in range(len(testImages)):\n",
    "    testImage = testImagesD[i].copy()\n",
    "    image = testImages[i].reshape((1,784))\n",
    "\n",
    "    #Get the estimate center\n",
    "    estimate = sess.run([y_conv],feed_dict={x:image, keep_prob: 1.0})\n",
    "    #print y_conv\n",
    "    \n",
    "    label = (testLabels[i][0]*pageSize[1],testLabels[i][1]*pageSize[0])\n",
    "    estimate = (estimate[0][0][0]*pageSize[1],estimate[0][0][1]*pageSize[0])\n",
    "    print \"True center: \", label, \". Estimated center: \", estimate\n",
    "    \n",
    "    cv2.rectangle(testImage, (int(estimate[0])-circleSize, int(estimate[1])-circleSize), (int(estimate[0])+circleSize, int(estimate[1])+circleSize), (0, 0, 0), 1)\n",
    "\n",
    "    cv2.namedWindow(\"Image\", cv2.WINDOW_NORMAL)\n",
    "    cv2.imshow(\"Image\", testImage)\n",
    "    cv2.waitKey(0)\n",
    "cv2.destroyWindow()"
   ]
  },
  {
   "cell_type": "code",
   "execution_count": null,
   "metadata": {},
   "outputs": [],
   "source": []
  }
 ],
 "metadata": {
  "kernelspec": {
   "display_name": "Python 2",
   "language": "python",
   "name": "python2"
  },
  "language_info": {
   "codemirror_mode": {
    "name": "ipython",
    "version": 2
   },
   "file_extension": ".py",
   "mimetype": "text/x-python",
   "name": "python",
   "nbconvert_exporter": "python",
   "pygments_lexer": "ipython2",
   "version": "2.7.12"
  }
 },
 "nbformat": 4,
 "nbformat_minor": 1
}
