{
 "cells": [
  {
   "cell_type": "markdown",
   "metadata": {},
   "source": [
    "#  Table detection using a CNN"
   ]
  },
  {
   "cell_type": "code",
   "execution_count": 1,
   "metadata": {},
   "outputs": [],
   "source": [
    "%matplotlib inline\n",
    "import cv2\n",
    "import matplotlib\n",
    "import matplotlib.pyplot as plt\n",
    "import matplotlib.cm as cm\n",
    "import numpy as np\n",
    "import random"
   ]
  },
  {
   "cell_type": "markdown",
   "metadata": {},
   "source": [
    "## Generate data"
   ]
  },
  {
   "cell_type": "code",
   "execution_count": 2,
   "metadata": {},
   "outputs": [],
   "source": [
    "import random\n",
    "def generateData(numImages=1,pageSize=(100,100),circleSize=(5,10)):\n",
    "    imagesDraw = []\n",
    "    imagesCNN = np.zeros((numImages,pageSize[0]*pageSize[1]),dtype=np.float32)\n",
    "    labelsDraw = []\n",
    "    labelsCNN = []\n",
    "\n",
    "    for i in range(numImages):\n",
    "        page = np.full(pageSize, 255, dtype=np.uint8)\n",
    "        \n",
    "        randSize = circleSize[0] + int(random.random()*(circleSize[1]-circleSize[0]+1))\n",
    "        \n",
    "        centreLoc = (randSize+int(random.random()*(pageSize[1]-randSize*2)), randSize+int(random.random()*(pageSize[0]-randSize*2)))\n",
    "        cv2.circle(page, centreLoc,randSize, (0, 0, 255))\n",
    "\n",
    "        imagesDraw.append(page)\n",
    "        imagesCNN[i] = page.reshape(pageSize[0]*pageSize[1])\n",
    "        \n",
    "        recLoc = centreLoc[0]-randSize, centreLoc[1]-randSize, centreLoc[0]+randSize, centreLoc[1]+randSize\n",
    "        \n",
    "        labelsDraw.append((centreLoc,randSize))\n",
    "        labelsCNN.append(recLoc)\n",
    "    imagesCNN /= 255.0\n",
    "    return imagesDraw,imagesCNN,labelsDraw,labelsCNN"
   ]
  },
  {
   "cell_type": "code",
   "execution_count": 3,
   "metadata": {},
   "outputs": [],
   "source": [
    "circleDiam = (10,20)\n",
    "pageSize = (28, 28)\n",
    "\n",
    "circleSize = (int(circleDiam[0]/2),int(circleDiam[1]/2))\n",
    "imagesDraw,imagesCNN,labelsDraw,labelsCNN = generateData(numImages=1000,pageSize=pageSize,circleSize=circleSize) #Do not make this more that around 1000\n",
    "\n",
    "imagesDrawTrain = imagesDraw[:800]\n",
    "imagesCNNTrain = imagesCNN[:800]\n",
    "labelsDrawTrain = labelsDraw[:800]\n",
    "labelsCNNTrain = labelsCNN[:800]\n",
    "\n",
    "imagesDrawTest = imagesDraw[800:]\n",
    "imagesCNNTest = imagesCNN[800:]\n",
    "labelsDrawTest = labelsDraw[800:]\n",
    "labelsCNNTest = labelsCNN[800:]"
   ]
  },
  {
   "cell_type": "markdown",
   "metadata": {},
   "source": [
    "## Display the data (Causes kernel restart)"
   ]
  },
  {
   "cell_type": "raw",
   "metadata": {},
   "source": [
    "for i in range(len(imagesDrawTrain)):\n",
    "    image = imagesDrawTrain[i]\n",
    "    #print labelsCNNTrain[i]\n",
    "    label = labelsDrawTrain[i][0]\n",
    "    size = labelsDrawTrain[i][1]\n",
    "    cv2.rectangle(image, (int(label[0])-size, int(label[1])-size), (int(label[0])+size, int(label[1])+size), (0, 0, 0), 1)\n",
    "\n",
    "    cv2.namedWindow(\"Image\", cv2.WINDOW_NORMAL)\n",
    "    cv2.imshow(\"Image\", image)\n",
    "    cv2.waitKey(0)\n",
    "cv2.destroyWindow()"
   ]
  },
  {
   "cell_type": "code",
   "execution_count": 4,
   "metadata": {},
   "outputs": [],
   "source": [
    "import tensorflow as tf\n",
    "sess = tf.InteractiveSession()"
   ]
  },
  {
   "cell_type": "code",
   "execution_count": 5,
   "metadata": {},
   "outputs": [],
   "source": [
    "x = tf.placeholder(tf.float32, shape=[None, pageSize[0]*pageSize[1]])\n",
    "y_ = tf.placeholder(tf.float32, shape=[None, 4])"
   ]
  },
  {
   "cell_type": "markdown",
   "metadata": {},
   "source": [
    "## Weight Initialization\n",
    "\n",
    "To create this model, we're going to need to create a lot of weights and biases. One should generally initialize weights with a small amount of noise for symmetry breaking, and to prevent 0 gradients. Since we're using ReLU neurons, it is also good practice to initialize them with a slightly positive initial bias to avoid \"dead neurons\". Instead of doing this repeatedly while we build the model, let's create two handy functions to do it for us."
   ]
  },
  {
   "cell_type": "code",
   "execution_count": 6,
   "metadata": {},
   "outputs": [],
   "source": [
    "def weight_variable(shape):\n",
    "    initial = tf.truncated_normal(shape, stddev=0.1)\n",
    "    return tf.Variable(initial)\n",
    "\n",
    "def bias_variable(shape):\n",
    "    initial = tf.constant(0.1, shape=shape)\n",
    "    return tf.Variable(initial)"
   ]
  },
  {
   "cell_type": "markdown",
   "metadata": {},
   "source": [
    "## Convolution and Pooling\n",
    "\n",
    "TensorFlow also gives us a lot of flexibility in convolution and pooling operations. How do we handle the boundaries? What is our stride size? In this example, we're always going to choose the vanilla version. Our convolutions uses a stride of one and are zero padded so that the output is the same size as the input. Our pooling is plain old max pooling over 2x2 blocks. To keep our code cleaner, let's also abstract those operations into functions."
   ]
  },
  {
   "cell_type": "code",
   "execution_count": 7,
   "metadata": {},
   "outputs": [],
   "source": [
    "def conv2d(x, W):\n",
    "  return tf.nn.conv2d(x, W, strides=[1, 1, 1, 1], padding='SAME')\n",
    "\n",
    "def max_pool_2x2(x):\n",
    "  return tf.nn.max_pool(x, ksize=[1, 2, 2, 1],\n",
    "                        strides=[1, 2, 2, 1], padding='SAME')"
   ]
  },
  {
   "cell_type": "markdown",
   "metadata": {},
   "source": [
    "## First convolutional layer\n",
    "\n",
    "We can now implement our first layer. It will consist of convolution, followed by max pooling. The convolutional will compute 32 features for each 5x5 patch. Its weight tensor will have a shape of [5, 5, 1, 32]. The first two dimensions are the patch size, the next is the number of input channels, and the last is the number of output channels. We will also have a bias vector with a component for each output channel."
   ]
  },
  {
   "cell_type": "code",
   "execution_count": 8,
   "metadata": {},
   "outputs": [],
   "source": [
    "W_conv1 = weight_variable([5, 5, 1, 32]) #(window_dim1,window_dim1,input channels,output channels)\n",
    "b_conv1 = bias_variable([32])"
   ]
  },
  {
   "cell_type": "markdown",
   "metadata": {},
   "source": [
    "To apply the layer, we first reshape x to a 4d tensor, with the second and third dimensions corresponding to image width and height, and the final dimension corresponding to the number of color channels.\n",
    "\n",
    "The first dimension is specified as -1 since it will be inferred from the number of images in the batch."
   ]
  },
  {
   "cell_type": "code",
   "execution_count": 9,
   "metadata": {},
   "outputs": [],
   "source": [
    "x_image = tf.reshape(x, [-1,pageSize[0],pageSize[1],1])"
   ]
  },
  {
   "cell_type": "markdown",
   "metadata": {},
   "source": [
    "We then convolve x_image with the weight tensor, add the bias, apply the ReLU function, and finally max pool."
   ]
  },
  {
   "cell_type": "code",
   "execution_count": 10,
   "metadata": {},
   "outputs": [],
   "source": [
    "h_conv1 = tf.nn.relu(conv2d(x_image, W_conv1) + b_conv1)\n",
    "h_pool1 = max_pool_2x2(h_conv1)"
   ]
  },
  {
   "cell_type": "markdown",
   "metadata": {},
   "source": [
    "## Second Convolutional Layer\n",
    "\n",
    "\n",
    "\n",
    "In order to build a deep network, we stack several layers of this type. The second layer will have 64 features for each 5x5 patch."
   ]
  },
  {
   "cell_type": "code",
   "execution_count": 11,
   "metadata": {},
   "outputs": [],
   "source": [
    "W_conv2 = weight_variable([5, 5, 32, 64])\n",
    "b_conv2 = bias_variable([64])\n",
    "\n",
    "h_conv2 = tf.nn.relu(conv2d(h_pool1, W_conv2) + b_conv2)\n",
    "h_pool2 = max_pool_2x2(h_conv2)"
   ]
  },
  {
   "cell_type": "markdown",
   "metadata": {},
   "source": [
    "## Densely Connected Layer\n",
    "\n",
    "Now that the image size has been reduced to 7x7, we add a fully-connected layer with 1024 neurons to allow processing on the entire image. We reshape the tensor from the pooling layer into a batch of vectors, multiply by a weight matrix, add a bias, and apply a ReLU."
   ]
  },
  {
   "cell_type": "code",
   "execution_count": 12,
   "metadata": {},
   "outputs": [],
   "source": [
    "size = 7*7*64\n",
    "W_fc1 = weight_variable([size, 1024])#Was 7*7*64\n",
    "b_fc1 = bias_variable([1024])\n",
    "\n",
    "h_pool2_flat = tf.reshape(h_pool2, [-1, size]) #Was 7*7*64\n",
    "h_fc1 = tf.nn.relu(tf.matmul(h_pool2_flat, W_fc1) + b_fc1)"
   ]
  },
  {
   "cell_type": "markdown",
   "metadata": {},
   "source": [
    "## Dropout\n",
    "\n",
    "To reduce overfitting, we will apply dropout before the readout layer. We create a placeholder for the probability that a neuron's output is kept during dropout. This allows us to turn dropout on during training, and turn it off during testing. TensorFlow's tf.nn.dropout op automatically handles scaling neuron outputs in addition to masking them, so dropout just works without any additional scaling."
   ]
  },
  {
   "cell_type": "code",
   "execution_count": 13,
   "metadata": {},
   "outputs": [],
   "source": [
    "keep_prob = tf.placeholder(tf.float32)\n",
    "h_fc1_drop = tf.nn.dropout(h_fc1, keep_prob)"
   ]
  },
  {
   "cell_type": "markdown",
   "metadata": {},
   "source": [
    "## Readout Layer\n",
    "\n",
    "Finally, we add a softmax layer, just like for the one layer softmax regression above."
   ]
  },
  {
   "cell_type": "code",
   "execution_count": 14,
   "metadata": {},
   "outputs": [],
   "source": [
    "W_fc2 = weight_variable([1024, 4])\n",
    "b_fc2 = bias_variable([4])\n",
    "\n",
    "y_conv=tf.matmul(h_fc1_drop, W_fc2) + b_fc2#tf.nn.softmax(tf.matmul(h_fc1_drop, W_fc2) + b_fc2)"
   ]
  },
  {
   "cell_type": "markdown",
   "metadata": {},
   "source": [
    "## Train and Evaluate the Model\n",
    "\n",
    "How well does this model do? To train and evaluate it we will use code that is nearly identical to that for the simple one layer SoftMax network.\n",
    "\n",
    "The differences are that:\n",
    "\n",
    "We will replace the steepest gradient descent optimizer with the more sophisticated ADAM optimizer.\n",
    "\n",
    "We will include the additional parameter keep_prob in feed_dict to control the dropout rate.\n",
    "\n",
    "We will add logging to every 100th iteration in the training process.\n",
    "\n",
    "Feel free to go ahead and run this code, but it does 20,000 training iterations and may take a while (possibly up to half an hour), depending on your processor.\n",
    "\n"
   ]
  },
  {
   "cell_type": "code",
   "execution_count": null,
   "metadata": {},
   "outputs": [
    {
     "name": "stdout",
     "output_type": "stream",
     "text": [
      "WARNING:tensorflow:From /usr/local/lib/python2.7/dist-packages/tensorflow/python/util/tf_should_use.py:107: initialize_all_variables (from tensorflow.python.ops.variables) is deprecated and will be removed after 2017-03-02.\n",
      "Instructions for updating:\n",
      "Use `tf.global_variables_initializer` instead.\n",
      "step 0, . Average error: 15.8 pixels\n",
      "step 100, . Average error: 2 pixels\n",
      "step 200, . Average error: 0.98 pixels\n",
      "step 300, . Average error: 0.95 pixels\n",
      "step 400, . Average error: 0.65 pixels\n",
      "step 500, . Average error: 0.61 pixels\n",
      "test accuracy 0.582064\n"
     ]
    }
   ],
   "source": [
    "squareError = tf.reduce_sum(tf.pow(y_conv - y_, 2))\n",
    "train_step = tf.train.AdamOptimizer(1e-4).minimize(squareError)\n",
    "accuracy = tf.reduce_mean(tf.abs(y_conv - y_))\n",
    "\n",
    "sess.run(tf.initialize_all_variables())\n",
    "\n",
    "batchSize = 20\n",
    "\n",
    "numBatches = len(imagesCNNTrain)/batchSize\n",
    "\n",
    "for i in range(1000):\n",
    "\n",
    "  lowerLimit = (i%numBatches)*batchSize\n",
    "  upperLimit = (i%numBatches+1)*batchSize\n",
    "\n",
    "  imageBatch = imagesCNNTrain[lowerLimit:upperLimit]\n",
    "  labelBatch = labelsCNNTrain[lowerLimit:upperLimit]\n",
    "  \n",
    "  if i%100 == 0:\n",
    "    #print imageBatch[0]\n",
    "    #print len(imageBatch[0])\n",
    "    #print(len(labelBatch))\n",
    "    train_accuracy = accuracy.eval(feed_dict={x:imageBatch, y_: labelBatch, keep_prob: 1.0})\n",
    "    print(\"step %d, . Average error: %g pixels\"%(i, round(train_accuracy,2)))\n",
    "  train_step.run(feed_dict={x: imageBatch, y_: labelBatch, keep_prob: 0.5})\n",
    "\n",
    "print(\"test accuracy %g\"%accuracy.eval(feed_dict={x: imagesCNNTest, y_: labelsCNNTest, keep_prob: 1.0}))"
   ]
  },
  {
   "cell_type": "markdown",
   "metadata": {},
   "source": [
    "## Evaluate the network using the testing data"
   ]
  },
  {
   "cell_type": "code",
   "execution_count": null,
   "metadata": {},
   "outputs": [
    {
     "name": "stdout",
     "output_type": "stream",
     "text": [
      "True center:  [(2, 2, 22, 22), (11, 8, 25, 22), (5, 7, 17, 19), (2, 6, 18, 22), (11, 12, 25, 26), (6, 13, 20, 27), (11, 15, 23, 27), (0, 4, 10, 14), (8, 3, 26, 21), (6, 7, 18, 19), (8, 6, 22, 20), (6, 17, 16, 27), (13, 15, 25, 27), (6, 4, 18, 16), (0, 3, 16, 19), (0, 8, 16, 24), (6, 14, 16, 24), (0, 4, 20, 24), (6, 4, 18, 16), (11, 11, 21, 21), (15, 15, 27, 27), (0, 1, 20, 21), (0, 12, 10, 22), (5, 11, 21, 27), (4, 5, 22, 23), (2, 14, 14, 26), (6, 2, 24, 20), (5, 0, 25, 20), (7, 1, 19, 13), (12, 2, 24, 14), (1, 6, 13, 18), (5, 4, 25, 24), (4, 0, 22, 18), (4, 11, 20, 27), (9, 7, 25, 23), (6, 10, 22, 26), (7, 14, 17, 24), (6, 7, 26, 27), (10, 12, 22, 24), (1, 9, 15, 23), (9, 4, 21, 16), (12, 11, 26, 25), (9, 5, 19, 15), (8, 9, 26, 27), (0, 5, 20, 25), (8, 2, 24, 18), (8, 5, 26, 23), (0, 12, 14, 26), (6, 1, 24, 19), (0, 2, 18, 20), (4, 8, 22, 26), (4, 6, 18, 20), (5, 5, 25, 25), (3, 7, 13, 17), (0, 1, 16, 17), (3, 10, 19, 26), (15, 8, 25, 18), (8, 5, 22, 19), (10, 10, 26, 26), (2, 6, 18, 22), (10, 14, 22, 26), (5, 7, 15, 17), (0, 1, 10, 11), (4, 11, 18, 25), (7, 9, 19, 21), (3, 8, 13, 18), (7, 5, 23, 21), (6, 10, 22, 26), (3, 5, 23, 25), (2, 3, 20, 21), (8, 1, 20, 13), (0, 6, 20, 26), (0, 8, 14, 22), (7, 1, 25, 19), (2, 1, 16, 15), (6, 9, 24, 27), (8, 8, 26, 26), (0, 9, 18, 27), (4, 6, 24, 26), (3, 13, 17, 27), (3, 12, 15, 24), (0, 3, 16, 19), (2, 12, 14, 24), (1, 6, 11, 16), (1, 15, 11, 25), (4, 2, 20, 18), (15, 2, 27, 14), (1, 9, 19, 27), (4, 0, 24, 20), (6, 2, 26, 22), (1, 8, 13, 20), (6, 4, 24, 22), (5, 8, 23, 26), (14, 3, 24, 13), (5, 5, 25, 25), (2, 0, 18, 16), (11, 6, 27, 22), (9, 13, 21, 25), (11, 0, 27, 16), (5, 8, 23, 26), (3, 3, 23, 23), (4, 16, 14, 26), (0, 2, 20, 22), (10, 12, 22, 24), (9, 2, 23, 16), (1, 13, 13, 25), (7, 14, 17, 24), (9, 6, 19, 16), (5, 8, 17, 20), (11, 11, 23, 23), (7, 0, 27, 20), (0, 7, 18, 25), (4, 10, 20, 26), (6, 6, 24, 24), (7, 7, 27, 27), (4, 12, 18, 26), (3, 11, 17, 25), (14, 7, 24, 17), (10, 7, 26, 23), (6, 4, 18, 16), (2, 3, 16, 17), (13, 5, 27, 19), (1, 8, 19, 26), (2, 0, 22, 20), (7, 5, 25, 23), (2, 11, 14, 23), (1, 1, 21, 21), (0, 2, 20, 22), (6, 1, 18, 13), (2, 2, 20, 20), (9, 5, 23, 19), (4, 8, 20, 24), (5, 7, 25, 27), (16, 3, 26, 13), (7, 7, 27, 27), (4, 3, 18, 17), (0, 7, 20, 27), (8, 5, 24, 21), (3, 0, 23, 20), (2, 3, 12, 13), (1, 3, 21, 23), (11, 9, 23, 21), (8, 7, 20, 19), (7, 6, 23, 22), (3, 3, 23, 23), (0, 12, 10, 22), (5, 4, 23, 22), (5, 2, 21, 18), (0, 1, 20, 21), (13, 16, 23, 26), (1, 4, 15, 18), (0, 6, 14, 20), (5, 0, 25, 20), (0, 7, 20, 27), (1, 5, 19, 23), (6, 11, 22, 27), (13, 1, 25, 13), (0, 9, 18, 27), (4, 9, 20, 25), (1, 4, 21, 24), (4, 9, 18, 23), (1, 0, 21, 20), (4, 16, 14, 26), (4, 11, 20, 27), (1, 5, 13, 17), (11, 4, 27, 20), (0, 2, 18, 20), (1, 3, 19, 21), (1, 0, 21, 20), (13, 4, 25, 16), (0, 9, 18, 27), (15, 4, 27, 16), (8, 0, 26, 18), (7, 2, 25, 20), (1, 11, 17, 27), (11, 6, 23, 18), (0, 6, 18, 24), (12, 12, 22, 22), (4, 1, 24, 21), (8, 12, 18, 22), (10, 7, 22, 19), (3, 9, 19, 25), (5, 7, 23, 25), (13, 13, 23, 23), (4, 5, 24, 25), (3, 14, 15, 26), (7, 4, 21, 18), (11, 2, 25, 16), (9, 3, 25, 19), (1, 2, 15, 16), (10, 8, 26, 24), (1, 2, 19, 20), (5, 2, 17, 14), (3, 4, 15, 16), (8, 13, 18, 23), (6, 10, 20, 24), (5, 12, 15, 22), (2, 7, 20, 25), (4, 0, 22, 18), (7, 5, 17, 15)] . Estimated center:  [  1.30346525   2.05088925  23.1014328   22.27281761]\n",
      "True center:  [(2, 2, 22, 22), (11, 8, 25, 22), (5, 7, 17, 19), (2, 6, 18, 22), (11, 12, 25, 26), (6, 13, 20, 27), (11, 15, 23, 27), (0, 4, 10, 14), (8, 3, 26, 21), (6, 7, 18, 19), (8, 6, 22, 20), (6, 17, 16, 27), (13, 15, 25, 27), (6, 4, 18, 16), (0, 3, 16, 19), (0, 8, 16, 24), (6, 14, 16, 24), (0, 4, 20, 24), (6, 4, 18, 16), (11, 11, 21, 21), (15, 15, 27, 27), (0, 1, 20, 21), (0, 12, 10, 22), (5, 11, 21, 27), (4, 5, 22, 23), (2, 14, 14, 26), (6, 2, 24, 20), (5, 0, 25, 20), (7, 1, 19, 13), (12, 2, 24, 14), (1, 6, 13, 18), (5, 4, 25, 24), (4, 0, 22, 18), (4, 11, 20, 27), (9, 7, 25, 23), (6, 10, 22, 26), (7, 14, 17, 24), (6, 7, 26, 27), (10, 12, 22, 24), (1, 9, 15, 23), (9, 4, 21, 16), (12, 11, 26, 25), (9, 5, 19, 15), (8, 9, 26, 27), (0, 5, 20, 25), (8, 2, 24, 18), (8, 5, 26, 23), (0, 12, 14, 26), (6, 1, 24, 19), (0, 2, 18, 20), (4, 8, 22, 26), (4, 6, 18, 20), (5, 5, 25, 25), (3, 7, 13, 17), (0, 1, 16, 17), (3, 10, 19, 26), (15, 8, 25, 18), (8, 5, 22, 19), (10, 10, 26, 26), (2, 6, 18, 22), (10, 14, 22, 26), (5, 7, 15, 17), (0, 1, 10, 11), (4, 11, 18, 25), (7, 9, 19, 21), (3, 8, 13, 18), (7, 5, 23, 21), (6, 10, 22, 26), (3, 5, 23, 25), (2, 3, 20, 21), (8, 1, 20, 13), (0, 6, 20, 26), (0, 8, 14, 22), (7, 1, 25, 19), (2, 1, 16, 15), (6, 9, 24, 27), (8, 8, 26, 26), (0, 9, 18, 27), (4, 6, 24, 26), (3, 13, 17, 27), (3, 12, 15, 24), (0, 3, 16, 19), (2, 12, 14, 24), (1, 6, 11, 16), (1, 15, 11, 25), (4, 2, 20, 18), (15, 2, 27, 14), (1, 9, 19, 27), (4, 0, 24, 20), (6, 2, 26, 22), (1, 8, 13, 20), (6, 4, 24, 22), (5, 8, 23, 26), (14, 3, 24, 13), (5, 5, 25, 25), (2, 0, 18, 16), (11, 6, 27, 22), (9, 13, 21, 25), (11, 0, 27, 16), (5, 8, 23, 26), (3, 3, 23, 23), (4, 16, 14, 26), (0, 2, 20, 22), (10, 12, 22, 24), (9, 2, 23, 16), (1, 13, 13, 25), (7, 14, 17, 24), (9, 6, 19, 16), (5, 8, 17, 20), (11, 11, 23, 23), (7, 0, 27, 20), (0, 7, 18, 25), (4, 10, 20, 26), (6, 6, 24, 24), (7, 7, 27, 27), (4, 12, 18, 26), (3, 11, 17, 25), (14, 7, 24, 17), (10, 7, 26, 23), (6, 4, 18, 16), (2, 3, 16, 17), (13, 5, 27, 19), (1, 8, 19, 26), (2, 0, 22, 20), (7, 5, 25, 23), (2, 11, 14, 23), (1, 1, 21, 21), (0, 2, 20, 22), (6, 1, 18, 13), (2, 2, 20, 20), (9, 5, 23, 19), (4, 8, 20, 24), (5, 7, 25, 27), (16, 3, 26, 13), (7, 7, 27, 27), (4, 3, 18, 17), (0, 7, 20, 27), (8, 5, 24, 21), (3, 0, 23, 20), (2, 3, 12, 13), (1, 3, 21, 23), (11, 9, 23, 21), (8, 7, 20, 19), (7, 6, 23, 22), (3, 3, 23, 23), (0, 12, 10, 22), (5, 4, 23, 22), (5, 2, 21, 18), (0, 1, 20, 21), (13, 16, 23, 26), (1, 4, 15, 18), (0, 6, 14, 20), (5, 0, 25, 20), (0, 7, 20, 27), (1, 5, 19, 23), (6, 11, 22, 27), (13, 1, 25, 13), (0, 9, 18, 27), (4, 9, 20, 25), (1, 4, 21, 24), (4, 9, 18, 23), (1, 0, 21, 20), (4, 16, 14, 26), (4, 11, 20, 27), (1, 5, 13, 17), (11, 4, 27, 20), (0, 2, 18, 20), (1, 3, 19, 21), (1, 0, 21, 20), (13, 4, 25, 16), (0, 9, 18, 27), (15, 4, 27, 16), (8, 0, 26, 18), (7, 2, 25, 20), (1, 11, 17, 27), (11, 6, 23, 18), (0, 6, 18, 24), (12, 12, 22, 22), (4, 1, 24, 21), (8, 12, 18, 22), (10, 7, 22, 19), (3, 9, 19, 25), (5, 7, 23, 25), (13, 13, 23, 23), (4, 5, 24, 25), (3, 14, 15, 26), (7, 4, 21, 18), (11, 2, 25, 16), (9, 3, 25, 19), (1, 2, 15, 16), (10, 8, 26, 24), (1, 2, 19, 20), (5, 2, 17, 14), (3, 4, 15, 16), (8, 13, 18, 23), (6, 10, 20, 24), (5, 12, 15, 22), (2, 7, 20, 25), (4, 0, 22, 18), (7, 5, 17, 15)] . Estimated center:  [ 11.05564976   8.106493    25.24946976  22.73351669]\n",
      "True center:  [(2, 2, 22, 22), (11, 8, 25, 22), (5, 7, 17, 19), (2, 6, 18, 22), (11, 12, 25, 26), (6, 13, 20, 27), (11, 15, 23, 27), (0, 4, 10, 14), (8, 3, 26, 21), (6, 7, 18, 19), (8, 6, 22, 20), (6, 17, 16, 27), (13, 15, 25, 27), (6, 4, 18, 16), (0, 3, 16, 19), (0, 8, 16, 24), (6, 14, 16, 24), (0, 4, 20, 24), (6, 4, 18, 16), (11, 11, 21, 21), (15, 15, 27, 27), (0, 1, 20, 21), (0, 12, 10, 22), (5, 11, 21, 27), (4, 5, 22, 23), (2, 14, 14, 26), (6, 2, 24, 20), (5, 0, 25, 20), (7, 1, 19, 13), (12, 2, 24, 14), (1, 6, 13, 18), (5, 4, 25, 24), (4, 0, 22, 18), (4, 11, 20, 27), (9, 7, 25, 23), (6, 10, 22, 26), (7, 14, 17, 24), (6, 7, 26, 27), (10, 12, 22, 24), (1, 9, 15, 23), (9, 4, 21, 16), (12, 11, 26, 25), (9, 5, 19, 15), (8, 9, 26, 27), (0, 5, 20, 25), (8, 2, 24, 18), (8, 5, 26, 23), (0, 12, 14, 26), (6, 1, 24, 19), (0, 2, 18, 20), (4, 8, 22, 26), (4, 6, 18, 20), (5, 5, 25, 25), (3, 7, 13, 17), (0, 1, 16, 17), (3, 10, 19, 26), (15, 8, 25, 18), (8, 5, 22, 19), (10, 10, 26, 26), (2, 6, 18, 22), (10, 14, 22, 26), (5, 7, 15, 17), (0, 1, 10, 11), (4, 11, 18, 25), (7, 9, 19, 21), (3, 8, 13, 18), (7, 5, 23, 21), (6, 10, 22, 26), (3, 5, 23, 25), (2, 3, 20, 21), (8, 1, 20, 13), (0, 6, 20, 26), (0, 8, 14, 22), (7, 1, 25, 19), (2, 1, 16, 15), (6, 9, 24, 27), (8, 8, 26, 26), (0, 9, 18, 27), (4, 6, 24, 26), (3, 13, 17, 27), (3, 12, 15, 24), (0, 3, 16, 19), (2, 12, 14, 24), (1, 6, 11, 16), (1, 15, 11, 25), (4, 2, 20, 18), (15, 2, 27, 14), (1, 9, 19, 27), (4, 0, 24, 20), (6, 2, 26, 22), (1, 8, 13, 20), (6, 4, 24, 22), (5, 8, 23, 26), (14, 3, 24, 13), (5, 5, 25, 25), (2, 0, 18, 16), (11, 6, 27, 22), (9, 13, 21, 25), (11, 0, 27, 16), (5, 8, 23, 26), (3, 3, 23, 23), (4, 16, 14, 26), (0, 2, 20, 22), (10, 12, 22, 24), (9, 2, 23, 16), (1, 13, 13, 25), (7, 14, 17, 24), (9, 6, 19, 16), (5, 8, 17, 20), (11, 11, 23, 23), (7, 0, 27, 20), (0, 7, 18, 25), (4, 10, 20, 26), (6, 6, 24, 24), (7, 7, 27, 27), (4, 12, 18, 26), (3, 11, 17, 25), (14, 7, 24, 17), (10, 7, 26, 23), (6, 4, 18, 16), (2, 3, 16, 17), (13, 5, 27, 19), (1, 8, 19, 26), (2, 0, 22, 20), (7, 5, 25, 23), (2, 11, 14, 23), (1, 1, 21, 21), (0, 2, 20, 22), (6, 1, 18, 13), (2, 2, 20, 20), (9, 5, 23, 19), (4, 8, 20, 24), (5, 7, 25, 27), (16, 3, 26, 13), (7, 7, 27, 27), (4, 3, 18, 17), (0, 7, 20, 27), (8, 5, 24, 21), (3, 0, 23, 20), (2, 3, 12, 13), (1, 3, 21, 23), (11, 9, 23, 21), (8, 7, 20, 19), (7, 6, 23, 22), (3, 3, 23, 23), (0, 12, 10, 22), (5, 4, 23, 22), (5, 2, 21, 18), (0, 1, 20, 21), (13, 16, 23, 26), (1, 4, 15, 18), (0, 6, 14, 20), (5, 0, 25, 20), (0, 7, 20, 27), (1, 5, 19, 23), (6, 11, 22, 27), (13, 1, 25, 13), (0, 9, 18, 27), (4, 9, 20, 25), (1, 4, 21, 24), (4, 9, 18, 23), (1, 0, 21, 20), (4, 16, 14, 26), (4, 11, 20, 27), (1, 5, 13, 17), (11, 4, 27, 20), (0, 2, 18, 20), (1, 3, 19, 21), (1, 0, 21, 20), (13, 4, 25, 16), (0, 9, 18, 27), (15, 4, 27, 16), (8, 0, 26, 18), (7, 2, 25, 20), (1, 11, 17, 27), (11, 6, 23, 18), (0, 6, 18, 24), (12, 12, 22, 22), (4, 1, 24, 21), (8, 12, 18, 22), (10, 7, 22, 19), (3, 9, 19, 25), (5, 7, 23, 25), (13, 13, 23, 23), (4, 5, 24, 25), (3, 14, 15, 26), (7, 4, 21, 18), (11, 2, 25, 16), (9, 3, 25, 19), (1, 2, 15, 16), (10, 8, 26, 24), (1, 2, 19, 20), (5, 2, 17, 14), (3, 4, 15, 16), (8, 13, 18, 23), (6, 10, 20, 24), (5, 12, 15, 22), (2, 7, 20, 25), (4, 0, 22, 18), (7, 5, 17, 15)] . Estimated center:  [  5.02529621   7.05207777  16.79174232  19.43168259]\n"
     ]
    },
    {
     "name": "stdout",
     "output_type": "stream",
     "text": [
      "True center:  [(2, 2, 22, 22), (11, 8, 25, 22), (5, 7, 17, 19), (2, 6, 18, 22), (11, 12, 25, 26), (6, 13, 20, 27), (11, 15, 23, 27), (0, 4, 10, 14), (8, 3, 26, 21), (6, 7, 18, 19), (8, 6, 22, 20), (6, 17, 16, 27), (13, 15, 25, 27), (6, 4, 18, 16), (0, 3, 16, 19), (0, 8, 16, 24), (6, 14, 16, 24), (0, 4, 20, 24), (6, 4, 18, 16), (11, 11, 21, 21), (15, 15, 27, 27), (0, 1, 20, 21), (0, 12, 10, 22), (5, 11, 21, 27), (4, 5, 22, 23), (2, 14, 14, 26), (6, 2, 24, 20), (5, 0, 25, 20), (7, 1, 19, 13), (12, 2, 24, 14), (1, 6, 13, 18), (5, 4, 25, 24), (4, 0, 22, 18), (4, 11, 20, 27), (9, 7, 25, 23), (6, 10, 22, 26), (7, 14, 17, 24), (6, 7, 26, 27), (10, 12, 22, 24), (1, 9, 15, 23), (9, 4, 21, 16), (12, 11, 26, 25), (9, 5, 19, 15), (8, 9, 26, 27), (0, 5, 20, 25), (8, 2, 24, 18), (8, 5, 26, 23), (0, 12, 14, 26), (6, 1, 24, 19), (0, 2, 18, 20), (4, 8, 22, 26), (4, 6, 18, 20), (5, 5, 25, 25), (3, 7, 13, 17), (0, 1, 16, 17), (3, 10, 19, 26), (15, 8, 25, 18), (8, 5, 22, 19), (10, 10, 26, 26), (2, 6, 18, 22), (10, 14, 22, 26), (5, 7, 15, 17), (0, 1, 10, 11), (4, 11, 18, 25), (7, 9, 19, 21), (3, 8, 13, 18), (7, 5, 23, 21), (6, 10, 22, 26), (3, 5, 23, 25), (2, 3, 20, 21), (8, 1, 20, 13), (0, 6, 20, 26), (0, 8, 14, 22), (7, 1, 25, 19), (2, 1, 16, 15), (6, 9, 24, 27), (8, 8, 26, 26), (0, 9, 18, 27), (4, 6, 24, 26), (3, 13, 17, 27), (3, 12, 15, 24), (0, 3, 16, 19), (2, 12, 14, 24), (1, 6, 11, 16), (1, 15, 11, 25), (4, 2, 20, 18), (15, 2, 27, 14), (1, 9, 19, 27), (4, 0, 24, 20), (6, 2, 26, 22), (1, 8, 13, 20), (6, 4, 24, 22), (5, 8, 23, 26), (14, 3, 24, 13), (5, 5, 25, 25), (2, 0, 18, 16), (11, 6, 27, 22), (9, 13, 21, 25), (11, 0, 27, 16), (5, 8, 23, 26), (3, 3, 23, 23), (4, 16, 14, 26), (0, 2, 20, 22), (10, 12, 22, 24), (9, 2, 23, 16), (1, 13, 13, 25), (7, 14, 17, 24), (9, 6, 19, 16), (5, 8, 17, 20), (11, 11, 23, 23), (7, 0, 27, 20), (0, 7, 18, 25), (4, 10, 20, 26), (6, 6, 24, 24), (7, 7, 27, 27), (4, 12, 18, 26), (3, 11, 17, 25), (14, 7, 24, 17), (10, 7, 26, 23), (6, 4, 18, 16), (2, 3, 16, 17), (13, 5, 27, 19), (1, 8, 19, 26), (2, 0, 22, 20), (7, 5, 25, 23), (2, 11, 14, 23), (1, 1, 21, 21), (0, 2, 20, 22), (6, 1, 18, 13), (2, 2, 20, 20), (9, 5, 23, 19), (4, 8, 20, 24), (5, 7, 25, 27), (16, 3, 26, 13), (7, 7, 27, 27), (4, 3, 18, 17), (0, 7, 20, 27), (8, 5, 24, 21), (3, 0, 23, 20), (2, 3, 12, 13), (1, 3, 21, 23), (11, 9, 23, 21), (8, 7, 20, 19), (7, 6, 23, 22), (3, 3, 23, 23), (0, 12, 10, 22), (5, 4, 23, 22), (5, 2, 21, 18), (0, 1, 20, 21), (13, 16, 23, 26), (1, 4, 15, 18), (0, 6, 14, 20), (5, 0, 25, 20), (0, 7, 20, 27), (1, 5, 19, 23), (6, 11, 22, 27), (13, 1, 25, 13), (0, 9, 18, 27), (4, 9, 20, 25), (1, 4, 21, 24), (4, 9, 18, 23), (1, 0, 21, 20), (4, 16, 14, 26), (4, 11, 20, 27), (1, 5, 13, 17), (11, 4, 27, 20), (0, 2, 18, 20), (1, 3, 19, 21), (1, 0, 21, 20), (13, 4, 25, 16), (0, 9, 18, 27), (15, 4, 27, 16), (8, 0, 26, 18), (7, 2, 25, 20), (1, 11, 17, 27), (11, 6, 23, 18), (0, 6, 18, 24), (12, 12, 22, 22), (4, 1, 24, 21), (8, 12, 18, 22), (10, 7, 22, 19), (3, 9, 19, 25), (5, 7, 23, 25), (13, 13, 23, 23), (4, 5, 24, 25), (3, 14, 15, 26), (7, 4, 21, 18), (11, 2, 25, 16), (9, 3, 25, 19), (1, 2, 15, 16), (10, 8, 26, 24), (1, 2, 19, 20), (5, 2, 17, 14), (3, 4, 15, 16), (8, 13, 18, 23), (6, 10, 20, 24), (5, 12, 15, 22), (2, 7, 20, 25), (4, 0, 22, 18), (7, 5, 17, 15)] . Estimated center:  [  1.99399769   6.41563892  18.04140663  22.28691292]\n",
      "True center:  [(2, 2, 22, 22), (11, 8, 25, 22), (5, 7, 17, 19), (2, 6, 18, 22), (11, 12, 25, 26), (6, 13, 20, 27), (11, 15, 23, 27), (0, 4, 10, 14), (8, 3, 26, 21), (6, 7, 18, 19), (8, 6, 22, 20), (6, 17, 16, 27), (13, 15, 25, 27), (6, 4, 18, 16), (0, 3, 16, 19), (0, 8, 16, 24), (6, 14, 16, 24), (0, 4, 20, 24), (6, 4, 18, 16), (11, 11, 21, 21), (15, 15, 27, 27), (0, 1, 20, 21), (0, 12, 10, 22), (5, 11, 21, 27), (4, 5, 22, 23), (2, 14, 14, 26), (6, 2, 24, 20), (5, 0, 25, 20), (7, 1, 19, 13), (12, 2, 24, 14), (1, 6, 13, 18), (5, 4, 25, 24), (4, 0, 22, 18), (4, 11, 20, 27), (9, 7, 25, 23), (6, 10, 22, 26), (7, 14, 17, 24), (6, 7, 26, 27), (10, 12, 22, 24), (1, 9, 15, 23), (9, 4, 21, 16), (12, 11, 26, 25), (9, 5, 19, 15), (8, 9, 26, 27), (0, 5, 20, 25), (8, 2, 24, 18), (8, 5, 26, 23), (0, 12, 14, 26), (6, 1, 24, 19), (0, 2, 18, 20), (4, 8, 22, 26), (4, 6, 18, 20), (5, 5, 25, 25), (3, 7, 13, 17), (0, 1, 16, 17), (3, 10, 19, 26), (15, 8, 25, 18), (8, 5, 22, 19), (10, 10, 26, 26), (2, 6, 18, 22), (10, 14, 22, 26), (5, 7, 15, 17), (0, 1, 10, 11), (4, 11, 18, 25), (7, 9, 19, 21), (3, 8, 13, 18), (7, 5, 23, 21), (6, 10, 22, 26), (3, 5, 23, 25), (2, 3, 20, 21), (8, 1, 20, 13), (0, 6, 20, 26), (0, 8, 14, 22), (7, 1, 25, 19), (2, 1, 16, 15), (6, 9, 24, 27), (8, 8, 26, 26), (0, 9, 18, 27), (4, 6, 24, 26), (3, 13, 17, 27), (3, 12, 15, 24), (0, 3, 16, 19), (2, 12, 14, 24), (1, 6, 11, 16), (1, 15, 11, 25), (4, 2, 20, 18), (15, 2, 27, 14), (1, 9, 19, 27), (4, 0, 24, 20), (6, 2, 26, 22), (1, 8, 13, 20), (6, 4, 24, 22), (5, 8, 23, 26), (14, 3, 24, 13), (5, 5, 25, 25), (2, 0, 18, 16), (11, 6, 27, 22), (9, 13, 21, 25), (11, 0, 27, 16), (5, 8, 23, 26), (3, 3, 23, 23), (4, 16, 14, 26), (0, 2, 20, 22), (10, 12, 22, 24), (9, 2, 23, 16), (1, 13, 13, 25), (7, 14, 17, 24), (9, 6, 19, 16), (5, 8, 17, 20), (11, 11, 23, 23), (7, 0, 27, 20), (0, 7, 18, 25), (4, 10, 20, 26), (6, 6, 24, 24), (7, 7, 27, 27), (4, 12, 18, 26), (3, 11, 17, 25), (14, 7, 24, 17), (10, 7, 26, 23), (6, 4, 18, 16), (2, 3, 16, 17), (13, 5, 27, 19), (1, 8, 19, 26), (2, 0, 22, 20), (7, 5, 25, 23), (2, 11, 14, 23), (1, 1, 21, 21), (0, 2, 20, 22), (6, 1, 18, 13), (2, 2, 20, 20), (9, 5, 23, 19), (4, 8, 20, 24), (5, 7, 25, 27), (16, 3, 26, 13), (7, 7, 27, 27), (4, 3, 18, 17), (0, 7, 20, 27), (8, 5, 24, 21), (3, 0, 23, 20), (2, 3, 12, 13), (1, 3, 21, 23), (11, 9, 23, 21), (8, 7, 20, 19), (7, 6, 23, 22), (3, 3, 23, 23), (0, 12, 10, 22), (5, 4, 23, 22), (5, 2, 21, 18), (0, 1, 20, 21), (13, 16, 23, 26), (1, 4, 15, 18), (0, 6, 14, 20), (5, 0, 25, 20), (0, 7, 20, 27), (1, 5, 19, 23), (6, 11, 22, 27), (13, 1, 25, 13), (0, 9, 18, 27), (4, 9, 20, 25), (1, 4, 21, 24), (4, 9, 18, 23), (1, 0, 21, 20), (4, 16, 14, 26), (4, 11, 20, 27), (1, 5, 13, 17), (11, 4, 27, 20), (0, 2, 18, 20), (1, 3, 19, 21), (1, 0, 21, 20), (13, 4, 25, 16), (0, 9, 18, 27), (15, 4, 27, 16), (8, 0, 26, 18), (7, 2, 25, 20), (1, 11, 17, 27), (11, 6, 23, 18), (0, 6, 18, 24), (12, 12, 22, 22), (4, 1, 24, 21), (8, 12, 18, 22), (10, 7, 22, 19), (3, 9, 19, 25), (5, 7, 23, 25), (13, 13, 23, 23), (4, 5, 24, 25), (3, 14, 15, 26), (7, 4, 21, 18), (11, 2, 25, 16), (9, 3, 25, 19), (1, 2, 15, 16), (10, 8, 26, 24), (1, 2, 19, 20), (5, 2, 17, 14), (3, 4, 15, 16), (8, 13, 18, 23), (6, 10, 20, 24), (5, 12, 15, 22), (2, 7, 20, 25), (4, 0, 22, 18), (7, 5, 17, 15)] . Estimated center:  [ 12.27295303  13.09638309  25.46152687  26.842062  ]\n"
     ]
    }
   ],
   "source": [
    "#imagesDrawTest\n",
    "#imagesCNNTest\n",
    "#labelsDrawTest\n",
    "#labelsCNNTest\n",
    "\n",
    "for i in range(len(imagesCNNTest)):\n",
    "    image = imagesCNNTest[i].copy().reshape((1,784))\n",
    "\n",
    "    #Get the estimate center\n",
    "    estimate = sess.run([y_conv],feed_dict={x:image, keep_prob: 1.0})\n",
    "    #print y_conv\n",
    "\n",
    "    estimate = estimate[0][0]\n",
    "    print \"True center: \", labelsCNNTest, \". Estimated center: \", estimate\n",
    "    \n",
    "    cv2.rectangle(imagesDrawTest[i], (int(estimate[0]), int(estimate[1])), (int(estimate[2]), int(estimate[3])), (0, 0, 0), 1)\n",
    "\n",
    "    cv2.namedWindow(\"Image\", cv2.WINDOW_NORMAL)\n",
    "    cv2.imshow(\"Image\", imagesDrawTest[i])\n",
    "    cv2.waitKey(0)\n",
    "cv2.destroyWindow()"
   ]
  },
  {
   "cell_type": "code",
   "execution_count": null,
   "metadata": {},
   "outputs": [],
   "source": []
  }
 ],
 "metadata": {
  "kernelspec": {
   "display_name": "Python 2",
   "language": "python",
   "name": "python2"
  },
  "language_info": {
   "codemirror_mode": {
    "name": "ipython",
    "version": 2
   },
   "file_extension": ".py",
   "mimetype": "text/x-python",
   "name": "python",
   "nbconvert_exporter": "python",
   "pygments_lexer": "ipython2",
   "version": "2.7.12"
  }
 },
 "nbformat": 4,
 "nbformat_minor": 1
}
