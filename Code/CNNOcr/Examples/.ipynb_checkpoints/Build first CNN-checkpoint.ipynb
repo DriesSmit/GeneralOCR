{
 "cells": [
  {
   "cell_type": "markdown",
   "metadata": {},
   "source": [
    "#  Table detection using a CNN"
   ]
  },
  {
   "cell_type": "code",
   "execution_count": 1,
   "metadata": {},
   "outputs": [],
   "source": [
    "%matplotlib inline\n",
    "import cv2\n",
    "import matplotlib\n",
    "import matplotlib.pyplot as plt\n",
    "import matplotlib.cm as cm\n",
    "import numpy as np\n",
    "import random"
   ]
  },
  {
   "cell_type": "markdown",
   "metadata": {},
   "source": [
    "## Generate data"
   ]
  },
  {
   "cell_type": "code",
   "execution_count": 2,
   "metadata": {},
   "outputs": [],
   "source": [
    "def generateData(numImages=1,pageSize=(100,100),circleSize=10):\n",
    "    images = []\n",
    "    images1D = np.zeros((numImages,pageSize[0]*pageSize[1]),dtype=np.float32)\n",
    "    labels = []\n",
    "\n",
    "    for i in range(numImages):\n",
    "        page = np.full(pageSize, 255, dtype=np.uint8)\n",
    "\n",
    "        location = (circleSize+int(random.random()*(pageSize[1]-circleSize*2)), circleSize+int(random.random()*(pageSize[0]-circleSize*2)))\n",
    "        cv2.circle(page, location,circleSize, (0, 0, 255))\n",
    "\n",
    "        images.append(page)\n",
    "        images1D[i] = page.reshape(pageSize[0]*pageSize[1])\n",
    "        labels.append((location))\n",
    "    images1D /= 255.0\n",
    "    return images, labels,images1D"
   ]
  },
  {
   "cell_type": "code",
   "execution_count": 3,
   "metadata": {},
   "outputs": [],
   "source": [
    "circleSize = 6\n",
    "pageSize = (28, 28)\n",
    "\n",
    "images, labels,images1D = generateData(numImages=1000,pageSize=pageSize,circleSize=circleSize) #Do not make this more that around 1000\n",
    "\n",
    "trainImages = images1D[:800]\n",
    "trainImagesD = images[:800]\n",
    "\n",
    "testImages = images1D[800:]\n",
    "testImagesD = images[800:]\n",
    "\n",
    "trainLabels = labels[:800]\n",
    "testLabels = labels[800:]"
   ]
  },
  {
   "cell_type": "markdown",
   "metadata": {},
   "source": [
    "## Display the data (Causes kernel restart)"
   ]
  },
  {
   "cell_type": "raw",
   "metadata": {},
   "source": [
    "for i in range(len(images)):\n",
    "    image = images[i]\n",
    "    label = (labels[i][0]*pageSize[1],labels[i][1]*pageSize[0])\n",
    "    print label\n",
    "    cv2.rectangle(image, (int(label[0])-circleSize, int(label[1])-circleSize), (int(label[0])+circleSize, int(label[1])+circleSize), (0, 0, 0), 1)\n",
    "\n",
    "    cv2.namedWindow(\"Image\", cv2.WINDOW_NORMAL)\n",
    "    cv2.imshow(\"Image\", image)\n",
    "    cv2.waitKey(0)\n",
    "cv2.destroyWindow()"
   ]
  },
  {
   "cell_type": "code",
   "execution_count": 4,
   "metadata": {},
   "outputs": [],
   "source": [
    "import tensorflow as tf\n",
    "sess = tf.InteractiveSession()"
   ]
  },
  {
   "cell_type": "code",
   "execution_count": 5,
   "metadata": {},
   "outputs": [],
   "source": [
    "x = tf.placeholder(tf.float32, shape=[None, pageSize[0]*pageSize[1]])\n",
    "y_ = tf.placeholder(tf.float32, shape=[None, 2])"
   ]
  },
  {
   "cell_type": "markdown",
   "metadata": {},
   "source": [
    "## Weight Initialization\n",
    "\n",
    "To create this model, we're going to need to create a lot of weights and biases. One should generally initialize weights with a small amount of noise for symmetry breaking, and to prevent 0 gradients. Since we're using ReLU neurons, it is also good practice to initialize them with a slightly positive initial bias to avoid \"dead neurons\". Instead of doing this repeatedly while we build the model, let's create two handy functions to do it for us."
   ]
  },
  {
   "cell_type": "code",
   "execution_count": 6,
   "metadata": {},
   "outputs": [],
   "source": [
    "def weight_variable(shape):\n",
    "    initial = tf.truncated_normal(shape, stddev=0.1)\n",
    "    return tf.Variable(initial)\n",
    "\n",
    "def bias_variable(shape):\n",
    "    initial = tf.constant(0.1, shape=shape)\n",
    "    return tf.Variable(initial)"
   ]
  },
  {
   "cell_type": "markdown",
   "metadata": {},
   "source": [
    "## Convolution and Pooling\n",
    "\n",
    "TensorFlow also gives us a lot of flexibility in convolution and pooling operations. How do we handle the boundaries? What is our stride size? In this example, we're always going to choose the vanilla version. Our convolutions uses a stride of one and are zero padded so that the output is the same size as the input. Our pooling is plain old max pooling over 2x2 blocks. To keep our code cleaner, let's also abstract those operations into functions."
   ]
  },
  {
   "cell_type": "code",
   "execution_count": 7,
   "metadata": {},
   "outputs": [],
   "source": [
    "def conv2d(x, W):\n",
    "  return tf.nn.conv2d(x, W, strides=[1, 1, 1, 1], padding='SAME')\n",
    "\n",
    "def max_pool_2x2(x):\n",
    "  return tf.nn.max_pool(x, ksize=[1, 2, 2, 1],\n",
    "                        strides=[1, 2, 2, 1], padding='SAME')"
   ]
  },
  {
   "cell_type": "markdown",
   "metadata": {},
   "source": [
    "## First convolutional layer\n",
    "\n",
    "We can now implement our first layer. It will consist of convolution, followed by max pooling. The convolutional will compute 32 features for each 5x5 patch. Its weight tensor will have a shape of [5, 5, 1, 32]. The first two dimensions are the patch size, the next is the number of input channels, and the last is the number of output channels. We will also have a bias vector with a component for each output channel."
   ]
  },
  {
   "cell_type": "code",
   "execution_count": 8,
   "metadata": {},
   "outputs": [],
   "source": [
    "W_conv1 = weight_variable([5, 5, 1, 32]) #(window_dim1,window_dim1,input channels,output channels)\n",
    "b_conv1 = bias_variable([32])"
   ]
  },
  {
   "cell_type": "markdown",
   "metadata": {},
   "source": [
    "To apply the layer, we first reshape x to a 4d tensor, with the second and third dimensions corresponding to image width and height, and the final dimension corresponding to the number of color channels.\n",
    "\n",
    "The first dimension is specified as -1 since it will be inferred from the number of images in the batch."
   ]
  },
  {
   "cell_type": "code",
   "execution_count": 9,
   "metadata": {},
   "outputs": [],
   "source": [
    "x_image = tf.reshape(x, [-1,pageSize[0],pageSize[1],1])"
   ]
  },
  {
   "cell_type": "markdown",
   "metadata": {},
   "source": [
    "We then convolve x_image with the weight tensor, add the bias, apply the ReLU function, and finally max pool."
   ]
  },
  {
   "cell_type": "code",
   "execution_count": 10,
   "metadata": {},
   "outputs": [],
   "source": [
    "h_conv1 = tf.nn.relu(conv2d(x_image, W_conv1) + b_conv1)\n",
    "h_pool1 = max_pool_2x2(h_conv1)"
   ]
  },
  {
   "cell_type": "markdown",
   "metadata": {},
   "source": [
    "## Second Convolutional Layer\n",
    "\n",
    "\n",
    "\n",
    "In order to build a deep network, we stack several layers of this type. The second layer will have 64 features for each 5x5 patch."
   ]
  },
  {
   "cell_type": "code",
   "execution_count": 11,
   "metadata": {},
   "outputs": [],
   "source": [
    "W_conv2 = weight_variable([5, 5, 32, 64])\n",
    "b_conv2 = bias_variable([64])\n",
    "\n",
    "h_conv2 = tf.nn.relu(conv2d(h_pool1, W_conv2) + b_conv2)\n",
    "h_pool2 = max_pool_2x2(h_conv2)"
   ]
  },
  {
   "cell_type": "markdown",
   "metadata": {},
   "source": [
    "## Densely Connected Layer\n",
    "\n",
    "Now that the image size has been reduced to 7x7, we add a fully-connected layer with 1024 neurons to allow processing on the entire image. We reshape the tensor from the pooling layer into a batch of vectors, multiply by a weight matrix, add a bias, and apply a ReLU."
   ]
  },
  {
   "cell_type": "code",
   "execution_count": 12,
   "metadata": {},
   "outputs": [],
   "source": [
    "size = 7*7*64\n",
    "W_fc1 = weight_variable([size, 1024])#Was 7*7*64\n",
    "b_fc1 = bias_variable([1024])\n",
    "\n",
    "h_pool2_flat = tf.reshape(h_pool2, [-1, size]) #Was 7*7*64\n",
    "h_fc1 = tf.nn.relu(tf.matmul(h_pool2_flat, W_fc1) + b_fc1)"
   ]
  },
  {
   "cell_type": "markdown",
   "metadata": {},
   "source": [
    "## Dropout\n",
    "\n",
    "To reduce overfitting, we will apply dropout before the readout layer. We create a placeholder for the probability that a neuron's output is kept during dropout. This allows us to turn dropout on during training, and turn it off during testing. TensorFlow's tf.nn.dropout op automatically handles scaling neuron outputs in addition to masking them, so dropout just works without any additional scaling."
   ]
  },
  {
   "cell_type": "code",
   "execution_count": 13,
   "metadata": {},
   "outputs": [],
   "source": [
    "keep_prob = tf.placeholder(tf.float32)\n",
    "h_fc1_drop = tf.nn.dropout(h_fc1, keep_prob)"
   ]
  },
  {
   "cell_type": "markdown",
   "metadata": {},
   "source": [
    "## Readout Layer\n",
    "\n",
    "Finally, we add a softmax layer, just like for the one layer softmax regression above."
   ]
  },
  {
   "cell_type": "code",
   "execution_count": 14,
   "metadata": {},
   "outputs": [],
   "source": [
    "W_fc2 = weight_variable([1024, 2])\n",
    "b_fc2 = bias_variable([2])\n",
    "\n",
    "y_conv=tf.matmul(h_fc1_drop, W_fc2) + b_fc2#tf.nn.softmax(tf.matmul(h_fc1_drop, W_fc2) + b_fc2)"
   ]
  },
  {
   "cell_type": "markdown",
   "metadata": {},
   "source": [
    "## Train and Evaluate the Model\n",
    "\n",
    "How well does this model do? To train and evaluate it we will use code that is nearly identical to that for the simple one layer SoftMax network.\n",
    "\n",
    "The differences are that:\n",
    "\n",
    "We will replace the steepest gradient descent optimizer with the more sophisticated ADAM optimizer.\n",
    "\n",
    "We will include the additional parameter keep_prob in feed_dict to control the dropout rate.\n",
    "\n",
    "We will add logging to every 100th iteration in the training process.\n",
    "\n",
    "Feel free to go ahead and run this code, but it does 20,000 training iterations and may take a while (possibly up to half an hour), depending on your processor.\n",
    "\n"
   ]
  },
  {
   "cell_type": "code",
   "execution_count": null,
   "metadata": {},
   "outputs": [
    {
     "name": "stdout",
     "output_type": "stream",
     "text": [
      "step 0, training accuracy 11.597\n",
      "step 100, training accuracy 0.797711\n",
      "step 200, training accuracy 0.607553\n",
      "step 300, training accuracy 0.38127\n",
      "step 400, training accuracy 0.434791\n",
      "step 500, training accuracy 0.476604\n",
      "test accuracy 0.445077\n"
     ]
    }
   ],
   "source": [
    "squareError = tf.reduce_sum(tf.pow(y_conv - y_, 2))\n",
    "train_step = tf.train.AdamOptimizer(1e-4).minimize(squareError)\n",
    "accuracy = tf.reduce_mean(tf.abs(y_conv - y_))\n",
    "\n",
    "sess.run(tf.initialize_all_variables())\n",
    "\n",
    "batchSize = 20\n",
    "\n",
    "numBatches = len(trainImages)/batchSize\n",
    "\n",
    "\n",
    "for i in range(600):\n",
    "\n",
    "  lowerLimit = (i%numBatches)*batchSize\n",
    "  upperLimit = (i%numBatches+1)*batchSize\n",
    "\n",
    "  imageBatch = trainImages[lowerLimit:upperLimit]\n",
    "  labelBatch = trainLabels[lowerLimit:upperLimit]\n",
    "  \n",
    "  if i%100 == 0:\n",
    "    #print imageBatch[0]\n",
    "    #print len(imageBatch[0])\n",
    "    #print(len(labelBatch))\n",
    "    train_accuracy = accuracy.eval(feed_dict={x:imageBatch, y_: labelBatch, keep_prob: 1.0})\n",
    "    print(\"step %d, training accuracy %g\"%(i, train_accuracy))\n",
    "  train_step.run(feed_dict={x: imageBatch, y_: labelBatch, keep_prob: 0.5})\n",
    "\n",
    "print(\"test accuracy %g\"%accuracy.eval(feed_dict={x: testImages, y_: testLabels, keep_prob: 1.0}))"
   ]
  },
  {
   "cell_type": "markdown",
   "metadata": {},
   "source": [
    "## Evaluate the network using the testing data"
   ]
  },
  {
   "cell_type": "code",
   "execution_count": null,
   "metadata": {},
   "outputs": [
    {
     "name": "stdout",
     "output_type": "stream",
     "text": [
      "True center:  (11, 17) . Estimated center:  [ 11.47093964  16.85348511]\n",
      "True center:  (18, 9) . Estimated center:  [ 17.71611786   8.52111816]\n",
      "True center:  (18, 10) . Estimated center:  [ 17.94909286   9.24249935]\n",
      "True center:  (20, 16) . Estimated center:  [ 19.79645348  14.65106583]\n",
      "True center:  (20, 12) . Estimated center:  [ 19.54772568  11.41810322]\n",
      "True center:  (13, 13) . Estimated center:  [ 12.55906677  12.44930935]\n",
      "True center:  (17, 12) . Estimated center:  [ 16.19859123  11.47110939]\n",
      "True center:  (16, 7) . Estimated center:  [ 15.25411606   6.64921141]\n",
      "True center:  (9, 6) . Estimated center:  [ 9.69881248  6.30195951]\n",
      "True center:  (12, 10) . Estimated center:  [ 12.15592384   9.88041687]\n",
      "True center:  (6, 16) . Estimated center:  [  6.58792639  15.25544453]\n",
      "True center:  (11, 11) . Estimated center:  [ 10.7983942   10.95752716]\n",
      "True center:  (9, 17) . Estimated center:  [  8.90152931  17.1405201 ]\n",
      "True center:  (16, 16) . Estimated center:  [ 15.67473984  15.36889076]\n",
      "True center:  (16, 21) . Estimated center:  [ 14.98315716  19.59161758]\n",
      "True center:  (20, 13) . Estimated center:  [ 20.09055138  12.64421749]\n",
      "True center:  (8, 10) . Estimated center:  [  8.22064686  10.1631813 ]\n",
      "True center:  (15, 14) . Estimated center:  [ 13.97457409  13.12323952]\n",
      "True center:  (21, 21) . Estimated center:  [ 19.50145721  19.53127098]\n",
      "True center:  (12, 20) . Estimated center:  [ 12.11452198  19.81383324]\n",
      "True center:  (16, 14) . Estimated center:  [ 15.56505013  13.42840767]\n",
      "True center:  (12, 7) . Estimated center:  [ 11.57381439   7.02288198]\n",
      "True center:  (12, 11) . Estimated center:  [ 11.73215294  10.23375702]\n",
      "True center:  (21, 14) . Estimated center:  [ 20.35372734  13.42808819]\n",
      "True center:  (20, 6) . Estimated center:  [ 19.20775795   6.39931011]\n",
      "True center:  (20, 17) . Estimated center:  [ 19.78612709  16.73744392]\n",
      "True center:  (14, 13) . Estimated center:  [ 13.46297836  12.21603394]\n",
      "True center:  (9, 20) . Estimated center:  [  8.71207714  19.60269165]\n",
      "True center:  (9, 18) . Estimated center:  [  9.12897015  17.68809319]\n",
      "True center:  (6, 12) . Estimated center:  [  6.40110302  11.95966721]\n",
      "True center:  (13, 15) . Estimated center:  [ 13.14182663  14.09408951]\n",
      "True center:  (15, 10) . Estimated center:  [ 14.77561855   9.2917757 ]\n",
      "True center:  (19, 8) . Estimated center:  [ 19.52718925   8.31396389]\n",
      "True center:  (12, 16) . Estimated center:  [ 11.77738094  14.63790131]\n",
      "True center:  (19, 10) . Estimated center:  [ 18.47687721   9.32153606]\n",
      "True center:  (17, 16) . Estimated center:  [ 16.3036232   14.84173489]\n",
      "True center:  (17, 18) . Estimated center:  [ 16.80578804  16.88988686]\n",
      "True center:  (18, 16) . Estimated center:  [ 17.82839012  15.10616112]\n",
      "True center:  (19, 7) . Estimated center:  [ 18.87571716   7.09107065]\n",
      "True center:  (18, 10) . Estimated center:  [ 17.94909286   9.24249935]\n",
      "True center:  (6, 8) . Estimated center:  [ 6.82904959  8.30696678]\n",
      "True center:  (15, 13) . Estimated center:  [ 14.79742241  11.91287613]\n",
      "True center:  (20, 20) . Estimated center:  [ 19.45522499  19.46912384]\n",
      "True center:  (6, 12) . Estimated center:  [  6.40110302  11.95966721]\n",
      "True center:  (15, 17) . Estimated center:  [ 14.88788891  15.96253109]\n",
      "True center:  (10, 6) . Estimated center:  [ 10.34076118   6.07464504]\n",
      "True center:  (16, 9) . Estimated center:  [ 15.3371706    8.64231396]\n",
      "True center:  (9, 20) . Estimated center:  [  8.71207714  19.60269165]\n",
      "True center:  (12, 19) . Estimated center:  [ 11.76882553  18.61316681]\n",
      "True center:  (15, 17) . Estimated center:  [ 14.88788891  15.96253109]\n",
      "True center:  (15, 21) . Estimated center:  [ 14.58502293  20.26537323]\n",
      "True center:  (16, 11) . Estimated center:  [ 15.80956268  10.94238567]\n",
      "True center:  (7, 10) . Estimated center:  [ 7.43239975  9.96224976]\n",
      "True center:  (12, 18) . Estimated center:  [ 11.7675581   17.52694321]\n",
      "True center:  (19, 12) . Estimated center:  [ 18.63262749  11.75087738]\n",
      "True center:  (15, 6) . Estimated center:  [ 14.84509277   6.96267176]\n",
      "True center:  (16, 8) . Estimated center:  [ 15.67149639   8.40266895]\n",
      "True center:  (18, 13) . Estimated center:  [ 17.34790611  12.20306301]\n",
      "True center:  (7, 20) . Estimated center:  [  7.28293133  20.25378036]\n",
      "True center:  (14, 19) . Estimated center:  [ 14.02978134  18.07082558]\n",
      "True center:  (11, 17) . Estimated center:  [ 11.47093964  16.85348511]\n",
      "True center:  (12, 17) . Estimated center:  [ 11.79588604  16.10467911]\n",
      "True center:  (16, 18) . Estimated center:  [ 15.70154095  17.18935966]\n",
      "True center:  (20, 6) . Estimated center:  [ 19.20775795   6.39931011]\n",
      "True center:  (19, 13) . Estimated center:  [ 18.50434113  12.52426052]\n",
      "True center:  (19, 20) . Estimated center:  [ 19.12109375  19.99159622]\n",
      "True center:  (11, 21) . Estimated center:  [ 11.43587494  21.07685661]\n",
      "True center:  (16, 16) . Estimated center:  [ 15.67473984  15.36889076]\n",
      "True center:  (13, 7) . Estimated center:  [ 12.91471386   6.96678591]\n",
      "True center:  (17, 9) . Estimated center:  [ 16.39560509   8.77277946]\n",
      "True center:  (11, 19) . Estimated center:  [ 11.25809574  18.9217205 ]\n",
      "True center:  (19, 19) . Estimated center:  [ 18.80931664  18.43195915]\n",
      "True center:  (6, 7) . Estimated center:  [ 6.96159601  7.26522064]\n",
      "True center:  (14, 15) . Estimated center:  [ 13.98771191  13.888731  ]\n",
      "True center:  (20, 12) . Estimated center:  [ 19.54772568  11.41810322]\n",
      "True center:  (8, 13) . Estimated center:  [  7.91523123  12.61164284]\n",
      "True center:  (15, 14) . Estimated center:  [ 13.97457409  13.12323952]\n",
      "True center:  (20, 14) . Estimated center:  [ 20.20494652  13.48307991]\n",
      "True center:  (7, 17) . Estimated center:  [  6.87829304  15.98616314]\n",
      "True center:  (17, 15) . Estimated center:  [ 17.09570503  14.63038158]\n",
      "True center:  (10, 12) . Estimated center:  [  9.88726807  11.21575356]\n",
      "True center:  (12, 9) . Estimated center:  [ 11.81824398   8.32778263]\n",
      "True center:  (20, 21) . Estimated center:  [ 18.95300102  19.89506531]\n",
      "True center:  (17, 10) . Estimated center:  [ 16.86847305   9.4365406 ]\n",
      "True center:  (8, 7) . Estimated center:  [ 8.21908665  7.09703827]\n",
      "True center:  (8, 6) . Estimated center:  [ 8.87321663  6.60060358]\n",
      "True center:  (21, 14) . Estimated center:  [ 20.35372734  13.42808819]\n",
      "True center:  (6, 17) . Estimated center:  [  5.830585    16.37280273]\n",
      "True center:  (18, 15) . Estimated center:  [ 17.86231804  14.14221573]\n",
      "True center:  (10, 20) . Estimated center:  [ 10.33656597  19.8251152 ]\n",
      "True center:  (8, 8) . Estimated center:  [ 8.3069725   8.23099709]\n",
      "True center:  (20, 13) . Estimated center:  [ 20.09055138  12.64421749]\n",
      "True center:  (21, 10) . Estimated center:  [ 20.35685921  10.00573921]\n",
      "True center:  (12, 20) . Estimated center:  [ 12.11452198  19.81383324]\n",
      "True center:  (9, 18) . Estimated center:  [  9.12897015  17.68809319]\n",
      "True center:  (21, 18) . Estimated center:  [ 20.38175392  17.11832428]\n",
      "True center:  (9, 8) . Estimated center:  [ 9.41653919  7.96365309]\n",
      "True center:  (13, 14) . Estimated center:  [ 13.11837101  13.2832756 ]\n",
      "True center:  (17, 18) . Estimated center:  [ 16.80578804  16.88988686]\n",
      "True center:  (8, 15) . Estimated center:  [  7.98287582  14.5649786 ]\n",
      "True center:  (7, 10) . Estimated center:  [ 7.43239975  9.96224976]\n",
      "True center:  (21, 8) . Estimated center:  [ 20.07160568   8.29954243]\n",
      "True center:  (12, 15) . Estimated center:  [ 11.88256645  14.48547649]\n",
      "True center:  (16, 20) . Estimated center:  [ 16.19268608  18.95847702]\n",
      "True center:  (7, 10) . Estimated center:  [ 7.43239975  9.96224976]\n",
      "True center:  (17, 10) . Estimated center:  [ 16.86847305   9.4365406 ]\n",
      "True center:  (17, 15) . Estimated center:  [ 17.09570503  14.63038158]\n",
      "True center:  (9, 10) . Estimated center:  [  9.48900986  10.49675369]\n",
      "True center:  (9, 9) . Estimated center:  [ 8.77366543  9.26722622]\n",
      "True center:  (16, 17) . Estimated center:  [ 15.43988514  15.20453835]\n",
      "True center:  (15, 11) . Estimated center:  [ 14.91169548   9.8946867 ]\n",
      "True center:  (12, 7) . Estimated center:  [ 11.57381439   7.02288198]\n",
      "True center:  (16, 9) . Estimated center:  [ 15.3371706    8.64231396]\n",
      "True center:  (12, 21) . Estimated center:  [ 11.48480415  20.32959366]\n",
      "True center:  (16, 19) . Estimated center:  [ 15.90088463  18.22747612]\n"
     ]
    },
    {
     "name": "stdout",
     "output_type": "stream",
     "text": [
      "True center:  (19, 12) . Estimated center:  [ 18.63262749  11.75087738]\n",
      "True center:  (20, 9) . Estimated center:  [ 19.1490078    8.15168285]\n",
      "True center:  (7, 12) . Estimated center:  [  7.09551239  11.06694698]\n"
     ]
    }
   ],
   "source": [
    "for i in range(len(testImages)):\n",
    "    testImage = testImagesD[i].copy()\n",
    "    image = testImages[i].reshape((1,784))\n",
    "\n",
    "    #Get the estimate center\n",
    "    estimate = sess.run([y_conv],feed_dict={x:image, keep_prob: 1.0})\n",
    "    #print y_conv\n",
    "    \n",
    "    label = testLabels[i]\n",
    "    estimate = estimate[0][0]\n",
    "    print \"True center: \", label, \". Estimated center: \", estimate\n",
    "    \n",
    "    cv2.rectangle(testImage, (int(estimate[0])-circleSize, int(estimate[1])-circleSize), (int(estimate[0])+circleSize, int(estimate[1])+circleSize), (0, 0, 0), 1)\n",
    "\n",
    "    cv2.namedWindow(\"Image\", cv2.WINDOW_NORMAL)\n",
    "    cv2.imshow(\"Image\", testImage)\n",
    "    cv2.waitKey(0)\n",
    "cv2.destroyWindow()"
   ]
  },
  {
   "cell_type": "code",
   "execution_count": null,
   "metadata": {},
   "outputs": [],
   "source": []
  }
 ],
 "metadata": {
  "kernelspec": {
   "display_name": "Python 2",
   "language": "python",
   "name": "python2"
  },
  "language_info": {
   "codemirror_mode": {
    "name": "ipython",
    "version": 2
   },
   "file_extension": ".py",
   "mimetype": "text/x-python",
   "name": "python",
   "nbconvert_exporter": "python",
   "pygments_lexer": "ipython2",
   "version": "2.7.12"
  }
 },
 "nbformat": 4,
 "nbformat_minor": 1
}
