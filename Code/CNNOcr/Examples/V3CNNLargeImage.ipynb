{
 "cells": [
  {
   "cell_type": "markdown",
   "metadata": {},
   "source": [
    "#  Table detection using a CNN"
   ]
  },
  {
   "cell_type": "code",
   "execution_count": 1,
   "metadata": {},
   "outputs": [],
   "source": [
    "%matplotlib inline\n",
    "import cv2\n",
    "import matplotlib\n",
    "import matplotlib.pyplot as plt\n",
    "import matplotlib.cm as cm\n",
    "import numpy as np\n",
    "import random"
   ]
  },
  {
   "cell_type": "markdown",
   "metadata": {},
   "source": [
    "## Generate data"
   ]
  },
  {
   "cell_type": "code",
   "execution_count": 2,
   "metadata": {},
   "outputs": [],
   "source": [
    "import random\n",
    "def generateData(numImages=1,pageSize=(100,100),circleSize=(5,10)):\n",
    "    imagesDraw = []\n",
    "    imagesCNN = np.zeros((numImages,pageSize[0]*pageSize[1]),dtype=np.float32)\n",
    "    labelsDraw = []\n",
    "    labelsCNN = []\n",
    "\n",
    "    for i in range(numImages):\n",
    "        page = np.full(pageSize, 255, dtype=np.uint8)\n",
    "        \n",
    "        randSize = circleSize[0] + int(random.random()*(circleSize[1]-circleSize[0]+1))\n",
    "        \n",
    "        centreLoc = (randSize+int(random.random()*(pageSize[1]-randSize*2)), randSize+int(random.random()*(pageSize[0]-randSize*2)))\n",
    "        cv2.circle(page, centreLoc,randSize, (0, 0, 255))\n",
    "\n",
    "        imagesDraw.append(page)\n",
    "        imagesCNN[i] = page.reshape(pageSize[0]*pageSize[1])\n",
    "        \n",
    "        recLoc = centreLoc[0]-randSize, centreLoc[1]-randSize, centreLoc[0]+randSize, centreLoc[1]+randSize\n",
    "        \n",
    "        labelsDraw.append((centreLoc,randSize))\n",
    "        labelsCNN.append(recLoc)\n",
    "    imagesCNN /= 255.0\n",
    "    return imagesDraw,imagesCNN,labelsDraw,labelsCNN"
   ]
  },
  {
   "cell_type": "code",
   "execution_count": 3,
   "metadata": {},
   "outputs": [],
   "source": [
    "circleDiam = (10,20)\n",
    "pageSize = (100, 100)\n",
    "\n",
    "circleSize = (int(circleDiam[0]/2),int(circleDiam[1]/2))\n",
    "imagesDraw,imagesCNN,labelsDraw,labelsCNN = generateData(numImages=1000,pageSize=pageSize,circleSize=circleSize) #Do not make this more that around 1000\n",
    "\n",
    "imagesDrawTrain = imagesDraw[:800]\n",
    "imagesCNNTrain = imagesCNN[:800]\n",
    "labelsDrawTrain = labelsDraw[:800]\n",
    "labelsCNNTrain = labelsCNN[:800]\n",
    "\n",
    "imagesDrawTest = imagesDraw[800:]\n",
    "imagesCNNTest = imagesCNN[800:]\n",
    "labelsDrawTest = labelsDraw[800:]\n",
    "labelsCNNTest = labelsCNN[800:]"
   ]
  },
  {
   "cell_type": "markdown",
   "metadata": {},
   "source": [
    "## Display the data (Causes kernel restart)"
   ]
  },
  {
   "cell_type": "raw",
   "metadata": {},
   "source": [
    "for i in range(len(imagesDrawTrain)):\n",
    "    image = imagesDrawTrain[i]\n",
    "    #print labelsCNNTrain[i]\n",
    "    label = labelsDrawTrain[i][0]\n",
    "    size = labelsDrawTrain[i][1]\n",
    "    cv2.rectangle(image, (int(label[0])-size, int(label[1])-size), (int(label[0])+size, int(label[1])+size), (0, 0, 0), 1)\n",
    "\n",
    "    cv2.namedWindow(\"Image\", cv2.WINDOW_NORMAL)\n",
    "    cv2.imshow(\"Image\", image)\n",
    "    cv2.waitKey(0)\n",
    "cv2.destroyWindow()"
   ]
  },
  {
   "cell_type": "code",
   "execution_count": 4,
   "metadata": {},
   "outputs": [],
   "source": [
    "import tensorflow as tf\n",
    "sess = tf.InteractiveSession()"
   ]
  },
  {
   "cell_type": "code",
   "execution_count": 5,
   "metadata": {},
   "outputs": [],
   "source": [
    "x = tf.placeholder(tf.float32, shape=[None, pageSize[0]*pageSize[1]])\n",
    "y_ = tf.placeholder(tf.float32, shape=[None, 4])"
   ]
  },
  {
   "cell_type": "markdown",
   "metadata": {},
   "source": [
    "## Weight Initialization\n",
    "\n",
    "To create this model, we're going to need to create a lot of weights and biases. One should generally initialize weights with a small amount of noise for symmetry breaking, and to prevent 0 gradients. Since we're using ReLU neurons, it is also good practice to initialize them with a slightly positive initial bias to avoid \"dead neurons\". Instead of doing this repeatedly while we build the model, let's create two handy functions to do it for us."
   ]
  },
  {
   "cell_type": "code",
   "execution_count": 6,
   "metadata": {},
   "outputs": [],
   "source": [
    "def weight_variable(shape):\n",
    "    initial = tf.truncated_normal(shape, stddev=0.1)\n",
    "    return tf.Variable(initial)\n",
    "\n",
    "def bias_variable(shape):\n",
    "    initial = tf.constant(0.1, shape=shape)\n",
    "    return tf.Variable(initial)"
   ]
  },
  {
   "cell_type": "markdown",
   "metadata": {},
   "source": [
    "## Convolution and Pooling\n",
    "\n",
    "TensorFlow also gives us a lot of flexibility in convolution and pooling operations. How do we handle the boundaries? What is our stride size? In this example, we're always going to choose the vanilla version. Our convolutions uses a stride of one and are zero padded so that the output is the same size as the input. Our pooling is plain old max pooling over 2x2 blocks. To keep our code cleaner, let's also abstract those operations into functions."
   ]
  },
  {
   "cell_type": "code",
   "execution_count": 7,
   "metadata": {},
   "outputs": [],
   "source": [
    "def conv2d(x, W):\n",
    "  return tf.nn.conv2d(x, W, strides=[1, 1, 1, 1], padding='SAME')\n",
    "\n",
    "def max_pool_2x2(x):\n",
    "  return tf.nn.max_pool(x, ksize=[1, 2, 2, 1],\n",
    "                        strides=[1, 2, 2, 1], padding='SAME')"
   ]
  },
  {
   "cell_type": "markdown",
   "metadata": {},
   "source": [
    "## First convolutional layer\n",
    "\n",
    "We can now implement our first layer. It will consist of convolution, followed by max pooling. The convolutional will compute 32 features for each 5x5 patch. Its weight tensor will have a shape of [5, 5, 1, 32]. The first two dimensions are the patch size, the next is the number of input channels, and the last is the number of output channels. We will also have a bias vector with a component for each output channel."
   ]
  },
  {
   "cell_type": "code",
   "execution_count": 8,
   "metadata": {},
   "outputs": [],
   "source": [
    "Stack1Num = 10# Was 32\n",
    "W_conv1 = weight_variable([5, 5, 1, Stack1Num]) #(window_dim1,window_dim1,input channels,output channels)\n",
    "b_conv1 = bias_variable([Stack1Num])"
   ]
  },
  {
   "cell_type": "markdown",
   "metadata": {},
   "source": [
    "To apply the layer, we first reshape x to a 4d tensor, with the second and third dimensions corresponding to image width and height, and the final dimension corresponding to the number of color channels.\n",
    "\n",
    "The first dimension is specified as -1 since it will be inferred from the number of images in the batch."
   ]
  },
  {
   "cell_type": "code",
   "execution_count": 9,
   "metadata": {},
   "outputs": [],
   "source": [
    "x_image = tf.reshape(x, [-1,pageSize[0],pageSize[1],1])"
   ]
  },
  {
   "cell_type": "markdown",
   "metadata": {},
   "source": [
    "We then convolve x_image with the weight tensor, add the bias, apply the ReLU function, and finally max pool."
   ]
  },
  {
   "cell_type": "code",
   "execution_count": 10,
   "metadata": {},
   "outputs": [],
   "source": [
    "h_conv1 = tf.nn.relu(conv2d(x_image, W_conv1) + b_conv1)\n",
    "h_pool1 = max_pool_2x2(h_conv1)"
   ]
  },
  {
   "cell_type": "markdown",
   "metadata": {},
   "source": [
    "## Second Convolutional Layer\n",
    "\n",
    "\n",
    "\n",
    "In order to build a deep network, we stack several layers of this type. The second layer will have 64 features for each 5x5 patch."
   ]
  },
  {
   "cell_type": "code",
   "execution_count": 11,
   "metadata": {},
   "outputs": [],
   "source": [
    "Stack2Num = 20#Was 64\n",
    "W_conv2 = weight_variable([5, 5, Stack1Num, Stack2Num])\n",
    "b_conv2 = bias_variable([Stack2Num])\n",
    "\n",
    "h_conv2 = tf.nn.relu(conv2d(h_pool1, W_conv2) + b_conv2)\n",
    "h_pool2 = max_pool_2x2(h_conv2)"
   ]
  },
  {
   "cell_type": "markdown",
   "metadata": {},
   "source": [
    "## Densely Connected Layer\n",
    "\n",
    "Now that the image size has been reduced to 7x7, we add a fully-connected layer with 1024 neurons to allow processing on the entire image. We reshape the tensor from the pooling layer into a batch of vectors, multiply by a weight matrix, add a bias, and apply a ReLU."
   ]
  },
  {
   "cell_type": "code",
   "execution_count": 12,
   "metadata": {},
   "outputs": [],
   "source": [
    "size = 2500*5#7*7*64 #Was 7*7*64\n",
    "W_fc1 = weight_variable([size, 1024])\n",
    "b_fc1 = bias_variable([1024])\n",
    "\n",
    "h_pool2_flat = tf.reshape(h_pool2, [-1, size])\n",
    "h_fc1 = tf.nn.relu(tf.matmul(h_pool2_flat, W_fc1) + b_fc1)"
   ]
  },
  {
   "cell_type": "markdown",
   "metadata": {},
   "source": [
    "## Dropout\n",
    "\n",
    "To reduce overfitting, we will apply dropout before the readout layer. We create a placeholder for the probability that a neuron's output is kept during dropout. This allows us to turn dropout on during training, and turn it off during testing. TensorFlow's tf.nn.dropout op automatically handles scaling neuron outputs in addition to masking them, so dropout just works without any additional scaling."
   ]
  },
  {
   "cell_type": "code",
   "execution_count": 13,
   "metadata": {},
   "outputs": [],
   "source": [
    "keep_prob = tf.placeholder(tf.float32)\n",
    "h_fc1_drop = tf.nn.dropout(h_fc1, keep_prob)"
   ]
  },
  {
   "cell_type": "markdown",
   "metadata": {},
   "source": [
    "## Readout Layer\n",
    "\n",
    "Finally, we add a softmax layer, just like for the one layer softmax regression above."
   ]
  },
  {
   "cell_type": "code",
   "execution_count": 14,
   "metadata": {},
   "outputs": [],
   "source": [
    "W_fc2 = weight_variable([1024, 4])\n",
    "b_fc2 = bias_variable([4])\n",
    "\n",
    "y_conv=tf.matmul(h_fc1_drop, W_fc2) + b_fc2#tf.nn.softmax(tf.matmul(h_fc1_drop, W_fc2) + b_fc2)"
   ]
  },
  {
   "cell_type": "markdown",
   "metadata": {},
   "source": [
    "## Train and Evaluate the Model\n",
    "\n",
    "How well does this model do? To train and evaluate it we will use code that is nearly identical to that for the simple one layer SoftMax network.\n",
    "\n",
    "The differences are that:\n",
    "\n",
    "We will replace the steepest gradient descent optimizer with the more sophisticated ADAM optimizer.\n",
    "\n",
    "We will include the additional parameter keep_prob in feed_dict to control the dropout rate.\n",
    "\n",
    "We will add logging to every 100th iteration in the training process.\n",
    "\n",
    "Feel free to go ahead and run this code, but it does 20,000 training iterations and may take a while (possibly up to half an hour), depending on your processor.\n",
    "\n"
   ]
  },
  {
   "cell_type": "code",
   "execution_count": null,
   "metadata": {},
   "outputs": [
    {
     "name": "stdout",
     "output_type": "stream",
     "text": [
      "WARNING:tensorflow:From /usr/local/lib/python2.7/dist-packages/tensorflow/python/util/tf_should_use.py:107: initialize_all_variables (from tensorflow.python.ops.variables) is deprecated and will be removed after 2017-03-02.\n",
      "Instructions for updating:\n",
      "Use `tf.global_variables_initializer` instead.\n",
      "Step 0. Average error: 53.24 pixels\n",
      "Step 10. Average error: 29.22 pixels\n",
      "Step 20. Average error: 19.36 pixels\n",
      "Step 30. Average error: 20.71 pixels\n",
      "Step 40. Average error: 21.96 pixels\n",
      "Step 50. Average error: 25.02 pixels\n",
      "Step 60. Average error: 19.91 pixels\n",
      "Step 70. Average error: 20.55 pixels\n",
      "Step 80. Average error: 21.61 pixels\n",
      "Step 90. Average error: 23.4 pixels\n",
      "Step 100. Average error: 20.17 pixels\n",
      "Step 110. Average error: 20.35 pixels\n",
      "Step 120. Average error: 20.92 pixels\n",
      "Step 130. Average error: 23.3 pixels\n",
      "Step 140. Average error: 19.3 pixels\n",
      "Step 150. Average error: 19.05 pixels\n",
      "Step 160. Average error: 19.82 pixels\n",
      "Step 170. Average error: 21.57 pixels\n",
      "Step 180. Average error: 17.14 pixels\n",
      "Step 190. Average error: 16.92 pixels\n",
      "Step 200. Average error: 17.38 pixels\n",
      "Step 210. Average error: 18.4 pixels\n",
      "Step 220. Average error: 15.47 pixels\n",
      "Step 230. Average error: 13.83 pixels\n",
      "Step 240. Average error: 13.17 pixels\n",
      "Step 250. Average error: 12.73 pixels\n",
      "Step 260. Average error: 11.29 pixels\n",
      "Step 270. Average error: 10.16 pixels\n",
      "Step 280. Average error: 9.61 pixels\n",
      "Step 290. Average error: 9.47 pixels\n",
      "Step 300. Average error: 9.82 pixels\n",
      "Step 310. Average error: 8.02 pixels\n",
      "Step 320. Average error: 7.16 pixels\n",
      "Step 330. Average error: 7.98 pixels\n",
      "Step 340. Average error: 8.9 pixels\n",
      "Step 350. Average error: 6.85 pixels\n",
      "Step 360. Average error: 5.75 pixels\n",
      "Step 370. Average error: 7.1 pixels\n",
      "Step 380. Average error: 7.26 pixels\n",
      "Step 390. Average error: 6.41 pixels\n",
      "Step 400. Average error: 5.69 pixels\n",
      "Step 410. Average error: 7.21 pixels\n",
      "Step 420. Average error: 6.95 pixels\n",
      "Step 430. Average error: 5.49 pixels\n",
      "Step 440. Average error: 5.14 pixels\n",
      "Step 450. Average error: 6.42 pixels\n",
      "Step 460. Average error: 6.95 pixels\n",
      "Step 470. Average error: 5.11 pixels\n",
      "Step 480. Average error: 5.06 pixels\n",
      "Step 490. Average error: 6.16 pixels\n",
      "Step 500. Average error: 6.38 pixels\n",
      "Step 510. Average error: 5.13 pixels\n",
      "Step 520. Average error: 4.5 pixels\n",
      "Step 530. Average error: 5.9 pixels\n",
      "Step 540. Average error: 5.55 pixels\n",
      "Step 550. Average error: 5.37 pixels\n",
      "Step 560. Average error: 4.52 pixels\n",
      "Step 570. Average error: 5.73 pixels\n",
      "Step 580. Average error: 5.35 pixels\n",
      "Step 590. Average error: 5.4 pixels\n",
      "Step 600. Average error: 4.04 pixels\n",
      "Step 610. Average error: 5.49 pixels\n",
      "Step 620. Average error: 5.17 pixels\n",
      "Step 630. Average error: 5.04 pixels\n",
      "Step 640. Average error: 4.1 pixels\n",
      "Step 650. Average error: 5.28 pixels\n",
      "Step 660. Average error: 5.11 pixels\n",
      "Step 670. Average error: 4.87 pixels\n",
      "Step 680. Average error: 4.16 pixels\n",
      "Step 690. Average error: 5.12 pixels\n",
      "Step 700. Average error: 5.12 pixels\n",
      "Step 710. Average error: 4.62 pixels\n",
      "Step 720. Average error: 4.22 pixels\n",
      "Step 730. Average error: 5.21 pixels\n",
      "Step 740. Average error: 4.46 pixels\n",
      "Step 750. Average error: 4.62 pixels\n",
      "Step 760. Average error: 3.89 pixels\n",
      "Step 770. Average error: 4.87 pixels\n",
      "Step 780. Average error: 4.17 pixels\n",
      "Step 790. Average error: 4.98 pixels\n",
      "Step 800. Average error: 3.93 pixels\n",
      "Step 810. Average error: 4.86 pixels\n",
      "Step 820. Average error: 4.39 pixels\n",
      "Step 830. Average error: 4.41 pixels\n",
      "Step 840. Average error: 3.71 pixels\n",
      "Step 850. Average error: 4.59 pixels\n",
      "Step 860. Average error: 4.28 pixels\n",
      "Step 870. Average error: 4.63 pixels\n",
      "Step 880. Average error: 3.74 pixels\n",
      "Step 890. Average error: 4.91 pixels\n",
      "Step 900. Average error: 4.84 pixels\n",
      "Step 910. Average error: 4.31 pixels\n",
      "Step 920. Average error: 3.57 pixels\n",
      "Step 930. Average error: 4.73 pixels\n",
      "Step 940. Average error: 3.97 pixels\n",
      "Step 950. Average error: 4.47 pixels\n",
      "Step 960. Average error: 3.47 pixels\n",
      "Step 970. Average error: 4.53 pixels\n",
      "Step 980. Average error: 3.91 pixels\n",
      "Step 990. Average error: 4.85 pixels\n",
      "test accuracy 3.89692\n"
     ]
    }
   ],
   "source": [
    "squareError = tf.reduce_sum(tf.pow(y_conv - y_, 2))\n",
    "train_step = tf.train.AdamOptimizer(1e-4).minimize(squareError)\n",
    "accuracy = tf.reduce_mean(tf.abs(y_conv - y_))\n",
    "\n",
    "sess.run(tf.initialize_all_variables())\n",
    "\n",
    "batchSize = 20\n",
    "\n",
    "numBatches = len(imagesCNNTrain)/batchSize\n",
    "\n",
    "for i in range(1000):\n",
    "\n",
    "  lowerLimit = (i%numBatches)*batchSize\n",
    "  upperLimit = (i%numBatches+1)*batchSize\n",
    "\n",
    "  imageBatch = imagesCNNTrain[lowerLimit:upperLimit]\n",
    "  labelBatch = labelsCNNTrain[lowerLimit:upperLimit]\n",
    "  \n",
    "  if i%10 == 0:\n",
    "    #print imageBatch[0]\n",
    "    #print len(imageBatch[0])\n",
    "    #print(len(labelBatch))\n",
    "    train_accuracy = accuracy.eval(feed_dict={x:imageBatch, y_: labelBatch, keep_prob: 1.0})\n",
    "    print(\"Step %d. Average error: %g pixels\"%(i, round(train_accuracy,2)))\n",
    "  train_step.run(feed_dict={x: imageBatch, y_: labelBatch, keep_prob: 0.5})\n",
    "\n",
    "print(\"test accuracy %g\"%accuracy.eval(feed_dict={x: imagesCNNTest, y_: labelsCNNTest, keep_prob: 1.0}))"
   ]
  },
  {
   "cell_type": "markdown",
   "metadata": {},
   "source": [
    "## Evaluate the network using the testing data"
   ]
  },
  {
   "cell_type": "code",
   "execution_count": null,
   "metadata": {},
   "outputs": [
    {
     "name": "stdout",
     "output_type": "stream",
     "text": [
      "True center:  (21, 39, 39, 57) . Estimated center:  [ 23.01860809  38.70614624  38.64608383  54.43304062]\n"
     ]
    }
   ],
   "source": [
    "#imagesDrawTest\n",
    "#imagesCNNTest\n",
    "#labelsDrawTest\n",
    "#labelsCNNTest\n",
    "\n",
    "for i in range(len(imagesCNNTest)):\n",
    "    image = imagesCNNTest[i].copy().reshape((1,pageSize[0]*pageSize[1]))\n",
    "\n",
    "    #Get the estimate center\n",
    "    estimate = sess.run([y_conv],feed_dict={x:image, keep_prob: 1.0})\n",
    "    #print y_conv\n",
    "\n",
    "    estimate = estimate[0][0]\n",
    "    print \"True center: \", labelsCNNTest[i], \". Estimated center: \", estimate\n",
    "    \n",
    "    cv2.rectangle(imagesDrawTest[i], (int(estimate[0]), int(estimate[1])), (int(estimate[2]), int(estimate[3])), (0, 0, 0), 1)\n",
    "\n",
    "    cv2.namedWindow(\"Image\", cv2.WINDOW_NORMAL)\n",
    "    cv2.imshow(\"Image\", imagesDrawTest[i])\n",
    "    cv2.waitKey(0)\n",
    "cv2.destroyWindow()"
   ]
  },
  {
   "cell_type": "code",
   "execution_count": null,
   "metadata": {},
   "outputs": [],
   "source": []
  }
 ],
 "metadata": {
  "kernelspec": {
   "display_name": "Python 2",
   "language": "python",
   "name": "python2"
  },
  "language_info": {
   "codemirror_mode": {
    "name": "ipython",
    "version": 2
   },
   "file_extension": ".py",
   "mimetype": "text/x-python",
   "name": "python",
   "nbconvert_exporter": "python",
   "pygments_lexer": "ipython2",
   "version": "2.7.12"
  }
 },
 "nbformat": 4,
 "nbformat_minor": 1
}
