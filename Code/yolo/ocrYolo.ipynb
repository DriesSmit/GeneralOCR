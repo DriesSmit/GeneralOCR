{
 "cells": [
  {
   "cell_type": "markdown",
   "metadata": {},
   "source": [
    "Import the image reader"
   ]
  },
  {
   "cell_type": "code",
   "execution_count": 1,
   "metadata": {},
   "outputs": [],
   "source": [
    "from imageReader import imageReader"
   ]
  },
  {
   "cell_type": "markdown",
   "metadata": {},
   "source": [
    "Set the paramaters for the image reader"
   ]
  },
  {
   "cell_type": "code",
   "execution_count": 7,
   "metadata": {},
   "outputs": [],
   "source": [
    "args = {}\n",
    "#args[\"image\"] = \"/home/dries/devel/Praelexis/OCR/Images/rotate.png\"\n",
    "#args[\"image\"] = \"/home/dries/devel/Praelexis/OCR/Images/rotatedDistorted.png\"\n",
    "#args[\"image\"] = \"/home/dries/devel/Praelexis/OCR/Images/RealScan.jpg\"\n",
    "#args[\"image\"] = \"/home/dries/devel/Praelexis/OCR/Images/phonePhoto.jpg\"\n",
    "#args[\"image\"] = \"/home/dries/devel/Praelexis/OCR/Images/bankRotatedBackround.jpg\"\n",
    "args[\"image\"] = \"/home/dries/devel/Praelexis/OCR/Images/testText.jpg\"\n",
    "\n",
    "args[\"output\"] = \"/home/dries/devel/Praelexis/OCR/Output/\"\n",
    "args[\"preprocess\"] = \"\"\n",
    "args[\"rotationSearch\"] = 10\n",
    "args[\"con\"] =\"-psm 1 --oem 2 -c tessedit_char_whitelist=0123456789abcdefghijklmnopqrstuvwxyzABCDEFGHIJKLNMOPQRSTUVWXYZ-+,.()&:_/\\*@\"\n",
    "args[\"lan\"] = \"eng\"\n",
    "args[\"ocrEngine\"] = \"yolo\" #tesseract or yolo"
   ]
  },
  {
   "cell_type": "markdown",
   "metadata": {},
   "source": [
    "Deskew and preprocess image"
   ]
  },
  {
   "cell_type": "code",
   "execution_count": 8,
   "metadata": {},
   "outputs": [
    {
     "name": "stdout",
     "output_type": "stream",
     "text": [
      "Finding orientation..\n",
      "Percentage complete:  0.0 %. Current angle (degree):  0.1\n",
      "Percentage complete:  10.0 %. Current angle (degree):  1.1\n",
      "Percentage complete:  20.0 %. Current angle (degree):  2.1\n",
      "Percentage complete:  30.0 %. Current angle (degree):  3.1\n",
      "Percentage complete:  40.0 %. Current angle (degree):  4.1\n",
      "Percentage complete:  50.0 %. Current angle (degree):  5.1\n",
      "Percentage complete:  60.0 %. Current angle (degree):  6.1\n",
      "Percentage complete:  70.0 %. Current angle (degree):  7.1\n",
      "Percentage complete:  80.0 %. Current angle (degree):  8.1\n",
      "Percentage complete:  90.0 %. Current angle (degree):  9.1\n",
      "Image corrected. Scanning image..\n"
     ]
    }
   ],
   "source": [
    "ir = imageReader(args)\n",
    "ir.correctImage()"
   ]
  },
  {
   "cell_type": "markdown",
   "metadata": {},
   "source": [
    "Train the CNN"
   ]
  },
  {
   "cell_type": "code",
   "execution_count": 9,
   "metadata": {},
   "outputs": [
    {
     "name": "stdout",
     "output_type": "stream",
     "text": [
      "Label:  E\n",
      "('Image: ', array([[255, 255, 255, ..., 255, 255, 255],\n",
      "       [255, 255, 255, ..., 255, 255, 255],\n",
      "       [255, 255, 255, ..., 255, 255, 255],\n",
      "       ..., \n",
      "       [255, 255, 255, ..., 255, 255, 255],\n",
      "       [255, 255, 255, ..., 255, 255, 255],\n",
      "       [255, 255, 255, ..., 255, 255, 255]], dtype=uint8))\n",
      "Label:  R\n",
      "('Image: ', array([[255, 255, 255, ..., 255, 255, 255],\n",
      "       [255, 255, 255, ..., 255, 255, 255],\n",
      "       [255, 255, 255, ..., 255, 255, 255],\n",
      "       ..., \n",
      "       [255, 255, 255, ..., 255, 255, 255],\n",
      "       [255, 255, 255, ..., 255, 255, 255],\n",
      "       [255, 255, 255, ..., 255, 255, 255]], dtype=uint8))\n",
      "Label:  I\n",
      "('Image: ', array([[255, 255, 255, ..., 255, 255, 255],\n",
      "       [255, 255, 255, ..., 255, 255, 255],\n",
      "       [255, 255, 255, ..., 255, 255, 255],\n",
      "       ..., \n",
      "       [255, 255, 255, ..., 255, 255, 255],\n",
      "       [255, 255, 255, ..., 255, 255, 255],\n",
      "       [255, 255, 255, ..., 255, 255, 255]], dtype=uint8))\n",
      "Label:  P\n",
      "('Image: ', array([[255, 255, 255, ..., 255, 255, 255],\n",
      "       [255, 255, 255, ..., 255, 255, 255],\n",
      "       [255, 255, 255, ..., 255, 255, 255],\n",
      "       ..., \n",
      "       [255, 255, 255, ..., 255, 255, 255],\n",
      "       [255, 255, 255, ..., 255, 255, 255],\n",
      "       [255, 255, 255, ..., 255, 255, 255]], dtype=uint8))\n",
      "Label:  Q\n",
      "('Image: ', array([[255, 255, 255, ..., 255, 255, 255],\n",
      "       [255, 255, 255, ..., 255, 255, 255],\n",
      "       [255, 255, 255, ..., 255, 255, 255],\n",
      "       ..., \n",
      "       [255, 255, 255, ..., 255, 255, 255],\n",
      "       [255, 255, 255, ..., 255, 255, 255],\n",
      "       [255, 255, 255, ..., 255, 255, 255]], dtype=uint8))\n",
      "Label:  D\n",
      "('Image: ', array([[255, 255, 255, ..., 255, 255, 255],\n",
      "       [255, 255, 255, ..., 255, 255, 255],\n",
      "       [255, 255, 255, ..., 255, 255, 255],\n",
      "       ..., \n",
      "       [255, 255, 255, ..., 255, 255, 255],\n",
      "       [255, 255, 255, ..., 255, 255, 255],\n",
      "       [255, 255, 255, ..., 255, 255, 255]], dtype=uint8))\n",
      "Label:  F\n",
      "('Image: ', array([[255, 255, 255, ..., 255, 255, 255],\n",
      "       [255, 255, 255, ..., 255, 255, 255],\n",
      "       [255, 255, 255, ..., 255, 255, 255],\n",
      "       ..., \n",
      "       [255, 255, 255, ..., 255, 255, 255],\n",
      "       [255, 255, 255, ..., 255, 255, 255],\n",
      "       [255, 255, 255, ..., 255, 255, 255]], dtype=uint8))\n",
      "Label:  W\n",
      "('Image: ', array([[255, 255, 255, ..., 255, 255, 255],\n",
      "       [255, 255, 255, ..., 255, 255, 255],\n",
      "       [255, 255, 255, ..., 255, 255, 255],\n",
      "       ..., \n",
      "       [255, 255, 255, ..., 255, 255, 255],\n",
      "       [255, 255, 255, ..., 255, 255, 255],\n",
      "       [255, 255, 255, ..., 255, 255, 255]], dtype=uint8))\n",
      "Label:  K\n",
      "('Image: ', array([[255, 255, 255, ..., 255, 255, 255],\n",
      "       [255, 255, 255, ..., 255, 255, 255],\n",
      "       [255, 255, 255, ..., 255, 255, 255],\n",
      "       ..., \n",
      "       [255, 255, 255, ..., 255, 255, 255],\n",
      "       [255, 255, 255, ..., 255, 255, 255],\n",
      "       [255, 255, 255, ..., 255, 255, 255]], dtype=uint8))\n",
      "Label:  Q\n",
      "('Image: ', array([[255, 255, 255, ..., 255, 255, 255],\n",
      "       [255, 255, 255, ..., 255, 255, 255],\n",
      "       [255, 255, 255, ..., 255, 255, 255],\n",
      "       ..., \n",
      "       [255, 255, 255, ..., 255, 255, 255],\n",
      "       [255, 255, 255, ..., 255, 255, 255],\n",
      "       [255, 255, 255, ..., 255, 255, 255]], dtype=uint8))\n",
      "System trained.\n"
     ]
    }
   ],
   "source": [
    "ir.train()"
   ]
  },
  {
   "cell_type": "markdown",
   "metadata": {},
   "source": [
    "Generate text from the image using tesseract"
   ]
  },
  {
   "cell_type": "code",
   "execution_count": 5,
   "metadata": {},
   "outputs": [
    {
     "name": "stdout",
     "output_type": "stream",
     "text": [
      "Text:  SUMMER\n",
      "\n",
      "SALE\n"
     ]
    }
   ],
   "source": [
    "text = ir.getText()\n",
    "\n",
    "print \"Text: \", text"
   ]
  },
  {
   "cell_type": "markdown",
   "metadata": {},
   "source": [
    "Generate data from the image using tesseract"
   ]
  },
  {
   "cell_type": "code",
   "execution_count": 6,
   "metadata": {},
   "outputs": [
    {
     "name": "stdout",
     "output_type": "stream",
     "text": [
      "Completed. Output in folder named 'Output'.\n"
     ]
    }
   ],
   "source": [
    "ir.getData()\n",
    "\n",
    "print(\"Completed. Output in folder named 'Output'.\")"
   ]
  }
 ],
 "metadata": {
  "kernelspec": {
   "display_name": "Python 2",
   "language": "python",
   "name": "python2"
  },
  "language_info": {
   "codemirror_mode": {
    "name": "ipython",
    "version": 2
   },
   "file_extension": ".py",
   "mimetype": "text/x-python",
   "name": "python",
   "nbconvert_exporter": "python",
   "pygments_lexer": "ipython2",
   "version": "2.7.12"
  }
 },
 "nbformat": 4,
 "nbformat_minor": 2
}
