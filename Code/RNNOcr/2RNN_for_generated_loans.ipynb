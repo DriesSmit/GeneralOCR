{
 "cells": [
  {
   "cell_type": "code",
   "execution_count": 21,
   "metadata": {},
   "outputs": [],
   "source": [
    "import numpy as np\n",
    "from keras.datasets import imdb\n",
    "from keras.models import Sequential\n",
    "from keras.layers import Dense\n",
    "from keras.layers import LSTM\n",
    "from keras.layers import Bidirectional\n",
    "from keras.layers.embeddings import Embedding\n",
    "from keras.preprocessing import sequence\n",
    "import keras as kr\n",
    "import random"
   ]
  },
  {
   "cell_type": "markdown",
   "metadata": {},
   "source": [
    "## Generator class"
   ]
  },
  {
   "cell_type": "code",
   "execution_count": 22,
   "metadata": {},
   "outputs": [],
   "source": [
    "class generator():\n",
    "    def __init__(self):\n",
    "        self.char_to_int = {}\n",
    "        self.int_to_char = []\n",
    "\n",
    "        count = 0\n",
    "\n",
    "        # Small letters\n",
    "        count = self.add_char(\"a\",26,count)\n",
    "\n",
    "        # Capital letters\n",
    "        count = self.add_char(\"A\",26,count)\n",
    "\n",
    "        # Decimal values\n",
    "        count = self.add_char(\"0\",10,count)\n",
    "        \n",
    "        # Special characters\n",
    "        count = self.add_char(\".\",1,count)\n",
    "        count = self.add_char(\"-\",1,count)\n",
    "        count = self.add_char(\" \",1,count)\n",
    "        \n",
    "        print(\"char_to_int: \", self.char_to_int)\n",
    "        print(\"int_to_char: \",self.int_to_char)\n",
    "     \n",
    "    def add_char(self,startChar,num_run,count):\n",
    "        for i in range(num_run):\n",
    "            char = chr(ord(startChar)+i)\n",
    "            self.char_to_int[char] = count\n",
    "            self.int_to_char.append(char)\n",
    "            count += 1\n",
    "        return count\n",
    "    \n",
    "    def add_spaces(self,cur_string,cur_x,cur_y,min_val,max_val):\n",
    "        num_spaces = min_val + int(random.random()*max_val)\n",
    "\n",
    "        for j in range(num_spaces):\n",
    "            char = \" \"\n",
    "            cur_string  += char\n",
    "            cur_x.append(self.char_to_int[char])\n",
    "            cur_y.append(0)\n",
    "        return cur_string,cur_x,cur_y\n",
    "\n",
    "    def add_date(self,cur_string,cur_x,cur_y):\n",
    "        month = 1+int(random.random()*12.0)\n",
    "        day = 1+int(random.random()*30.0)\n",
    "\n",
    "        date_string = str(month) + \"-\" + str(day)\n",
    "\n",
    "        for j in range(len(date_string)):\n",
    "            char = date_string[j]\n",
    "            cur_string += char\n",
    "            cur_x.append(self.char_to_int[char])\n",
    "            cur_y.append(1)\n",
    "        return cur_string,cur_x,cur_y\n",
    "\n",
    "    def random_discription(self,cur_string,cur_x,cur_y,disc_len):\n",
    "        for j in range(disc_len):\n",
    "            rand_int = int(random.random()*len(self.char_to_int))\n",
    "            char = self.int_to_char[rand_int]\n",
    "            cur_string  += char\n",
    "            cur_x.append(self.char_to_int[char])\n",
    "            cur_y.append(2)\n",
    "\n",
    "        return cur_string,cur_x,cur_y\n",
    "\n",
    "    def add_rand_value(self,cur_string,category,cur_x,cur_y):\n",
    "\n",
    "        char = \"R\"\n",
    "        cur_string  += char\n",
    "        cur_x.append(self.char_to_int[char])\n",
    "        cur_y.append(category)\n",
    "\n",
    "        rand_float = round(random.random()*1000.0,2)\n",
    "\n",
    "        value_as_string = str(rand_float)\n",
    "\n",
    "        for j in range(len(value_as_string)):\n",
    "            char = value_as_string[j]\n",
    "            cur_string  += char\n",
    "            cur_x.append(self.char_to_int[char])\n",
    "            cur_y.append(category)\n",
    "\n",
    "        return cur_string,cur_x,cur_y\n",
    "    \n",
    "    @staticmethod\n",
    "    def zero_pad_to_numpy(data,catagory_size,max_len= None):\n",
    "        if max_len==None:\n",
    "            max_len = 0\n",
    "\n",
    "            for j in range(len(data)):\n",
    "                if len(data[j])>max_len:\n",
    "                    max_len = len(data[j])\n",
    "\n",
    "        new_data = np.zeros((len(data),max_len,catagory_size),dtype=np.int)\n",
    "\n",
    "        for j in range(len(data)):\n",
    "            for k in range(len(data[j])):\n",
    "                new_data[j][k][data[j][k]] = 1\n",
    "\n",
    "            for k in range(len(data[j]),max_len):\n",
    "                new_data[j][k][0] = 1\n",
    "        return new_data\n",
    "    \n",
    "    def generate_text_data(self,num_data=40):\n",
    "        x_data = []\n",
    "        x_text = []\n",
    "\n",
    "        y_data = []\n",
    "        \n",
    "        for i in range(num_data):\n",
    "            rand = random.random()*3\n",
    "            \n",
    "            cur_string = \"\"\n",
    "            cur_x = []\n",
    "            cur_y = []\n",
    "\n",
    "            if rand<2:\n",
    "                # Add a random amount of spaces\n",
    "                cur_string,cur_x,cur_y = self.add_spaces(cur_string,cur_x,cur_y,0,2)\n",
    "\n",
    "                # Add a random date\n",
    "                cur_string,cur_x,cur_y = self.add_date(cur_string,cur_x,cur_y)\n",
    "\n",
    "                # Add random amount of spaces\n",
    "                cur_string,cur_x,cur_y = self.add_spaces(cur_string,cur_x,cur_y,1,2)\n",
    "\n",
    "                # Add a random description\n",
    "                cur_string,cur_x,cur_y = self.random_discription(cur_string,cur_x,cur_y,20)\n",
    "\n",
    "                # Add random amount of spaces\n",
    "                cur_string,cur_x,cur_y = self.add_spaces(cur_string,cur_x,cur_y,0,2)\n",
    "\n",
    "                # Add a random rand value\n",
    "                cur_string,cur_x,cur_y = self.add_rand_value(cur_string,3,cur_x,cur_y)\n",
    "\n",
    "                # Add random amount of spaces\n",
    "                cur_string,cur_x,cur_y = self.add_spaces(cur_string,cur_x,cur_y,0,2)\n",
    "\n",
    "                # Add a random rand value\n",
    "                cur_string,cur_x,cur_y = self.add_rand_value(cur_string,4,cur_x,cur_y)\n",
    "\n",
    "                x_text.append(cur_string)\n",
    "                x_data.append(cur_x)\n",
    "                y_data.append(cur_y)\n",
    "            else:\n",
    "                # Add a random description\n",
    "                disc_len = int(random.random()*45.0)\n",
    "                cur_string,cur_x,cur_y = self.random_discription(cur_string,cur_x,cur_y,disc_len)\n",
    "\n",
    "\n",
    "        x_data = np.array(x_data)\n",
    "        y_data = np.array(y_data)\n",
    "\n",
    "        return x_data, y_data, x_text"
   ]
  },
  {
   "cell_type": "markdown",
   "metadata": {},
   "source": [
    "# Generate data"
   ]
  },
  {
   "cell_type": "code",
   "execution_count": 23,
   "metadata": {},
   "outputs": [
    {
     "name": "stdout",
     "output_type": "stream",
     "text": [
      "char_to_int:  {'3': 55, 'D': 29, 'n': 13, 'u': 20, 'O': 40, 'b': 1, 'I': 34, 'H': 33, 'l': 11, 'k': 10, 'p': 15, 'd': 3, '1': 53, 'X': 49, '5': 57, 'K': 36, 'V': 47, 'r': 17, 'B': 27, 'G': 32, 'W': 48, 's': 18, 'C': 28, 'x': 23, 'o': 14, 'w': 22, 'A': 26, '-': 63, 'Q': 42, '8': 60, 'E': 30, '0': 52, 't': 19, 'f': 5, 'P': 41, 'J': 35, 'Y': 50, '2': 54, '9': 61, 'L': 37, '4': 56, '7': 59, 'N': 39, 'j': 9, '6': 58, '.': 62, 'z': 25, 'v': 21, ' ': 64, 'c': 2, 'T': 45, 'R': 43, 'U': 46, 'e': 4, 'y': 24, 'F': 31, 'Z': 51, 'h': 7, 'q': 16, 'g': 6, 'S': 44, 'i': 8, 'a': 0, 'm': 12, 'M': 38}\n",
      "int_to_char:  ['a', 'b', 'c', 'd', 'e', 'f', 'g', 'h', 'i', 'j', 'k', 'l', 'm', 'n', 'o', 'p', 'q', 'r', 's', 't', 'u', 'v', 'w', 'x', 'y', 'z', 'A', 'B', 'C', 'D', 'E', 'F', 'G', 'H', 'I', 'J', 'K', 'L', 'M', 'N', 'O', 'P', 'Q', 'R', 'S', 'T', 'U', 'V', 'W', 'X', 'Y', 'Z', '0', '1', '2', '3', '4', '5', '6', '7', '8', '9', '.', '-', ' ']\n",
      "6-4 Urh3FU3IkV5 4xx1CktsR627.08 R11.13\n",
      "[[0 1 0 0 0]\n",
      " [0 1 0 0 0]\n",
      " [0 1 0 0 0]\n",
      " [1 0 0 0 0]\n",
      " [0 0 1 0 0]\n",
      " [0 0 1 0 0]\n",
      " [0 0 1 0 0]\n",
      " [0 0 1 0 0]\n",
      " [0 0 1 0 0]\n",
      " [0 0 1 0 0]\n",
      " [0 0 1 0 0]\n",
      " [0 0 1 0 0]\n",
      " [0 0 1 0 0]\n",
      " [0 0 1 0 0]\n",
      " [0 0 1 0 0]\n",
      " [0 0 1 0 0]\n",
      " [0 0 1 0 0]\n",
      " [0 0 1 0 0]\n",
      " [0 0 1 0 0]\n",
      " [0 0 1 0 0]\n",
      " [0 0 1 0 0]\n",
      " [0 0 1 0 0]\n",
      " [0 0 1 0 0]\n",
      " [0 0 1 0 0]\n",
      " [0 0 0 1 0]\n",
      " [0 0 0 1 0]\n",
      " [0 0 0 1 0]\n",
      " [0 0 0 1 0]\n",
      " [0 0 0 1 0]\n",
      " [0 0 0 1 0]\n",
      " [0 0 0 1 0]\n",
      " [1 0 0 0 0]\n",
      " [0 0 0 0 1]\n",
      " [0 0 0 0 1]\n",
      " [0 0 0 0 1]\n",
      " [0 0 0 0 1]\n",
      " [0 0 0 0 1]\n",
      " [0 0 0 0 1]\n",
      " [1 0 0 0 0]\n",
      " [1 0 0 0 0]\n",
      " [1 0 0 0 0]\n",
      " [1 0 0 0 0]\n",
      " [1 0 0 0 0]\n",
      " [1 0 0 0 0]]\n"
     ]
    }
   ],
   "source": [
    "np.random.seed(1330)\n",
    "\n",
    "# Hyper parameters\n",
    "num_data = 10000\n",
    "\n",
    "# Generate the data\n",
    "gen = generator()\n",
    "x_train,y_train,x_train_text = gen.generate_text_data(num_data)\n",
    "\n",
    "# Zero pad the data and convert the data into the correct format\n",
    "input_cat = len(gen.int_to_char)\n",
    "output_cat = 5\n",
    "x_train = gen.zero_pad_to_numpy(x_train,input_cat)\n",
    "y_train = gen.zero_pad_to_numpy(y_train,output_cat)\n",
    "\n",
    "print(x_train_text[0])\n",
    "print(y_train[0])"
   ]
  },
  {
   "cell_type": "markdown",
   "metadata": {},
   "source": [
    "# Create the model"
   ]
  },
  {
   "cell_type": "code",
   "execution_count": 24,
   "metadata": {},
   "outputs": [],
   "source": [
    "def create_model(input_cat,output_cat):\n",
    "    model=Sequential()\n",
    "    lstm_par = LSTM(units = 50, return_sequences = True)\n",
    "    model.add(Bidirectional(lstm_par,input_shape=(None, input_cat)))\n",
    "    model.add(Dense(units = 50))\n",
    "    model.add(Dense(activation=\"softmax\", units=output_cat))\n",
    "    model.compile(loss = \"categorical_crossentropy\",optimizer='adam', metrics=['accuracy'])\n",
    "    return model"
   ]
  },
  {
   "cell_type": "code",
   "execution_count": 25,
   "metadata": {},
   "outputs": [],
   "source": [
    "# Create the model\n",
    "input_cat = len(gen.int_to_char)\n",
    "output_cat = 5\n",
    "model = create_model(input_cat,output_cat)"
   ]
  },
  {
   "cell_type": "markdown",
   "metadata": {},
   "source": [
    "# Fit the model"
   ]
  },
  {
   "cell_type": "code",
   "execution_count": 26,
   "metadata": {},
   "outputs": [
    {
     "name": "stdout",
     "output_type": "stream",
     "text": [
      "Epoch 1/10\n",
      "6772/6772 [==============================] - 8s 1ms/step - loss: 1.4201 - acc: 0.4624\n",
      "Epoch 2/10\n",
      "6772/6772 [==============================] - 9s 1ms/step - loss: 0.9753 - acc: 0.6191\n",
      "Epoch 3/10\n",
      "6772/6772 [==============================] - 8s 1ms/step - loss: 0.5226 - acc: 0.8317\n",
      "Epoch 4/10\n",
      "6772/6772 [==============================] - 7s 1ms/step - loss: 0.2960 - acc: 0.9224\n",
      "Epoch 5/10\n",
      "6772/6772 [==============================] - 7s 1ms/step - loss: 0.1831 - acc: 0.9516\n",
      "Epoch 6/10\n",
      "6772/6772 [==============================] - 7s 1ms/step - loss: 0.1110 - acc: 0.9718\n",
      "Epoch 7/10\n",
      "6772/6772 [==============================] - 7s 991us/step - loss: 0.0683 - acc: 0.9886\n",
      "Epoch 8/10\n",
      "6772/6772 [==============================] - 7s 994us/step - loss: 0.0447 - acc: 0.9937\n",
      "Epoch 9/10\n",
      "6772/6772 [==============================] - 7s 988us/step - loss: 0.0317 - acc: 0.9959\n",
      "Epoch 10/10\n",
      "6772/6772 [==============================] - 7s 978us/step - loss: 0.0245 - acc: 0.9966\n"
     ]
    },
    {
     "data": {
      "text/plain": [
       "<keras.callbacks.History at 0x7f87afffed68>"
      ]
     },
     "execution_count": 26,
     "metadata": {},
     "output_type": "execute_result"
    }
   ],
   "source": [
    "model.fit(x_train, y_train, epochs = 10, batch_size = 400)"
   ]
  },
  {
   "cell_type": "markdown",
   "metadata": {},
   "source": [
    "# Test the model on new test data"
   ]
  },
  {
   "cell_type": "code",
   "execution_count": 27,
   "metadata": {},
   "outputs": [
    {
     "name": "stdout",
     "output_type": "stream",
     "text": [
      "Input:   2-29 oY 1EzFbt9jMBhbUeOooR644.91R689.47\n",
      "Expected output:  [0, 1, 1, 1, 1, 0, 2, 2, 2, 2, 2, 2, 2, 2, 2, 2, 2, 2, 2, 2, 2, 2, 2, 2, 2, 2, 3, 3, 3, 3, 3, 3, 3, 4, 4, 4, 4, 4, 4, 4]\n",
      "Model output:  [0 1 1 1 1 0 2 2 2 2 2 2 2 2 2 2 2 2 2 2 2 2 2 2 2 2 3 3 3 3 3 3 3 4 4 4 4\n",
      " 4 4 4 0 0 0 0]\n",
      "So I changed the zero padding. But maybe the zero padding was correct. The system just ignores that output?\n"
     ]
    }
   ],
   "source": [
    "# Generate the data\n",
    "x_test,y_test,x_test_text = gen.generate_text_data(1000)\n",
    "input_cat = len(gen.int_to_char)\n",
    "output_cat = 5\n",
    "\n",
    "# Zero pad the data and convert the data into the correct format\n",
    "x_test = gen.zero_pad_to_numpy(x_test,input_cat,max_len= 44)\n",
    "\n",
    "# Do a prediction with the model\n",
    "test_index = 100\n",
    "print(\"Input: \",x_test_text[test_index])\n",
    "print(\"Expected output: \",y_test[test_index])\n",
    "reshaped_data = x_test[test_index].reshape((1,44,65))\n",
    "\n",
    "output = model.predict(reshaped_data)\n",
    "print(\"Model output: \",np.argmax(output[0],axis=1))\n",
    "print(\"So I changed the zero padding. But maybe the zero padding was correct. The system just ignores that output?\")"
   ]
  },
  {
   "cell_type": "code",
   "execution_count": null,
   "metadata": {},
   "outputs": [],
   "source": []
  }
 ],
 "metadata": {
  "kernelspec": {
   "display_name": "Python 3",
   "language": "python",
   "name": "python3"
  },
  "language_info": {
   "codemirror_mode": {
    "name": "ipython",
    "version": 3
   },
   "file_extension": ".py",
   "mimetype": "text/x-python",
   "name": "python",
   "nbconvert_exporter": "python",
   "pygments_lexer": "ipython3",
   "version": "3.5.2"
  }
 },
 "nbformat": 4,
 "nbformat_minor": 2
}
