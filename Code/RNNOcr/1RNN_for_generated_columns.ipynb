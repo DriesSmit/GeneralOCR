{
 "cells": [
  {
   "cell_type": "code",
   "execution_count": 88,
   "metadata": {},
   "outputs": [],
   "source": [
    "import numpy as np\n",
    "from keras.datasets import imdb\n",
    "from keras.models import Sequential\n",
    "from keras.layers import Dense\n",
    "from keras.layers import LSTM\n",
    "from keras.layers import Bidirectional\n",
    "from keras.layers.embeddings import Embedding\n",
    "from keras.preprocessing import sequence\n",
    "import keras as kr\n",
    "import random"
   ]
  },
  {
   "cell_type": "markdown",
   "metadata": {},
   "source": [
    "## Generator class"
   ]
  },
  {
   "cell_type": "code",
   "execution_count": 111,
   "metadata": {},
   "outputs": [],
   "source": [
    "class generator():\n",
    "    def __init__(self):\n",
    "        self.char_to_int = {}\n",
    "        self.int_to_char = []\n",
    "\n",
    "        count = 0\n",
    "\n",
    "        # Small letters\n",
    "        count = self.add_char(\"a\",26,count)\n",
    "\n",
    "        # Capital letters\n",
    "        count = self.add_char(\"A\",26,count)\n",
    "\n",
    "        # Decimal values\n",
    "        count = self.add_char(\"0\",10,count)\n",
    "        \n",
    "        # Special characters\n",
    "        count = self.add_char(\".\",1,count)\n",
    "        count = self.add_char(\"-\",1,count)\n",
    "        count = self.add_char(\" \",1,count)\n",
    "        \n",
    "        print(\"char_to_int: \", self.char_to_int)\n",
    "        print(\"int_to_char: \",self.int_to_char)\n",
    "     \n",
    "    def add_char(self,startChar,num_run,count):\n",
    "        for i in range(num_run):\n",
    "            char = chr(ord(startChar)+i)\n",
    "            self.char_to_int[char] = count\n",
    "            self.int_to_char.append(char)\n",
    "            count += 1\n",
    "        return count\n",
    "    \n",
    "    def add_spaces(self,cur_string,cur_x,cur_y,min_val,max_val):\n",
    "        num_spaces = min_val + int(random.random()*max_val)\n",
    "\n",
    "        for j in range(num_spaces):\n",
    "            char = \" \"\n",
    "            cur_string  += char\n",
    "            cur_x.append(self.char_to_int[char])\n",
    "            cur_y.append(0)\n",
    "        return cur_string,cur_x,cur_y\n",
    "\n",
    "    def add_date(self,cur_string,cur_x,cur_y):\n",
    "        month = 1+int(random.random()*12.0)\n",
    "        day = 1+int(random.random()*30.0)\n",
    "\n",
    "        date_string = str(month) + \"-\" + str(day)\n",
    "\n",
    "        for j in range(len(date_string)):\n",
    "            char = date_string[j]\n",
    "            cur_string += char\n",
    "            cur_x.append(self.char_to_int[char])\n",
    "            cur_y.append(1)\n",
    "        return cur_string,cur_x,cur_y\n",
    "\n",
    "    def random_discription(self,cur_string,cur_x,cur_y,disc_len):\n",
    "        for j in range(disc_len):\n",
    "            rand_int = int(random.random()*len(self.char_to_int))\n",
    "            char = self.int_to_char[rand_int]\n",
    "            cur_string  += char\n",
    "            cur_x.append(self.char_to_int[char])\n",
    "            cur_y.append(2)\n",
    "\n",
    "        return cur_string,cur_x,cur_y\n",
    "\n",
    "    def add_rand_value(self,cur_string,category,cur_x,cur_y):\n",
    "\n",
    "        char = \"R\"\n",
    "        cur_string  += char\n",
    "        cur_x.append(self.char_to_int[char])\n",
    "        cur_y.append(category)\n",
    "\n",
    "        rand_float = round(random.random()*1000.0,2)\n",
    "\n",
    "        value_as_string = str(rand_float)\n",
    "\n",
    "        for j in range(len(value_as_string)):\n",
    "            char = value_as_string[j]\n",
    "            cur_string  += char\n",
    "            cur_x.append(self.char_to_int[char])\n",
    "            cur_y.append(category)\n",
    "\n",
    "        return cur_string,cur_x,cur_y\n",
    "    \n",
    "    @staticmethod\n",
    "    def zero_pad_to_numpy(data,catagory_size,max_len= None):\n",
    "        if max_len==None:\n",
    "            max_len = 0\n",
    "\n",
    "            for j in range(len(data)):\n",
    "                if len(data[j])>max_len:\n",
    "                    max_len = len(data[j])\n",
    "\n",
    "        new_data = np.zeros((len(data),max_len,catagory_size),dtype=np.int)\n",
    "\n",
    "        for j in range(len(data)):\n",
    "            for k in range(len(data[j])):\n",
    "                new_data[j][k][data[j][k]] = 1\n",
    "\n",
    "            for k in range(len(data[j]),max_len):\n",
    "                new_data[j][k][0] = 1\n",
    "        return new_data\n",
    "    \n",
    "    def generate_text_data(self,num_data=40):\n",
    "        x_data = []\n",
    "        x_text = []\n",
    "\n",
    "        y_data = []\n",
    "\n",
    "        for i in range(num_data):\n",
    "\n",
    "            cur_string = \"\"\n",
    "            cur_x = []\n",
    "            cur_y = []\n",
    "\n",
    "            # Add a random amount of spaces\n",
    "            cur_string,cur_x,cur_y = self.add_spaces(cur_string,cur_x,cur_y,0,2)\n",
    "\n",
    "            # Add a random date\n",
    "            cur_string,cur_x,cur_y = self.add_date(cur_string,cur_x,cur_y)\n",
    "\n",
    "            # Add random amount of spaces\n",
    "            cur_string,cur_x,cur_y = self.add_spaces(cur_string,cur_x,cur_y,1,2)\n",
    "\n",
    "            # Add a random description\n",
    "            cur_string,cur_x,cur_y = self.random_discription(cur_string,cur_x,cur_y,20)\n",
    "\n",
    "            # Add random amount of spaces\n",
    "            cur_string,cur_x,cur_y = self.add_spaces(cur_string,cur_x,cur_y,0,2)\n",
    "\n",
    "            # Add a random rand value\n",
    "            cur_string,cur_x,cur_y = self.add_rand_value(cur_string,3,cur_x,cur_y)\n",
    "\n",
    "            # Add random amount of spaces\n",
    "            cur_string,cur_x,cur_y = self.add_spaces(cur_string,cur_x,cur_y,0,2)\n",
    "\n",
    "            # Add a random rand value\n",
    "            cur_string,cur_x,cur_y = self.add_rand_value(cur_string,4,cur_x,cur_y)\n",
    "\n",
    "            x_text.append(cur_string)\n",
    "            x_data.append(cur_x)\n",
    "            y_data.append(cur_y)\n",
    "\n",
    "        x_data = np.array(x_data)\n",
    "        y_data = np.array(y_data)\n",
    "\n",
    "        return x_data, y_data, x_text"
   ]
  },
  {
   "cell_type": "markdown",
   "metadata": {},
   "source": [
    "# Generate data"
   ]
  },
  {
   "cell_type": "code",
   "execution_count": 113,
   "metadata": {},
   "outputs": [
    {
     "name": "stdout",
     "output_type": "stream",
     "text": [
      "char_to_int:  {'q': 16, 'v': 21, 'V': 47, 'H': 33, 'J': 35, 'T': 45, 'm': 12, '5': 57, 'a': 0, ' ': 64, 'b': 1, 'F': 31, 'L': 37, '.': 62, 'K': 36, 'u': 20, 'O': 40, '0': 52, 's': 18, 'd': 3, 'X': 49, 'j': 9, '4': 56, '1': 53, 'i': 8, 'Y': 50, '6': 58, 'N': 39, 'W': 48, '8': 60, '-': 63, 'Q': 42, 'G': 32, 'M': 38, 'p': 15, '2': 54, 'h': 7, '7': 59, 'B': 27, 'g': 6, 'f': 5, 'x': 23, 'r': 17, 't': 19, 'n': 13, 'k': 10, 'R': 43, 'w': 22, 'c': 2, 'A': 26, 'o': 14, 'z': 25, 'I': 34, '3': 55, 'D': 29, 'l': 11, 'S': 44, 'E': 30, 'e': 4, 'U': 46, 'P': 41, 'C': 28, 'Z': 51, '9': 61, 'y': 24}\n",
      "int_to_char:  ['a', 'b', 'c', 'd', 'e', 'f', 'g', 'h', 'i', 'j', 'k', 'l', 'm', 'n', 'o', 'p', 'q', 'r', 's', 't', 'u', 'v', 'w', 'x', 'y', 'z', 'A', 'B', 'C', 'D', 'E', 'F', 'G', 'H', 'I', 'J', 'K', 'L', 'M', 'N', 'O', 'P', 'Q', 'R', 'S', 'T', 'U', 'V', 'W', 'X', 'Y', 'Z', '0', '1', '2', '3', '4', '5', '6', '7', '8', '9', '.', '-', ' ']\n"
     ]
    }
   ],
   "source": [
    "np.random.seed(1330)\n",
    "\n",
    "# Hyper parameters\n",
    "num_data = 10000\n",
    "\n",
    "# Generate the data\n",
    "gen = generator()\n",
    "x_train,y_train,x_train_text = gen.generate_text_data(num_data)\n",
    "\n",
    "# Zero pad the data and convert the data into the correct format\n",
    "input_cat = len(gen.int_to_char)\n",
    "output_cat = 5\n",
    "x_train = gen.zero_pad_to_numpy(x_train,input_cat)\n",
    "y_train = gen.zero_pad_to_numpy(y_train,output_cat)\n",
    "\n",
    "#print(x_train_text[0])\n",
    "#print(y_train[0])"
   ]
  },
  {
   "cell_type": "markdown",
   "metadata": {},
   "source": [
    "# Create the model"
   ]
  },
  {
   "cell_type": "code",
   "execution_count": 114,
   "metadata": {},
   "outputs": [],
   "source": [
    "def create_model(input_dim,output_cat):\n",
    "    model=Sequential()\n",
    "    lstm_par = LSTM(units = 50, return_sequences = True)\n",
    "    model.add(Bidirectional(lstm_par,input_shape=(None, input_cat)))\n",
    "    model.add(Dense(units = 50))\n",
    "    model.add(Dense(activation=\"softmax\", units=output_cat))\n",
    "    model.compile(loss = \"mse\",optimizer='adam', metrics=['accuracy'])\n",
    "    return model"
   ]
  },
  {
   "cell_type": "code",
   "execution_count": 115,
   "metadata": {},
   "outputs": [],
   "source": [
    "# Create the model\n",
    "input_cat = len(gen.int_to_char)\n",
    "output_cat = 5\n",
    "model = create_model(input_cat,output_cat)"
   ]
  },
  {
   "cell_type": "markdown",
   "metadata": {},
   "source": [
    "# Fit the model"
   ]
  },
  {
   "cell_type": "code",
   "execution_count": 116,
   "metadata": {},
   "outputs": [
    {
     "name": "stdout",
     "output_type": "stream",
     "text": [
      "Epoch 1/10\n",
      "10000/10000 [==============================] - 11s 1ms/step - loss: 0.1332 - acc: 0.4888\n",
      "Epoch 2/10\n",
      "10000/10000 [==============================] - 9s 942us/step - loss: 0.0748 - acc: 0.7460\n",
      "Epoch 3/10\n",
      "10000/10000 [==============================] - 9s 945us/step - loss: 0.0308 - acc: 0.9169\n",
      "Epoch 4/10\n",
      "10000/10000 [==============================] - 9s 942us/step - loss: 0.0191 - acc: 0.9525\n",
      "Epoch 5/10\n",
      "10000/10000 [==============================] - 9s 941us/step - loss: 0.0118 - acc: 0.9736\n",
      "Epoch 6/10\n",
      "10000/10000 [==============================] - 10s 964us/step - loss: 0.0044 - acc: 0.9937\n",
      "Epoch 7/10\n",
      "10000/10000 [==============================] - 9s 949us/step - loss: 0.0022 - acc: 0.9967\n",
      "Epoch 8/10\n",
      "10000/10000 [==============================] - 9s 945us/step - loss: 0.0015 - acc: 0.9974\n",
      "Epoch 9/10\n",
      "10000/10000 [==============================] - 10s 963us/step - loss: 0.0012 - acc: 0.9977\n",
      "Epoch 10/10\n",
      "10000/10000 [==============================] - 9s 948us/step - loss: 9.7941e-04 - acc: 0.9981\n"
     ]
    },
    {
     "data": {
      "text/plain": [
       "<keras.callbacks.History at 0x7fec798852e8>"
      ]
     },
     "execution_count": 116,
     "metadata": {},
     "output_type": "execute_result"
    }
   ],
   "source": [
    "model.fit(x_train, y_train, epochs = 10, batch_size = 400)"
   ]
  },
  {
   "cell_type": "markdown",
   "metadata": {},
   "source": [
    "# Test the model on new test data"
   ]
  },
  {
   "cell_type": "code",
   "execution_count": 117,
   "metadata": {},
   "outputs": [
    {
     "name": "stdout",
     "output_type": "stream",
     "text": [
      "Input:   8-27 GtZK7D9HKp42nsv-u7rzR906.8 R400.79\n",
      "Expected output:  [0, 1, 1, 1, 1, 0, 2, 2, 2, 2, 2, 2, 2, 2, 2, 2, 2, 2, 2, 2, 2, 2, 2, 2, 2, 2, 3, 3, 3, 3, 3, 3, 0, 4, 4, 4, 4, 4, 4, 4]\n",
      "Model output:  [0 1 1 1 1 0 2 2 2 2 2 2 2 2 2 2 2 2 2 2 2 2 2 2 2 2 3 3 3 3 3 3 0 4 4 4 4\n",
      " 4 4 4 0 0 0 0]\n"
     ]
    }
   ],
   "source": [
    "# Generate the data\n",
    "x_test,y_test,x_test_text = gen.generate_text_data(1000)\n",
    "input_cat = len(gen.int_to_char)\n",
    "output_cat = 5\n",
    "\n",
    "# Zero pad the data and convert the data into the correct format\n",
    "x_test = gen.zero_pad_to_numpy(x_test,input_cat,max_len= 44)\n",
    "\n",
    "# Do a prediction with the model\n",
    "test_index = 100\n",
    "print(\"Input: \",x_test_text[test_index])\n",
    "print(\"Expected output: \",y_test[test_index])\n",
    "reshaped_data = x_test[test_index].reshape((1,44,65))\n",
    "\n",
    "output = model.predict(reshaped_data)\n",
    "print(\"Model output: \",np.argmax(output[0],axis=1))"
   ]
  },
  {
   "cell_type": "code",
   "execution_count": null,
   "metadata": {},
   "outputs": [],
   "source": []
  }
 ],
 "metadata": {
  "kernelspec": {
   "display_name": "Python 3",
   "language": "python",
   "name": "python3"
  },
  "language_info": {
   "codemirror_mode": {
    "name": "ipython",
    "version": 3
   },
   "file_extension": ".py",
   "mimetype": "text/x-python",
   "name": "python",
   "nbconvert_exporter": "python",
   "pygments_lexer": "ipython3",
   "version": "3.5.2"
  }
 },
 "nbformat": 4,
 "nbformat_minor": 2
}
