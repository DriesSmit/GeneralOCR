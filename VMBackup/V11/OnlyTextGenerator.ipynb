{
 "cells": [
  {
   "cell_type": "code",
   "execution_count": 11,
   "metadata": {},
   "outputs": [],
   "source": [
    "from __future__ import absolute_import, division, print_function\n",
    "\n",
    "from os import listdir\n",
    "import xmltodict\n",
    "import pandas\n",
    "from StringIO import StringIO\n",
    "%matplotlib inline\n",
    "from tqdm import tqdm\n",
    "import math\n",
    "import matplotlib\n",
    "import numpy as np\n",
    "import matplotlib.pyplot as plt\n",
    "from datetime import date\n",
    "from praelexis_file_system_provider.data_access_layer import AzureBlobStorageDataAccessLayer\n",
    "import PyPDF2\n",
    "import subprocess\n",
    "import shutil\n",
    "import os\n",
    "from PIL import Image"
   ]
  },
  {
   "cell_type": "markdown",
   "metadata": {},
   "source": [
    "### Connect to blob storage"
   ]
  },
  {
   "cell_type": "code",
   "execution_count": 7,
   "metadata": {},
   "outputs": [
    {
     "name": "stdout",
     "output_type": "stream",
     "text": [
      "Number of files:  8000\n"
     ]
    }
   ],
   "source": [
    "blob_dal = AzureBlobStorageDataAccessLayer('devcapitecdata', 'Gt5z0EAAAm5ZETk//WBnRiQUZ9FDB/BmLmbx5ZPRtDwh6vxTDAB/XzLlM+m/epfnDYcZ8JDfMEGg1p9tBW0iFQ==', 'bank-statements', home_directory='drop/Documentum_line_files')\n",
    "\n",
    "blob_dal.connect()\n",
    "files = blob_dal.list(path='CI')\n",
    "\n",
    "print (\"Number of files: \", len(files))\n"
   ]
  },
  {
   "cell_type": "code",
   "execution_count": 24,
   "metadata": {},
   "outputs": [
    {
     "name": "stdout",
     "output_type": "stream",
     "text": [
      "0f427a33-cbed-4673-a5d0-79dce1b8d45b.pdf\n",
      "0f427a33-cbed-4673-a5d0-79dce1b8d45b_POCSTATEMENTSSTD_Capitec__19122017_022834_1154.xml\n",
      "CI/\n"
     ]
    }
   ],
   "source": [
    "print(files[500].name)\n",
    "print(files[501].name)\n",
    "print(files[501].directory)"
   ]
  },
  {
   "cell_type": "markdown",
   "metadata": {},
   "source": [
    "### Download and convert all pdfs to a text file"
   ]
  },
  {
   "cell_type": "markdown",
   "metadata": {},
   "source": [
    "The software downloads each pdf and converts it to a tif file. The tif file is then sent through Tesseract. A text file is then generated for each pdf image that contains the estimated text found using Tesseract. The pdf and tif files are deleted immediately after they are not needed anymore, leaving only the text files."
   ]
  },
  {
   "cell_type": "code",
   "execution_count": 27,
   "metadata": {},
   "outputs": [
    {
     "name": "stderr",
     "output_type": "stream",
     "text": [
      "\r",
      "  0%|          | 0/8000 [00:00<?, ?it/s]"
     ]
    },
    {
     "name": "stdout",
     "output_type": "stream",
     "text": [
      "env: TESSDATA_PREFIX=/tesseract/tessdata\n",
      "Working on file number: 1417\n",
      "It took  0.07  seconds download the pdf.\n",
      "(0, '')\n",
      "It took  5.16  seconds to convert the pdf to tif.\n",
      "Deleting the pdf file.\n",
      "Pdf deleted.\n",
      "Command:  tesseract ./test_files/temp.tif ./test_files/Example1417 -l eng\n"
     ]
    },
    {
     "name": "stderr",
     "output_type": "stream",
     "text": [
      "\n"
     ]
    },
    {
     "ename": "KeyboardInterrupt",
     "evalue": "",
     "output_type": "error",
     "traceback": [
      "\u001b[1;31m---------------------------------------------------------------------------\u001b[0m",
      "\u001b[1;31mKeyboardInterrupt\u001b[0m                         Traceback (most recent call last)",
      "\u001b[1;32m<ipython-input-27-44bfa0332292>\u001b[0m in \u001b[0;36m<module>\u001b[1;34m()\u001b[0m\n\u001b[0;32m     36\u001b[0m             \u001b[0mcommand\u001b[0m \u001b[1;33m=\u001b[0m \u001b[1;34m\"tesseract \"\u001b[0m \u001b[1;33m+\u001b[0m \u001b[0mtifDir\u001b[0m \u001b[1;33m+\u001b[0m \u001b[1;34m\" \"\u001b[0m\u001b[1;33m+\u001b[0m\u001b[0mfolderDir\u001b[0m\u001b[1;33m+\u001b[0m\u001b[1;34m\"Example\"\u001b[0m\u001b[1;33m+\u001b[0m\u001b[0mstr\u001b[0m\u001b[1;33m(\u001b[0m\u001b[0mfileNum\u001b[0m\u001b[1;33m+\u001b[0m\u001b[1;36m1\u001b[0m\u001b[1;33m)\u001b[0m\u001b[1;33m+\u001b[0m\u001b[1;34m\" -l eng\"\u001b[0m\u001b[1;33m\u001b[0m\u001b[0m\n\u001b[0;32m     37\u001b[0m             \u001b[1;32mprint\u001b[0m\u001b[1;33m(\u001b[0m\u001b[1;34m\"Command: \"\u001b[0m\u001b[1;33m,\u001b[0m \u001b[0mcommand\u001b[0m\u001b[1;33m)\u001b[0m\u001b[1;33m\u001b[0m\u001b[0m\n\u001b[1;32m---> 38\u001b[1;33m             \u001b[0ms\u001b[0m\u001b[1;33m=\u001b[0m\u001b[0mcommands\u001b[0m\u001b[1;33m.\u001b[0m\u001b[0mgetstatusoutput\u001b[0m\u001b[1;33m(\u001b[0m\u001b[0mcommand\u001b[0m\u001b[1;33m)\u001b[0m\u001b[1;33m\u001b[0m\u001b[0m\n\u001b[0m\u001b[0;32m     39\u001b[0m             \u001b[1;32mprint\u001b[0m\u001b[1;33m(\u001b[0m\u001b[0ms\u001b[0m\u001b[1;33m)\u001b[0m\u001b[1;33m\u001b[0m\u001b[0m\n\u001b[0;32m     40\u001b[0m             \u001b[1;32mprint\u001b[0m\u001b[1;33m(\u001b[0m\u001b[1;34m\"It took \"\u001b[0m\u001b[1;33m,\u001b[0m\u001b[0mround\u001b[0m\u001b[1;33m(\u001b[0m\u001b[0mtime\u001b[0m\u001b[1;33m.\u001b[0m\u001b[0mtime\u001b[0m\u001b[1;33m(\u001b[0m\u001b[1;33m)\u001b[0m\u001b[1;33m-\u001b[0m\u001b[0mstart\u001b[0m\u001b[1;33m)\u001b[0m\u001b[1;33m,\u001b[0m \u001b[1;34m\" to run tesseract on the tif file.\"\u001b[0m\u001b[1;33m)\u001b[0m\u001b[1;33m\u001b[0m\u001b[0m\n",
      "\u001b[1;32m/opt/conda/lib/python2.7/commands.pyc\u001b[0m in \u001b[0;36mgetstatusoutput\u001b[1;34m(cmd)\u001b[0m\n\u001b[0;32m     58\u001b[0m     \u001b[1;32mimport\u001b[0m \u001b[0mos\u001b[0m\u001b[1;33m\u001b[0m\u001b[0m\n\u001b[0;32m     59\u001b[0m     \u001b[0mpipe\u001b[0m \u001b[1;33m=\u001b[0m \u001b[0mos\u001b[0m\u001b[1;33m.\u001b[0m\u001b[0mpopen\u001b[0m\u001b[1;33m(\u001b[0m\u001b[1;34m'{ '\u001b[0m \u001b[1;33m+\u001b[0m \u001b[0mcmd\u001b[0m \u001b[1;33m+\u001b[0m \u001b[1;34m'; } 2>&1'\u001b[0m\u001b[1;33m,\u001b[0m \u001b[1;34m'r'\u001b[0m\u001b[1;33m)\u001b[0m\u001b[1;33m\u001b[0m\u001b[0m\n\u001b[1;32m---> 60\u001b[1;33m     \u001b[0mtext\u001b[0m \u001b[1;33m=\u001b[0m \u001b[0mpipe\u001b[0m\u001b[1;33m.\u001b[0m\u001b[0mread\u001b[0m\u001b[1;33m(\u001b[0m\u001b[1;33m)\u001b[0m\u001b[1;33m\u001b[0m\u001b[0m\n\u001b[0m\u001b[0;32m     61\u001b[0m     \u001b[0msts\u001b[0m \u001b[1;33m=\u001b[0m \u001b[0mpipe\u001b[0m\u001b[1;33m.\u001b[0m\u001b[0mclose\u001b[0m\u001b[1;33m(\u001b[0m\u001b[1;33m)\u001b[0m\u001b[1;33m\u001b[0m\u001b[0m\n\u001b[0;32m     62\u001b[0m     \u001b[1;32mif\u001b[0m \u001b[0msts\u001b[0m \u001b[1;32mis\u001b[0m \u001b[0mNone\u001b[0m\u001b[1;33m:\u001b[0m \u001b[0msts\u001b[0m \u001b[1;33m=\u001b[0m \u001b[1;36m0\u001b[0m\u001b[1;33m\u001b[0m\u001b[0m\n",
      "\u001b[1;31mKeyboardInterrupt\u001b[0m: "
     ]
    }
   ],
   "source": [
    "import commands\n",
    "import time\n",
    "#import glob\n",
    "\n",
    "folderDir = \"./test_files/\"\n",
    "%env TESSDATA_PREFIX=/tesseract/tessdata\n",
    "for fileNum in tqdm(range(len(files))):\n",
    "    if files[fileNum].name[-3:]==\"pdf\":\n",
    "        pdfName = files[fileNum].directory + files[fileNum].name\n",
    "        if not os.path.isfile(folderDir+\"Example\"+str(fileNum+1)+\".txt\"):\n",
    "            print(\"Working on file number: \"+str(fileNum+1))\n",
    "            # Download the pdf file\n",
    "            start = time.time()\n",
    "            matchString = files[fileNum].name[:-4]\n",
    "            stream = StringIO()\n",
    "            blob_dal.get(pdfName, stream)\n",
    "            pdfDir = folderDir+\"temp.pdf\"\n",
    "            with open (pdfDir, 'w') as tmp:\n",
    "              stream.seek (0)\n",
    "              shutil.copyfileobj (stream, tmp)\n",
    "            print(\"It took \",round(time.time()-start,2),\" seconds download the pdf.\")\n",
    "            \n",
    "            # Convert the pdf to tif and then to text\n",
    "            \n",
    "            start = time.time()\n",
    "            tifDir = folderDir+\"temp.tif\"\n",
    "            s=commands.getstatusoutput(\"convert -density 300 -units pixelsperinch \"+pdfDir+\" -quality 100 \"+tifDir)\n",
    "            print(s)\n",
    "            print(\"It took \",round(time.time()-start,2),\" seconds to convert the pdf to tif.\")\n",
    "            \n",
    "            print(\"Deleting the pdf file.\")\n",
    "            s=commands.getstatusoutput(\"rm \" + pdfDir)\n",
    "            print(\"Pdf deleted.\")\n",
    "            \n",
    "            start = time.time()\n",
    "            command = \"tesseract \" + tifDir + \" \"+folderDir+\"Example\"+str(fileNum+1)+\" -l eng\"\n",
    "            print(\"Command: \", command)\n",
    "            s=commands.getstatusoutput(command)\n",
    "            print(s)\n",
    "            print(\"It took \",round(time.time()-start), \" to run tesseract on the tif file.\")\n",
    "\n",
    "            print(\"Deleting the tif file.\")\n",
    "            s=commands.getstatusoutput(\"rm \" + tifDir)\n",
    "            print(\"Tif deleted.\")"
   ]
  },
  {
   "cell_type": "code",
   "execution_count": null,
   "metadata": {},
   "outputs": [],
   "source": []
  }
 ],
 "metadata": {
  "kernelspec": {
   "display_name": "Python 2",
   "language": "python",
   "name": "python2"
  },
  "language_info": {
   "codemirror_mode": {
    "name": "ipython",
    "version": 2
   },
   "file_extension": ".py",
   "mimetype": "text/x-python",
   "name": "python",
   "nbconvert_exporter": "python",
   "pygments_lexer": "ipython2",
   "version": "2.7.13"
  }
 },
 "nbformat": 4,
 "nbformat_minor": 2
}
