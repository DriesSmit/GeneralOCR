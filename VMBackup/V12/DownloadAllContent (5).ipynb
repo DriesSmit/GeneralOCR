{
 "cells": [
  {
   "cell_type": "code",
   "execution_count": 58,
   "metadata": {},
   "outputs": [],
   "source": [
    "from __future__ import absolute_import, division, print_function\n",
    "\n",
    "from os import listdir\n",
    "import xmltodict\n",
    "import pandas\n",
    "from StringIO import StringIO\n",
    "%matplotlib inline\n",
    "from tqdm import tqdm\n",
    "import math\n",
    "import matplotlib\n",
    "import numpy as np\n",
    "import matplotlib.pyplot as plt\n",
    "from datetime import date\n",
    "from praelexis_file_system_provider.data_access_layer import AzureBlobStorageDataAccessLayer\n",
    "import PyPDF2\n",
    "import subprocess\n",
    "import shutil\n",
    "import os\n",
    "from PIL import Image"
   ]
  },
  {
   "cell_type": "markdown",
   "metadata": {},
   "source": [
    "### Connect to blob storage"
   ]
  },
  {
   "cell_type": "code",
   "execution_count": 59,
   "metadata": {},
   "outputs": [
    {
     "name": "stdout",
     "output_type": "stream",
     "text": [
      "Number of files:  8000\n"
     ]
    }
   ],
   "source": [
    "blob_dal = AzureBlobStorageDataAccessLayer('devcapitecdata', 'Gt5z0EAAAm5ZETk//WBnRiQUZ9FDB/BmLmbx5ZPRtDwh6vxTDAB/XzLlM+m/epfnDYcZ8JDfMEGg1p9tBW0iFQ==', 'bank-statements', home_directory='drop/Documentum_line_files')\n",
    "\n",
    "blob_dal.connect()\n",
    "files = blob_dal.list(path='CI')\n",
    "\n",
    "print (\"Number of files: \", len(files))\n"
   ]
  },
  {
   "cell_type": "code",
   "execution_count": 60,
   "metadata": {},
   "outputs": [
    {
     "name": "stdout",
     "output_type": "stream",
     "text": [
      "0f427a33-cbed-4673-a5d0-79dce1b8d45b.pdf\n",
      "0f427a33-cbed-4673-a5d0-79dce1b8d45b_POCSTATEMENTSSTD_Capitec__19122017_022834_1154.xml\n",
      "CI/\n"
     ]
    }
   ],
   "source": [
    "print(files[500].name)\n",
    "print(files[501].name)\n",
    "print(files[501].directory)"
   ]
  },
  {
   "cell_type": "markdown",
   "metadata": {},
   "source": [
    "### Download and convert all pdfs to a text file"
   ]
  },
  {
   "cell_type": "markdown",
   "metadata": {},
   "source": [
    "The software downloads each pdf and converts it to a tif file. The tif file is then sent through Tesseract. A text file is then generated for each pdf image that contains the estimated text found using Tesseract. The pdf and tif files are deleted immediately after they are not needed anymore, leaving only the text files."
   ]
  },
  {
   "cell_type": "code",
   "execution_count": null,
   "metadata": {},
   "outputs": [
    {
     "name": "stderr",
     "output_type": "stream",
     "text": [
      "\r",
      "  0%|          | 0/8000 [00:00<?, ?it/s]"
     ]
    },
    {
     "name": "stdout",
     "output_type": "stream",
     "text": [
      "env: TESSDATA_PREFIX=/tesseract/tessdata\n",
      "Working on file number: 1\n",
      "It took  0.16  seconds download the pdf.\n",
      "(0, '')\n",
      "It took  9.34  seconds to convert the pdf to tif.\n",
      "Deleting the pdf file.\n",
      "Pdf deleted.\n",
      "Command:  tesseract ./test_files/temp.tif ./test_files/Example1 -l eng batch.nochop makebox\n"
     ]
    },
    {
     "name": "stderr",
     "output_type": "stream",
     "text": [
      "\r",
      "  0%|          | 1/8000 [00:53<117:51:13, 53.04s/it]"
     ]
    },
    {
     "name": "stdout",
     "output_type": "stream",
     "text": [
      "(0, 'Tesseract Open Source OCR Engine v4.00.00alpha with Leptonica\\nPage 1\\nPage 2\\nPage 3\\nPage 4\\nPage 5\\nPage 6')\n",
      "It took  43.0  to run tesseract on the tif file.\n",
      "Deleting the tif file.\n",
      "Tif deleted.\n",
      "Working on file number: 2\n",
      "It took  0.07  seconds download the pdf.\n",
      "(0, '')\n",
      "It took  3.61  seconds to convert the pdf to tif.\n",
      "Deleting the pdf file.\n",
      "Pdf deleted.\n",
      "Command:  tesseract ./test_files/temp.tif ./test_files/Example2 -l eng batch.nochop makebox\n"
     ]
    },
    {
     "name": "stderr",
     "output_type": "stream",
     "text": [
      "\r",
      "  0%|          | 3/8000 [01:09<88:01:36, 39.63s/it] "
     ]
    },
    {
     "name": "stdout",
     "output_type": "stream",
     "text": [
      "(0, 'Tesseract Open Source OCR Engine v4.00.00alpha with Leptonica\\nPage 1\\nPage 2')\n",
      "It took  13.0  to run tesseract on the tif file.\n",
      "Deleting the tif file.\n",
      "Tif deleted.\n",
      "Working on file number: 3\n",
      "It took  0.07  seconds download the pdf.\n",
      "(0, '')\n",
      "It took  12.32  seconds to convert the pdf to tif.\n",
      "Deleting the pdf file.\n",
      "Pdf deleted.\n",
      "Command:  tesseract ./test_files/temp.tif ./test_files/Example3 -l eng batch.nochop makebox\n"
     ]
    },
    {
     "name": "stderr",
     "output_type": "stream",
     "text": [
      "\r",
      "  0%|          | 5/8000 [02:22<85:53:41, 38.68s/it]"
     ]
    },
    {
     "name": "stdout",
     "output_type": "stream",
     "text": [
      "(0, 'Tesseract Open Source OCR Engine v4.00.00alpha with Leptonica\\nPage 1\\nPage 2\\nPage 3\\nPage 4\\nPage 5\\nPage 6\\nPage 7\\nPage 8')\n",
      "It took  60.0  to run tesseract on the tif file.\n",
      "Deleting the tif file.\n",
      "Tif deleted.\n",
      "Working on file number: 4\n",
      "It took  0.1  seconds download the pdf.\n",
      "(0, '')\n",
      "It took  19.16  seconds to convert the pdf to tif.\n",
      "Deleting the pdf file.\n",
      "Pdf deleted.\n",
      "Command:  tesseract ./test_files/temp.tif ./test_files/Example4 -l eng batch.nochop makebox\n"
     ]
    },
    {
     "name": "stderr",
     "output_type": "stream",
     "text": [
      "\r",
      "  0%|          | 7/8000 [04:17<98:17:10, 44.27s/it]"
     ]
    },
    {
     "name": "stdout",
     "output_type": "stream",
     "text": [
      "(0, 'Tesseract Open Source OCR Engine v4.00.00alpha with Leptonica\\nPage 1\\nPage 2\\nPage 3\\nPage 4\\nPage 5\\nPage 6\\nPage 7\\nPage 8\\nPage 9\\nPage 10\\nPage 11\\nPage 12')\n",
      "It took  95.0  to run tesseract on the tif file.\n",
      "Deleting the tif file.\n",
      "Tif deleted.\n",
      "Working on file number: 5\n",
      "It took  0.12  seconds download the pdf.\n",
      "(0, '')\n",
      "It took  11.76  seconds to convert the pdf to tif.\n",
      "Deleting the pdf file.\n",
      "Pdf deleted.\n",
      "Command:  tesseract ./test_files/temp.tif ./test_files/Example5 -l eng batch.nochop makebox\n"
     ]
    },
    {
     "name": "stderr",
     "output_type": "stream",
     "text": [
      "\r",
      "  0%|          | 9/8000 [05:19<89:34:37, 40.36s/it]"
     ]
    },
    {
     "name": "stdout",
     "output_type": "stream",
     "text": [
      "(0, 'Tesseract Open Source OCR Engine v4.00.00alpha with Leptonica\\nPage 1\\nPage 2\\nPage 3\\nPage 4\\nPage 5\\nPage 6\\nPage 7')\n",
      "It took  50.0  to run tesseract on the tif file.\n",
      "Deleting the tif file.\n",
      "Tif deleted.\n",
      "Working on file number: 6\n",
      "It took  0.18  seconds download the pdf.\n"
     ]
    }
   ],
   "source": [
    "import commands\n",
    "import time\n",
    "#import glob\n",
    "\n",
    "folderDir = \"./test_files/\"\n",
    "%env TESSDATA_PREFIX=/tesseract/tessdata\n",
    "count = 0\n",
    "for fileNum in tqdm(range(len(files))):\n",
    "    if files[fileNum].name[-3:]==\"pdf\":\n",
    "        count += 1\n",
    "        pdfName = files[fileNum].directory + files[fileNum].name\n",
    "        if not os.path.isfile(folderDir+\"Example\"+str(count)+\".box\"):\n",
    "            print(\"Working on file number: \"+str(count))\n",
    "            # Download the pdf file\n",
    "            start = time.time()\n",
    "            matchString = files[fileNum].name[:-4]\n",
    "            stream = StringIO()\n",
    "            blob_dal.get(pdfName, stream)\n",
    "            pdfDir = folderDir+\"temp.pdf\"\n",
    "            with open (pdfDir, 'w') as tmp:\n",
    "              stream.seek (0)\n",
    "              shutil.copyfileobj (stream, tmp)\n",
    "            print(\"It took \",round(time.time()-start,2),\" seconds download the pdf.\")\n",
    "            \n",
    "            # Convert the pdf to tif and then to text\n",
    "            \n",
    "            start = time.time()\n",
    "            tifDir = folderDir+\"temp.tif\"\n",
    "            s=commands.getstatusoutput(\"convert -density 300 -units pixelsperinch \"+pdfDir+\" -quality 100 \"+tifDir)\n",
    "            print(s)\n",
    "            print(\"It took \",round(time.time()-start,2),\" seconds to convert the pdf to tif.\")\n",
    "            \n",
    "            print(\"Deleting the pdf file.\")\n",
    "            s=commands.getstatusoutput(\"rm \" + pdfDir)\n",
    "            print(\"Pdf deleted.\")\n",
    "            \n",
    "            start = time.time()\n",
    "            command = \"tesseract \" + tifDir + \" \"+folderDir+\"Example\"+str(count)+\" -l eng batch.nochop makebox\"\n",
    "            print(\"Command: \", command)\n",
    "            s=commands.getstatusoutput(command)\n",
    "            print(s)\n",
    "            print(\"It took \",round(time.time()-start), \" to run tesseract on the tif file.\")\n",
    "\n",
    "            print(\"Deleting the tif file.\")\n",
    "            s=commands.getstatusoutput(\"rm \" + tifDir)\n",
    "            print(\"Tif deleted.\")"
   ]
  },
  {
   "cell_type": "code",
   "execution_count": null,
   "metadata": {},
   "outputs": [],
   "source": []
  }
 ],
 "metadata": {
  "kernelspec": {
   "display_name": "Python 2",
   "language": "python",
   "name": "python2"
  },
  "language_info": {
   "codemirror_mode": {
    "name": "ipython",
    "version": 2
   },
   "file_extension": ".py",
   "mimetype": "text/x-python",
   "name": "python",
   "nbconvert_exporter": "python",
   "pygments_lexer": "ipython2",
   "version": "2.7.13"
  }
 },
 "nbformat": 4,
 "nbformat_minor": 2
}
