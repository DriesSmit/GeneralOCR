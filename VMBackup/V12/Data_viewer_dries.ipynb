{
 "cells": [
  {
   "cell_type": "code",
   "execution_count": 2,
   "metadata": {},
   "outputs": [],
   "source": [
    "from __future__ import absolute_import, division, print_function\n",
    "\n",
    "from os import listdir\n",
    "import xmltodict\n",
    "import pandas\n",
    "from StringIO import StringIO\n",
    "%matplotlib inline\n",
    "from tqdm import tqdm\n",
    "import math\n",
    "import matplotlib\n",
    "import numpy as np\n",
    "import matplotlib.pyplot as plt\n",
    "from datetime import date\n",
    "from praelexis_file_system_provider.data_access_layer import AzureBlobStorageDataAccessLayer\n",
    "import PyPDF2\n",
    "import subprocess\n",
    "import shutil\n",
    "import os\n",
    "\n",
    "from PIL import Image\n",
    "import commands\n",
    "import time\n",
    "import glob\n",
    "from shutil import copyfile\n",
    "import os.path\n",
    "\n",
    "\n",
    "import commands\n",
    "import time"
   ]
  },
  {
   "cell_type": "markdown",
   "metadata": {},
   "source": [
    "### Connect to blob storage"
   ]
  },
  {
   "cell_type": "code",
   "execution_count": 3,
   "metadata": {},
   "outputs": [
    {
     "name": "stdout",
     "output_type": "stream",
     "text": [
      "Number of files:  8000\n"
     ]
    }
   ],
   "source": [
    "blob_dal = AzureBlobStorageDataAccessLayer('devcapitecdata', 'Gt5z0EAAAm5ZETk//WBnRiQUZ9FDB/BmLmbx5ZPRtDwh6vxTDAB/XzLlM+m/epfnDYcZ8JDfMEGg1p9tBW0iFQ==', 'bank-statements', home_directory='drop/Documentum_line_files')\n",
    "\n",
    "blob_dal.connect()\n",
    "files = blob_dal.list(path='CI')\n",
    "\n",
    "print (\"Number of files: \", len(files))\n"
   ]
  },
  {
   "cell_type": "code",
   "execution_count": 4,
   "metadata": {
    "scrolled": true
   },
   "outputs": [
    {
     "name": "stdout",
     "output_type": "stream",
     "text": [
      "0f427a33-cbed-4673-a5d0-79dce1b8d45b.pdf\n",
      "0f427a33-cbed-4673-a5d0-79dce1b8d45b_POCSTATEMENTSSTD_Capitec__19122017_022834_1154.xml\n"
     ]
    }
   ],
   "source": [
    "\n",
    "print(files[500].name)\n",
    "print(files[501].name)\n"
   ]
  },
  {
   "cell_type": "markdown",
   "metadata": {},
   "source": [
    "### Pdf viewer"
   ]
  },
  {
   "cell_type": "code",
   "execution_count": 6,
   "metadata": {},
   "outputs": [
    {
     "name": "stdout",
     "output_type": "stream",
     "text": [
      "Up to example 755 has successfully been calculated.\n",
      "Only view examples lower or equal to Example 755.\n"
     ]
    }
   ],
   "source": [
    "folder_src_dir = \"./test_files/\"\n",
    "folder_dst_dir = \"./view_output/\"\n",
    "\n",
    "for i in range(len(files)):\n",
    "    loc_dir = folder_src_dir + \"Example\" + str(i+1)+\"_loc.txt\"\n",
    "    if not os.path.isfile(loc_dir): \n",
    "        print(\"Up to example \"+str(i)+ \" has successfully been calculated.\")\n",
    "        print(\"Only view examples lower or equal to Example \"+str(i)+ \".\")\n",
    "        break"
   ]
  },
  {
   "cell_type": "code",
   "execution_count": 11,
   "metadata": {},
   "outputs": [
    {
     "name": "stdout",
     "output_type": "stream",
     "text": [
      "Pdf directory:  CI/31463891-aeca-4903-937d-9420b18c9e24.pdf\n",
      "Creating the tif file...\n",
      "(0, '')\n",
      "It took  12.41  seconds to convert the pdf to tif.\n",
      "Done\n"
     ]
    }
   ],
   "source": [
    "# Set the example number to view\n",
    "example_number = 755\n",
    "\n",
    "loc_dir = folder_src_dir + \"Example\" + str(example_number)+\"_loc.txt\"\n",
    "f = open(loc_dir,'r')\n",
    "pdf_src_dir = f.readline()\n",
    "       \n",
    "print(\"Pdf directory: \", pdf_src_dir)\n",
    "\n",
    "# Create a temp pdf file\n",
    "stream = StringIO()\n",
    "blob_dal.get(pdf_src_dir, stream)\n",
    "pdf_dst_dir = folder_dst_dir+\"Output.pdf\"\n",
    "with open (pdf_dst_dir, 'w') as tmp:\n",
    "    stream.seek (0)\n",
    "    shutil.copyfileobj (stream, tmp)\n",
    "\n",
    "# Create tif file\n",
    "print(\"Creating the tif file...\")\n",
    "start = time.time()\n",
    "tif_dir = folder_dst_dir+\"Output.tif\"\n",
    "s=commands.getstatusoutput(\"convert -density 300 -units pixelsperinch \"+pdf_dst_dir+\" -quality 100 \"+tif_dir)\n",
    "print(s)\n",
    "print(\"It took \",round(time.time()-start,2),\" seconds to convert the pdf to tif.\")\n",
    "\n",
    "# Copy the text and box file   \n",
    "txt_src_dir = folder_src_dir + \"Example\" + str(example_number)+\".txt\"\n",
    "txt_dst_dir = folder_dst_dir + \"Output.txt\"\n",
    "copyfile(txt_src_dir, txt_dst_dir)\n",
    "\n",
    "txt_box_src_dir = folder_src_dir + \"Example\" + str(example_number)+\".box\"\n",
    "txt_box_dst_dir = folder_dst_dir + \"Output.box\"\n",
    "copyfile(txt_box_src_dir, txt_box_dst_dir)\n",
    "    \n",
    "print(\"Done\")"
   ]
  },
  {
   "cell_type": "code",
   "execution_count": null,
   "metadata": {},
   "outputs": [],
   "source": []
  }
 ],
 "metadata": {
  "kernelspec": {
   "display_name": "Python 2",
   "language": "python",
   "name": "python2"
  },
  "language_info": {
   "codemirror_mode": {
    "name": "ipython",
    "version": 2
   },
   "file_extension": ".py",
   "mimetype": "text/x-python",
   "name": "python",
   "nbconvert_exporter": "python",
   "pygments_lexer": "ipython2",
   "version": "2.7.13"
  }
 },
 "nbformat": 4,
 "nbformat_minor": 2
}
