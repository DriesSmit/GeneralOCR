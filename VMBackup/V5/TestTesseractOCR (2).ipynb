{
 "cells": [
  {
   "cell_type": "code",
   "execution_count": 292,
   "metadata": {},
   "outputs": [],
   "source": [
    "from __future__ import absolute_import, division, print_function\n",
    "\n",
    "from os import listdir\n",
    "import xmltodict\n",
    "import pandas\n",
    "from StringIO import StringIO\n",
    "%matplotlib inline\n",
    "from tqdm import tqdm\n",
    "import math\n",
    "import matplotlib\n",
    "import numpy as np\n",
    "import matplotlib.pyplot as plt\n",
    "from datetime import date\n",
    "from praelexis_file_system_provider.data_access_layer import AzureBlobStorageDataAccessLayer\n",
    "import PyPDF2\n",
    "import subprocess\n",
    "import shutil\n",
    "import os\n",
    "\n",
    "import pytesseract\n",
    "from PIL import Image"
   ]
  },
  {
   "cell_type": "markdown",
   "metadata": {},
   "source": [
    "### Connect to blob storage"
   ]
  },
  {
   "cell_type": "code",
   "execution_count": 295,
   "metadata": {},
   "outputs": [
    {
     "name": "stdout",
     "output_type": "stream",
     "text": [
      "Number of files:  8000\n",
      "CI/0f427a33-cbed-4673-a5d0-79dce1b8d45b.pdf\n",
      "CI/0f427a33-cbed-4673-a5d0-79dce1b8d45b_POCSTATEMENTSSTD_Capitec__19122017_022834_1154.xml\n"
     ]
    }
   ],
   "source": [
    "blob_dal = AzureBlobStorageDataAccessLayer('devcapitecdata', 'Gt5z0EAAAm5ZETk//WBnRiQUZ9FDB/BmLmbx5ZPRtDwh6vxTDAB/XzLlM+m/epfnDYcZ8JDfMEGg1p9tBW0iFQ==', 'bank-statements', home_directory='drop/Documentum_line_files')\n",
    "\n",
    "blob_dal.connect()\n",
    "files = blob_dal.list(path='CI')\n",
    "\n",
    "print (\"Number of files: \", len(files))\n"
   ]
  },
  {
   "cell_type": "code",
   "execution_count": 297,
   "metadata": {},
   "outputs": [
    {
     "name": "stdout",
     "output_type": "stream",
     "text": [
      "0f427a33-cbed-4673-a5d0-79dce1b8d45b.pdf\n",
      "0f427a33-cbed-4673-a5d0-79dce1b8d45b_POCSTATEMENTSSTD_Capitec__19122017_022834_1154.xml\n"
     ]
    }
   ],
   "source": [
    "\n",
    "print(files[500].name)\n",
    "print(files[501].name)\n"
   ]
  },
  {
   "cell_type": "markdown",
   "metadata": {},
   "source": [
    "### Download random pdfs and their xml files"
   ]
  },
  {
   "cell_type": "code",
   "execution_count": 308,
   "metadata": {},
   "outputs": [
    {
     "name": "stderr",
     "output_type": "stream",
     "text": [
      "100%|██████████| 200/200 [00:27<00:00,  7.19it/s]\n"
     ]
    }
   ],
   "source": [
    "import random\n",
    "random.seed(1000)\n",
    "numToTest = 200\n",
    "\n",
    "for i in tqdm(range(numToTest)):\n",
    "    randNum = int(len(files)/2.0*random.random())*2-10 \n",
    "    \n",
    "    while(files[randNum].name[-3:]!=\"pdf\"):\n",
    "        randNum-=1\n",
    "\n",
    "    pdfName = files[randNum].directory + files[randNum].name\n",
    "    \n",
    "    matchString = files[randNum].name[:-4]\n",
    "    #print(matchString)\n",
    "    if matchString in files[randNum-1].name:\n",
    "        #print(files[randNum].name,\" \",files[randNum-1].name)\n",
    "        xmlName = files[randNum-1].directory + files[randNum-1].name\n",
    "    else:\n",
    "        #print (\"Else\")\n",
    "        #print(files[randNum].name,\" \",files[randNum+1].name)\n",
    "        xmlName = files[randNum+1].directory + files[randNum+1].name\n",
    "    #print (\"Downloading: \", pdfName , \" and \", xmlName)\n",
    "        \n",
    "    stream = StringIO()\n",
    "    blob_dal.get(pdfName, stream)\n",
    "    with open (\"./TestRandomExamples/\"+\"Example\"+str(i+1)+\".pdf\", 'w') as tmp:\n",
    "      stream.seek (0)\n",
    "      shutil.copyfileobj (stream, tmp)\n",
    "    \n",
    "    stream = StringIO()\n",
    "    blob_dal.get(xmlName, stream)\n",
    "    with open (\"./TestRandomExamples/\"+\"Example\"+str(i+1)+\".xml\", 'w') as tmp:\n",
    "      stream.seek (0)\n",
    "      shutil.copyfileobj (stream, tmp)"
   ]
  },
  {
   "cell_type": "markdown",
   "metadata": {},
   "source": [
    "### Convert and test document 1 document"
   ]
  },
  {
   "cell_type": "markdown",
   "metadata": {},
   "source": [
    "Command to generate boxes from tesseract\n",
    "\n",
    "command = 'tesseract ./TestRandomExamples/testText.jpg ./TestRandomExamples/testText  batch.nochop makebox'"
   ]
  },
  {
   "cell_type": "code",
   "execution_count": 258,
   "metadata": {},
   "outputs": [
    {
     "name": "stdout",
     "output_type": "stream",
     "text": [
      "env: TESSDATA_PREFIX=/tesseract-ocr/tessdata/\n",
      "(0, '')\n",
      "It took  12.58  seconds to convert the pdf.\n",
      "Command:  tesseract ./TestRandomExamples/Example2.tif ./TestRandomExamples/Example2 -l eng bazaar\n",
      "(0, 'Tesseract Open Source OCR Engine v4.00.00alpha with Leptonica\\nPage 1\\nPage 2\\nPage 3\\nPage 4\\nPage 5\\nPage 6')\n",
      "It took  131.0  to run tesseract on the tif file.\n",
      "Done\n"
     ]
    }
   ],
   "source": [
    "import commands\n",
    "import time\n",
    "import glob\n",
    "\n",
    "exampleNumber = 2\n",
    "\n",
    "%env TESSDATA_PREFIX=/tesseract-ocr/tessdata/\n",
    "\n",
    "pdfNames = glob.glob(\"./TestRandomExamples/*.pdf\")\n",
    "\n",
    "fileName = pdfNames[exampleNumber-1]\n",
    "\n",
    "start = time.time()\n",
    "s=commands.getstatusoutput(\"convert -density 300 -units pixelsperinch \"+str(fileName)+\" -quality 100 \"+str(fileName[:-4])+\".tif\")\n",
    "print(s)\n",
    "print(\"It took \",round(time.time()-start,2),\" seconds to convert the pdf.\")\n",
    "\n",
    "start = time.time()\n",
    "command = \"tesseract \"+str(fileName[:-4])+\".tif \"+str(fileName[:-4])+ \" -l eng bazaar\"\n",
    "print(\"Command: \", command)\n",
    "s=commands.getstatusoutput(command)\n",
    "print(s)\n",
    "print(\"It took \",round(time.time()-start), \" to run tesseract on the tif file.\")\n",
    "\n",
    "s=commands.getstatusoutput(\"convert -density 300 -units pixelsperinch \"+str(fileName)+\" -quality 100 \"+str(fileName[:-4])+\".tif\")\n",
    "print(s)\n",
    "print(\"It took \",round(time.time()-start,2),\" seconds to convert the pdf.\")\n",
    "\n",
    "print(\"Done\")"
   ]
  },
  {
   "cell_type": "markdown",
   "metadata": {},
   "source": [
    "### Convert and process all pdfs"
   ]
  },
  {
   "cell_type": "markdown",
   "metadata": {},
   "source": [
    "The pdfs are first converted to tif files. The tif files are then sent through Tesseract. A text file is then generated for each pdf image with the estimated text found using Tesseract."
   ]
  },
  {
   "cell_type": "code",
   "execution_count": 225,
   "metadata": {},
   "outputs": [],
   "source": [
    "#import commands\n",
    "#s=commands.getstatusoutput(\"tesseract ./TestRandomExamples/Example1.tif ./TestRandomExamples/Example1 -l eng\")\n",
    "#print(s)"
   ]
  },
  {
   "cell_type": "code",
   "execution_count": null,
   "metadata": {},
   "outputs": [
    {
     "name": "stderr",
     "output_type": "stream",
     "text": [
      "\r",
      "  0%|          | 0/200 [00:00<?, ?it/s]"
     ]
    },
    {
     "name": "stdout",
     "output_type": "stream",
     "text": [
      "env: TESSDATA_PREFIX=/tesseract-ocr/tessdata/\n",
      "Number of pdfs found:  200\n",
      "(0, '')\n",
      "It took  10.02  seconds to convert the pdf.\n",
      "Command:  tesseract ./TestRandomExamples/Example1.tif ./TestRandomExamples/Example1 -l eng\n"
     ]
    }
   ],
   "source": [
    "import commands\n",
    "import time\n",
    "import glob\n",
    "\n",
    "%env TESSDATA_PREFIX=/tesseract-ocr/tessdata/\n",
    "\n",
    "pdfNames = glob.glob(\"./TestRandomExamples/*.pdf\")\n",
    "\n",
    "print(\"Number of pdfs found: \",len(pdfNames))\n",
    "\n",
    "for i in tqdm(range(len(pdfNames))):\n",
    "    start = time.time()\n",
    "    tifLoc = str(pdfNames[i][:-4])+\".tif \"\n",
    "    s=commands.getstatusoutput(\"convert -density 300 -units pixelsperinch \"+str(pdfNames[i])+\" -quality 100 \"+tifLoc)\n",
    "    print(s)\n",
    "    print(\"It took \",round(time.time()-start,2),\" seconds to convert the pdf.\")\n",
    "\n",
    "    start = time.time()\n",
    "    command = \"tesseract \" + tifLoc + \" \"+str(pdfNames[i][:-4])+\" -l eng\"\n",
    "    print(\"Command: \", command)\n",
    "    s=commands.getstatusoutput(command)\n",
    "    print(s)\n",
    "    print(\"It took \",round(time.time()-start), \" to run tesseract on the tif file.\")\n",
    "    \n",
    "    print(\"Deleting the tif file.\")\n",
    "    s=commands.getstatusoutput(\"rm \" + tifLoc)\n",
    "    print(\"Tif deleted. Please check.\")\n",
    "    exit(0)\n",
    "\n",
    "print(\"Done\")"
   ]
  },
  {
   "cell_type": "markdown",
   "metadata": {},
   "source": [
    "### Test amount value errors"
   ]
  },
  {
   "cell_type": "code",
   "execution_count": 264,
   "metadata": {},
   "outputs": [],
   "source": [
    "def getValues(fileName):\n",
    "    f = open(txtNames[i],'r')\n",
    "    values = []\n",
    "    line = f.readline()\n",
    "    while line:\n",
    "\n",
    "        amountLen = 0\n",
    "        valueLine = []\n",
    "        for index,char in enumerate(line):\n",
    "            \n",
    "            if amountLen>0:\n",
    "                if char == '0' or char == '1' or char == '2' or char == '3' or char == '4' or char == '5'or \\\n",
    "                char == '6' or char == '7' or char == '8' or char == '9' or char == ' ' or char == ',' or \\\n",
    "                char == '.' or char == '-' or char == '+':\n",
    "                    amountLen+=1\n",
    "                else:\n",
    "                    if amountLen>1 and line[index-amountLen:index] != \"R \":\n",
    "                        amount = str(line[index-amountLen:index])\n",
    "                        amount = amount.replace(\"R\", \"\")\n",
    "                        amount = amount.replace(\",\", \"\")\n",
    "                        amount = amount.replace(\" \", \"\")\n",
    "                        amount = amount.replace(\".\", \"\")\n",
    "                        valueLine.append(amount)\n",
    "                        #print(amount)\n",
    "                        \n",
    "                        if len(valueLine)==2:\n",
    "                            break\n",
    "                        \n",
    "                    amountLen = 0\n",
    "                    \n",
    "            if char == 'R' and amountLen==0 and (len(valueLine)>0 or line[index-1] == ' '):\n",
    "                amountLen = 1\n",
    "        if len(valueLine)>0:\n",
    "            values.append(valueLine)\n",
    "        line = f.readline()\n",
    "    return values\n",
    "    \n",
    "def getResult(values):\n",
    "    possibleAlt = 0.0\n",
    "    right = 0.0\n",
    "    total = 0\n",
    "    skip = 0\n",
    "    for base in range(1,len(values)):\n",
    "        i = base + skip\n",
    "        try:\n",
    "            #print(values[i])\n",
    "            if len(values[i])==2:\n",
    "                if round(float(values[i][1])-float(values[i][0]),2) == round(float(values[i-1][len(values[i-1])-1]),2):\n",
    "                    right+=1\n",
    "                else:\n",
    "                    skip += 1\n",
    "                    #print(\"Wrong. Ans: \", float(values[i][1]),\" minus \",float(values[i][0]),\" must equal \",float(values[i-1][len(values[i-1])-1]), \". But true subtraction: \",round(float(values[i][1])-float(values[i][0]),2))\n",
    "                total += 1\n",
    "        except:\n",
    "            #print(\"Not a number.\")\n",
    "            total +=1\n",
    "    \n",
    "    return round(right*100.0/total,2) if total>0 else 0.0"
   ]
  },
  {
   "cell_type": "code",
   "execution_count": 265,
   "metadata": {},
   "outputs": [
    {
     "name": "stderr",
     "output_type": "stream",
     "text": [
      "100%|██████████| 11/11 [00:00<00:00, 557.92it/s]"
     ]
    },
    {
     "name": "stdout",
     "output_type": "stream",
     "text": [
      "Number of textfiles found:  11\n",
      "Calculating error for file:  1\n",
      "Correct percentage:  93.38 %\n",
      "Calculating error for file:  2\n",
      "Correct percentage:  16.98 %\n",
      "Calculating error for file:  3\n",
      "Correct percentage:  83.05 %\n",
      "Calculating error for file:  4\n",
      "Correct percentage:  29.63 %\n",
      "Calculating error for file:  5\n",
      "Correct percentage:  0.0 %\n",
      "Calculating error for file:  6\n",
      "Correct percentage:  0.0 %\n",
      "Calculating error for file:  7\n",
      "Correct percentage:  70.83 %\n",
      "Calculating error for file:  8\n",
      "Correct percentage:  0.0 %\n",
      "Calculating error for file:  9\n",
      "Correct percentage:  0.0 %\n",
      "Calculating error for file:  10\n",
      "Correct percentage:  0.0 %\n",
      "Calculating error for file:  11\n",
      "Correct percentage:  24.24 %\n"
     ]
    },
    {
     "name": "stderr",
     "output_type": "stream",
     "text": [
      "\n"
     ]
    }
   ],
   "source": [
    "txtNames = glob.glob(\"./TestRandomExamples/*.txt\")\n",
    "print(\"Number of textfiles found: \",len(txtNames))\n",
    "result = np.zeros(len(txtNames))\n",
    "for i in tqdm(range(len(txtNames))):\n",
    "    print(\"Calculating error for file: \",str(i+1))\n",
    "    values = getValues(txtNames[i])\n",
    "    \n",
    "    res = getResult(values)\n",
    "    result[i] = res\n",
    "    print(\"Correct percentage: \", res,\"%\")"
   ]
  },
  {
   "cell_type": "markdown",
   "metadata": {},
   "source": [
    "### Plot the results"
   ]
  },
  {
   "cell_type": "code",
   "execution_count": 284,
   "metadata": {},
   "outputs": [
    {
     "data": {
      "text/plain": [
       "Text(0.5,0,u'Balance accuracy in percentage (%)')"
      ]
     },
     "execution_count": 284,
     "metadata": {},
     "output_type": "execute_result"
    },
    {
     "data": {
      "image/png": "[encoded data removed]",
      "text/plain": [
       "<matplotlib.figure.Figure at 0x7f21066a7950>"
      ]
     },
     "metadata": {},
     "output_type": "display_data"
    }
   ],
   "source": [
    "import matplotlib.pyplot as plt\n",
    "import numpy as np\n",
    "%matplotlib inline\n",
    "x = result#np.random.normal(size = 1000)\n",
    "plt.hist(x, bins=20)\n",
    "plt.title('Balance accuracy of sample statements')\n",
    "plt.ylabel('Perentage of statements')\n",
    "plt.xlabel('Balance accuracy in percentage (%)')"
   ]
  },
  {
   "cell_type": "markdown",
   "metadata": {},
   "source": [
    "### Read the xml and output using pandas"
   ]
  },
  {
   "cell_type": "code",
   "execution_count": null,
   "metadata": {},
   "outputs": [],
   "source": [
    "import xml.etree.cElementTree as et\n",
    "import pandas as pd\n",
    " \n",
    "def getvalueofnode(node):\n",
    "    \"\"\" return node text or None \"\"\"\n",
    "    return node.text if node is not None else None\n",
    " \n",
    "\"\"\" main \"\"\"\n",
    "path = './TestExamples/Example1.xml'\n",
    "parsed_xml = et.parse(path)\n",
    "dfcols = ['postdate', 'description','fee','payments','deposits','balance']\n",
    "df_xml = pd.DataFrame(columns=dfcols)\n",
    "child = parsed_xml.getroot().getchildren()[2].getchildren()\n",
    "for node in child:\n",
    "    postdate = node.find('postdate')\n",
    "    description = node.find('description')\n",
    "    fee = node.find('fee')\n",
    "    payments = node.find('payments')\n",
    "    deposits = node.find('deposits')\n",
    "    balance = node.find('balance')\n",
    "\n",
    "    df_xml = df_xml.append(\n",
    "        pd.Series([getvalueofnode(postdate),\n",
    "                   getvalueofnode(description),\n",
    "                   getvalueofnode(fee),\n",
    "                   getvalueofnode(payments),\n",
    "                   getvalueofnode(deposits),\n",
    "                   getvalueofnode(balance)], index=dfcols),\n",
    "        ignore_index=True)\n",
    "\n",
    "print df_xml"
   ]
  }
 ],
 "metadata": {
  "kernelspec": {
   "display_name": "Python 2",
   "language": "python",
   "name": "python2"
  },
  "language_info": {
   "codemirror_mode": {
    "name": "ipython",
    "version": 2
   },
   "file_extension": ".py",
   "mimetype": "text/x-python",
   "name": "python",
   "nbconvert_exporter": "python",
   "pygments_lexer": "ipython2",
   "version": "2.7.12"
  }
 },
 "nbformat": 4,
 "nbformat_minor": 2
}
