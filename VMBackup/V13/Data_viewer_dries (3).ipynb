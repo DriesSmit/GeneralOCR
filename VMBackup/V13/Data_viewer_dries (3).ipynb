{
 "cells": [
  {
   "cell_type": "code",
   "execution_count": 28,
   "metadata": {},
   "outputs": [],
   "source": [
    "from __future__ import absolute_import, division, print_function\n",
    "\n",
    "from os import listdir\n",
    "import xmltodict\n",
    "import pandas\n",
    "from StringIO import StringIO\n",
    "from tqdm import tqdm\n",
    "import math\n",
    "import matplotlib\n",
    "import numpy as np\n",
    "import matplotlib.pyplot as plt\n",
    "from datetime import date\n",
    "from praelexis_file_system_provider.data_access_layer import AzureBlobStorageDataAccessLayer\n",
    "import PyPDF2\n",
    "import subprocess\n",
    "import shutil\n",
    "import os\n",
    "\n",
    "from PIL import Image\n",
    "import commands\n",
    "import time\n",
    "import glob\n",
    "from shutil import copyfile\n",
    "import os.path\n",
    "import commands\n",
    "import time\n",
    "\n",
    "%matplotlib inline"
   ]
  },
  {
   "cell_type": "markdown",
   "metadata": {},
   "source": [
    "### Connect to Blob Store\n",
    "Opens up a connection to the Azure blog store where the PDF and XML files provided by Capitec are stored."
   ]
  },
  {
   "cell_type": "code",
   "execution_count": 29,
   "metadata": {},
   "outputs": [
    {
     "name": "stdout",
     "output_type": "stream",
     "text": [
      "Number of files:  8000\n"
     ]
    }
   ],
   "source": [
    "blob_dal = AzureBlobStorageDataAccessLayer('devcapitecdata', 'Gt5z0EAAAm5ZETk//WBnRiQUZ9FDB/BmLmbx5ZPRtDwh6vxTDAB/XzLlM+m/epfnDYcZ8JDfMEGg1p9tBW0iFQ==', 'bank-statements', home_directory='drop/Documentum_line_files')\n",
    "blob_dal.connect()\n",
    "files = blob_dal.list(path='CI')\n",
    "\n",
    "print (\"Number of files: \", len(files))"
   ]
  },
  {
   "cell_type": "markdown",
   "metadata": {},
   "source": [
    "### Pdf viewer"
   ]
  },
  {
   "cell_type": "markdown",
   "metadata": {},
   "source": [
    "#### Functions"
   ]
  },
  {
   "cell_type": "code",
   "execution_count": 66,
   "metadata": {},
   "outputs": [],
   "source": [
    "def how_many_files(src_dir):\n",
    "    \"\"\"\n",
    "    Notifies the user as to how many example files there are in the directory.\n",
    "    \"\"\"\n",
    "    max_example = 0 \n",
    "\n",
    "    # How many text files we have in the source dir\n",
    "    for i in range(0, len(files)):\n",
    "        # file name \n",
    "        loc_dir = src_dir + \"Example\" + str(i + 1) + \"_loc.txt\"\n",
    "\n",
    "        # if the file does not exist, we have reached the limit\n",
    "        if not os.path.isfile(loc_dir): \n",
    "            max_example = i-1\n",
    "            print(\"Up to example \" + str(i-1) + \" has successfully been calculated.\")\n",
    "            print(\"Only view examples lower or equal to Example \" + str(i-1) + \".\")\n",
    "            break\n",
    "            \n",
    "    return max_example\n",
    "\n",
    "def download_pdf(example_number, output_name, src_dir, working_dir):\n",
    "    \"\"\"\n",
    "    Downloads the PDF from the source dir and saves it to the local working dir\n",
    "    \"\"\"\n",
    "    # Select the pdf wanted from src_dir\n",
    "    loc_dir = src_dir + \"Example\" + str(example_number)+\"_loc.txt\"\n",
    "    f = open(loc_dir,'r')\n",
    "    pdf_src_dir = f.readline()\n",
    "    # Create a temp pdf file in this working dir\n",
    "    stream = StringIO()\n",
    "    blob_dal.get(pdf_src_dir, stream)\n",
    "\n",
    "    pdf_dst_dir = working_dir +output_name + \".pdf\"\n",
    "\n",
    "    with open (pdf_dst_dir, 'w') as tmp:\n",
    "        stream.seek(0)\n",
    "        shutil.copyfileobj(stream, tmp)\n",
    "        \n",
    "def create_tif(output_name, working_dir):\n",
    "    \"\"\"\n",
    "    Creates a tif file in the working dir\n",
    "    \"\"\"\n",
    "    tif_dir = working_dir + output_name + \".tif\"\n",
    "    pdf_dst_dir = working_dir + output_name + \".pdf\"\n",
    "    if os.path.isfile(pdf_dst_dir):\n",
    "        start = time.time()\n",
    "        print(\"Creating the tif file...\")\n",
    "        s=commands.getstatusoutput(\"convert -density 300 -units pixelsperinch \" + pdf_dst_dir + \" -quality 100 \" + tif_dir)\n",
    "        print(\"It took \",round(time.time()-start,2),\" seconds to convert the pdf to tif.\")\n",
    "    else:\n",
    "        print(\"The pdf has not been created yet. Please create the pdf first.\")\n",
    "def copy_txt(example_number,output_name,src_dir,working_dir):\n",
    "    txt_src_dir = src_dir + \"Example\" + str(example_number)+\".txt\"\n",
    "    txt_dst_dir = working_dir + output_name + \".txt\"\n",
    "    copyfile(txt_src_dir, txt_dst_dir)\n",
    "    \n",
    "def copy_box(example_number,output_name,src_dir,working_dir):\n",
    "    box_src_dir = src_dir + \"Example\" + str(example_number)+\".box\"\n",
    "    box_dst_dir = working_dir + output_name + \".box\"\n",
    "    copyfile(box_src_dir, box_dst_dir)"
   ]
  },
  {
   "cell_type": "markdown",
   "metadata": {},
   "source": [
    "#### Main Code"
   ]
  },
  {
   "cell_type": "code",
   "execution_count": 67,
   "metadata": {},
   "outputs": [
    {
     "name": "stdout",
     "output_type": "stream",
     "text": [
      "Up to example 1876 has successfully been calculated.\n",
      "Only view examples lower or equal to Example 1876.\n",
      "This example number has not been generated yet. Setting the example number to the max value of: 1876\n"
     ]
    }
   ],
   "source": [
    "# Set the example number to view\n",
    "example_number = 2000\n",
    "output_name = \"DriesOutput\"\n",
    "\n",
    "src_dir = \"./test_files/\"\n",
    "working_dir = \"./view_output/\"\n",
    "\n",
    "max_example = how_many_files(src_dir=src_dir)\n",
    "\n",
    "# Error handeling\n",
    "if example_number > max_example:\n",
    "    print(\"This example number has not been generated yet. Setting the example number to the max value of:\", max_example)\n",
    "    example_number = max_example"
   ]
  },
  {
   "cell_type": "code",
   "execution_count": 74,
   "metadata": {
    "scrolled": true
   },
   "outputs": [
    {
     "name": "stdout",
     "output_type": "stream",
     "text": [
      "Pdf created.\n"
     ]
    }
   ],
   "source": [
    "# Download the given example pdf\n",
    "download_pdf(example_number, output_name, src_dir, working_dir)\n",
    "print(\"Pdf created.\")"
   ]
  },
  {
   "cell_type": "code",
   "execution_count": 78,
   "metadata": {},
   "outputs": [
    {
     "name": "stdout",
     "output_type": "stream",
     "text": [
      "Creating the tif file...\n",
      "It took  8.44  seconds to convert the pdf to tif.\n",
      "Tif file created.\n"
     ]
    }
   ],
   "source": [
    "# Create a output tif file for the given pdf\n",
    "create_tif(output_name, working_dir)\n",
    "print(\"Tif file created.\")"
   ]
  },
  {
   "cell_type": "code",
   "execution_count": 76,
   "metadata": {},
   "outputs": [
    {
     "name": "stdout",
     "output_type": "stream",
     "text": [
      "Text file copied.\n"
     ]
    }
   ],
   "source": [
    "# Copy the text file for the given example\n",
    "copy_txt(example_number,output_name,src_dir,working_dir)\n",
    "print(\"Text file copied.\")"
   ]
  },
  {
   "cell_type": "code",
   "execution_count": 75,
   "metadata": {},
   "outputs": [
    {
     "name": "stdout",
     "output_type": "stream",
     "text": [
      "Box file copied.\n"
     ]
    }
   ],
   "source": [
    "# Copy the box file for the given example\n",
    "copy_box(example_number,output_name,src_dir,working_dir)\n",
    "print(\"Box file copied.\")"
   ]
  },
  {
   "cell_type": "code",
   "execution_count": null,
   "metadata": {},
   "outputs": [],
   "source": []
  }
 ],
 "metadata": {
  "kernelspec": {
   "display_name": "Python 2",
   "language": "python",
   "name": "python2"
  },
  "language_info": {
   "codemirror_mode": {
    "name": "ipython",
    "version": 2
   },
   "file_extension": ".py",
   "mimetype": "text/x-python",
   "name": "python",
   "nbconvert_exporter": "python",
   "pygments_lexer": "ipython2",
   "version": "2.7.13"
  }
 },
 "nbformat": 4,
 "nbformat_minor": 2
}
