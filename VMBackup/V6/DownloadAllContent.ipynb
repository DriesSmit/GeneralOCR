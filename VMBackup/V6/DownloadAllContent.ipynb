{
 "cells": [
  {
   "cell_type": "code",
   "execution_count": 7,
   "metadata": {},
   "outputs": [],
   "source": [
    "from __future__ import absolute_import, division, print_function\n",
    "\n",
    "from os import listdir\n",
    "import xmltodict\n",
    "import pandas\n",
    "from StringIO import StringIO\n",
    "%matplotlib inline\n",
    "from tqdm import tqdm\n",
    "import math\n",
    "import matplotlib\n",
    "import numpy as np\n",
    "import matplotlib.pyplot as plt\n",
    "from datetime import date\n",
    "from praelexis_file_system_provider.data_access_layer import AzureBlobStorageDataAccessLayer\n",
    "import PyPDF2\n",
    "import subprocess\n",
    "import shutil\n",
    "import os\n",
    "\n",
    "import pytesseract\n",
    "from PIL import Image"
   ]
  },
  {
   "cell_type": "markdown",
   "metadata": {},
   "source": [
    "### Connect to blob storage"
   ]
  },
  {
   "cell_type": "code",
   "execution_count": 8,
   "metadata": {},
   "outputs": [
    {
     "name": "stdout",
     "output_type": "stream",
     "text": [
      "Number of files:  8000\n"
     ]
    }
   ],
   "source": [
    "blob_dal = AzureBlobStorageDataAccessLayer('devcapitecdata', 'Gt5z0EAAAm5ZETk//WBnRiQUZ9FDB/BmLmbx5ZPRtDwh6vxTDAB/XzLlM+m/epfnDYcZ8JDfMEGg1p9tBW0iFQ==', 'bank-statements', home_directory='drop/Documentum_line_files')\n",
    "\n",
    "blob_dal.connect()\n",
    "files = blob_dal.list(path='CI')\n",
    "\n",
    "print (\"Number of files: \", len(files))\n"
   ]
  },
  {
   "cell_type": "code",
   "execution_count": 9,
   "metadata": {},
   "outputs": [
    {
     "name": "stdout",
     "output_type": "stream",
     "text": [
      "0f427a33-cbed-4673-a5d0-79dce1b8d45b.pdf\n",
      "0f427a33-cbed-4673-a5d0-79dce1b8d45b_POCSTATEMENTSSTD_Capitec__19122017_022834_1154.xml\n"
     ]
    }
   ],
   "source": [
    "print(files[500].name)\n",
    "print(files[501].name)"
   ]
  },
  {
   "cell_type": "markdown",
   "metadata": {},
   "source": [
    "### Download all pdfs and their xml files"
   ]
  },
  {
   "cell_type": "code",
   "execution_count": 10,
   "metadata": {},
   "outputs": [
    {
     "name": "stderr",
     "output_type": "stream",
     "text": [
      "100%|██████████| 2/2 [00:00<00:00, 10.44it/s]\n"
     ]
    }
   ],
   "source": [
    "numToTest = len(files)\n",
    "folderLoc = \"./TestAllExamples/\"\n",
    "for i in tqdm(range(numToTest)):\n",
    "    fileNum = i\n",
    "    while(files[fileNum].name[-3:]!=\"pdf\"):\n",
    "        fileNum-=1\n",
    "\n",
    "    pdfName = files[fileNum].directory + files[fileNum].name\n",
    "    \n",
    "    matchString = files[fileNum].name[:-4]\n",
    "    #print(matchString)\n",
    "    if matchString in files[fileNum-1].name and fileNum>0:\n",
    "        xmlName = files[fileNum-1].directory + files[fileNum-1].name\n",
    "    else:\n",
    "        xmlName = files[fileNum+1].directory + files[fileNum+1].name\n",
    "    #print (\"Downloading: \", pdfName , \" and \", xmlName)\n",
    "        \n",
    "    stream = StringIO()\n",
    "    blob_dal.get(pdfName, stream)\n",
    "    with open (folderLoc+\"Example\"+str(i+1)+\".pdf\", 'w') as tmp:\n",
    "      stream.seek (0)\n",
    "      shutil.copyfileobj (stream, tmp)\n",
    "    \n",
    "    stream = StringIO()\n",
    "    blob_dal.get(xmlName, stream)\n",
    "    with open (folderLoc+\"Example\"+str(i+1)+\".xml\", 'w') as tmp:\n",
    "      stream.seek (0)\n",
    "      shutil.copyfileobj (stream, tmp)"
   ]
  },
  {
   "cell_type": "markdown",
   "metadata": {},
   "source": [
    "### Convert and process all pdfs"
   ]
  },
  {
   "cell_type": "markdown",
   "metadata": {},
   "source": [
    "The pdfs are first converted to tif files. The tif files are then sent through Tesseract. A text file is then generated for each pdf image with the estimated text found using Tesseract."
   ]
  },
  {
   "cell_type": "code",
   "execution_count": 11,
   "metadata": {},
   "outputs": [],
   "source": [
    "#import commands\n",
    "#s=commands.getstatusoutput(\"tesseract ./TestRandomExamples/Example1.tif ./TestRandomExamples/Example1 -l eng\")\n",
    "#print(s)"
   ]
  },
  {
   "cell_type": "code",
   "execution_count": null,
   "metadata": {},
   "outputs": [
    {
     "name": "stderr",
     "output_type": "stream",
     "text": [
      "\r",
      "  0%|          | 0/5 [00:00<?, ?it/s]"
     ]
    },
    {
     "name": "stdout",
     "output_type": "stream",
     "text": [
      "env: TESSDATA_PREFIX=/leptonica/tesseract/tessdata\n",
      "Number of pdfs found:  5\n",
      "(0, '')\n",
      "It took  11.13  seconds to convert the pdf.\n",
      "Command:  tesseract ./TestAllExamples/Example1.tif ./TestAllExamples/Example1 -l eng\n"
     ]
    },
    {
     "name": "stderr",
     "output_type": "stream",
     "text": [
      "\r",
      " 20%|██        | 1/5 [02:16<09:07, 136.82s/it]"
     ]
    },
    {
     "name": "stdout",
     "output_type": "stream",
     "text": [
      "(0, 'Tesseract Open Source OCR Engine v4.00.00alpha with Leptonica\\nPage 1\\nPage 2\\nPage 3\\nPage 4\\nPage 5\\nPage 6')\n",
      "It took  126.0  to run tesseract on the tif file.\n",
      "Deleting the tif file.\n",
      "Tif deleted. Please check.\n",
      "(0, '')\n",
      "It took  10.53  seconds to convert the pdf.\n",
      "Command:  tesseract ./TestAllExamples/Example2.tif ./TestAllExamples/Example2 -l eng\n"
     ]
    },
    {
     "name": "stderr",
     "output_type": "stream",
     "text": [
      "\r",
      " 40%|████      | 2/5 [03:35<05:58, 119.46s/it]"
     ]
    },
    {
     "name": "stdout",
     "output_type": "stream",
     "text": [
      "(0, 'Tesseract Open Source OCR Engine v4.00.00alpha with Leptonica\\nPage 1\\nPage 2\\nPage 3\\nPage 4\\nPage 5\\nPage 6')\n",
      "It took  68.0  to run tesseract on the tif file.\n",
      "Deleting the tif file.\n",
      "Tif deleted. Please check.\n",
      "(0, '')\n",
      "It took  3.8  seconds to convert the pdf.\n",
      "Command:  tesseract ./TestAllExamples/Example3.tif ./TestAllExamples/Example3 -l eng\n"
     ]
    },
    {
     "name": "stderr",
     "output_type": "stream",
     "text": [
      "\r",
      " 60%|██████    | 3/5 [04:07<03:06, 93.14s/it] "
     ]
    },
    {
     "name": "stdout",
     "output_type": "stream",
     "text": [
      "(0, 'Tesseract Open Source OCR Engine v4.00.00alpha with Leptonica\\nPage 1\\nPage 2')\n",
      "It took  28.0  to run tesseract on the tif file.\n",
      "Deleting the tif file.\n",
      "Tif deleted. Please check.\n",
      "(0, '')\n",
      "It took  3.72  seconds to convert the pdf.\n",
      "Command:  tesseract ./TestAllExamples/Example4.tif ./TestAllExamples/Example4 -l eng\n",
      "(0, 'Tesseract Open Source OCR Engine v4.00.00alpha with Leptonica\\nPage 1\\nPage 2')\n",
      "It took  36.0  to run tesseract on the tif file.\n",
      "Deleting the tif file.\n"
     ]
    },
    {
     "name": "stderr",
     "output_type": "stream",
     "text": [
      "\r",
      " 80%|████████  | 4/5 [04:50<01:18, 78.07s/it]"
     ]
    },
    {
     "name": "stdout",
     "output_type": "stream",
     "text": [
      "Tif deleted. Please check.\n",
      "(0, '')\n",
      "It took  14.32  seconds to convert the pdf.\n",
      "Command:  tesseract ./TestAllExamples/Example5.tif ./TestAllExamples/Example5 -l eng\n"
     ]
    },
    {
     "name": "stderr",
     "output_type": "stream",
     "text": [
      "\r",
      "100%|██████████| 5/5 [11:36<00:00, 176.44s/it]"
     ]
    },
    {
     "name": "stdout",
     "output_type": "stream",
     "text": [
      "(0, 'Tesseract Open Source OCR Engine v4.00.00alpha with Leptonica\\nPage 1\\nPage 2\\nPage 3\\nPage 4\\nPage 5\\nPage 6\\nPage 7\\nPage 8')\n",
      "It took  392.0  to run tesseract on the tif file.\n",
      "Deleting the tif file.\n",
      "Tif deleted. Please check.\n",
      "Done\n"
     ]
    },
    {
     "name": "stderr",
     "output_type": "stream",
     "text": [
      "\n"
     ]
    }
   ],
   "source": [
    "import commands\n",
    "import time\n",
    "import glob\n",
    "\n",
    "%env TESSDATA_PREFIX=/leptonica/tesseract/tessdata\n",
    "\n",
    "pdfNames = glob.glob(folderLoc+\"*.pdf\")\n",
    "\n",
    "print(\"Number of pdfs found: \",len(pdfNames))\n",
    "\n",
    "for i in tqdm(range(len(pdfNames))):\n",
    "    start = time.time()\n",
    "    tifLoc = str(pdfNames[i][:-4])+\".tif\"\n",
    "    s=commands.getstatusoutput(\"convert -density 300 -units pixelsperinch \"+str(pdfNames[i])+\" -quality 100 \"+tifLoc)\n",
    "    print(s)\n",
    "    print(\"It took \",round(time.time()-start,2),\" seconds to convert the pdf.\")\n",
    "\n",
    "    start = time.time()\n",
    "    command = \"tesseract \" + tifLoc + \" \"+str(pdfNames[i][:-4])+\" -l eng\"\n",
    "    print(\"Command: \", command)\n",
    "    s=commands.getstatusoutput(command)\n",
    "    print(s)\n",
    "    print(\"It took \",round(time.time()-start), \" to run tesseract on the tif file.\")\n",
    "    \n",
    "    print(\"Deleting the tif file.\")\n",
    "    s=commands.getstatusoutput(\"rm \" + tifLoc)\n",
    "    print(\"Tif deleted. Please check.\")\n",
    "    exit(0)\n",
    "\n",
    "print(\"Done\")"
   ]
  }
 ],
 "metadata": {
  "kernelspec": {
   "display_name": "Python 2",
   "language": "python",
   "name": "python2"
  },
  "language_info": {
   "codemirror_mode": {
    "name": "ipython",
    "version": 2
   },
   "file_extension": ".py",
   "mimetype": "text/x-python",
   "name": "python",
   "nbconvert_exporter": "python",
   "pygments_lexer": "ipython2",
   "version": "2.7.13"
  }
 },
 "nbformat": 4,
 "nbformat_minor": 2
}
