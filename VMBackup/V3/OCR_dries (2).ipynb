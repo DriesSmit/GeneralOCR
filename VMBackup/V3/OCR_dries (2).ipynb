{
 "cells": [
  {
   "cell_type": "code",
   "execution_count": 14,
   "metadata": {},
   "outputs": [],
   "source": [
    "from os import listdir\n",
    "import xmltodict\n",
    "import pandas\n",
    "from StringIO import StringIO\n",
    "%matplotlib inline\n",
    "from tqdm import tqdm\n",
    "import math\n",
    "import matplotlib\n",
    "import numpy as np\n",
    "import matplotlib.pyplot as plt\n",
    "from datetime import date\n",
    "from praelexis_file_system_provider.data_access_layer import AzureBlobStorageDataAccessLayer\n",
    "import PyPDF2\n",
    "import subprocess\n",
    "import shutil\n",
    "import os\n",
    "try:\n",
    "    import Image\n",
    "except ImportError:\n",
    "    from PIL import Image\n",
    "import pytesseract\n",
    "import cv2"
   ]
  },
  {
   "cell_type": "markdown",
   "metadata": {},
   "source": [
    "## Functions used to deskew the images"
   ]
  },
  {
   "cell_type": "code",
   "execution_count": 15,
   "metadata": {},
   "outputs": [],
   "source": [
    "def orientationScore(image,skipStep = 10):\n",
    "    totValue = 0\n",
    "    for row in range(len(image)):\n",
    "        rowVal = 0\n",
    "        for col in range(0,len(image[0]),skipStep):\n",
    "            rowVal += image[row][col]\n",
    "        totValue += rowVal*rowVal\n",
    "    return totValue\n",
    "\n",
    "def getRowCol(image,rowThresh,colThresh):\n",
    "    #print \"rowTh: \",rowThresh, \". ColTh: \",colThresh\n",
    "    rowArr = np.zeros(len(image))\n",
    "    colArr = np.zeros(len(image[0]))\n",
    "    total = 0\n",
    "    for row in range(len(image)):\n",
    "        for col in range(len(image[0])):\n",
    "            rowArr[row] += image[row][col]\n",
    "            colArr[col] += image[row][col]\n",
    "            total += image[row][col]\n",
    "    \n",
    "    rowLines = []\n",
    "    colLines = []\n",
    "    \n",
    "    for row in range(len(image)):\n",
    "        if rowArr[row]/len(image)/total<rowThresh:\n",
    "            rowLines.append(row)\n",
    "            print 'Row: ', rowArr[row]/len(image)/total\n",
    "            \n",
    "    \n",
    "    for col in range(len(image[0])):\n",
    "        if colArr[col]/len(image[0])/total<colThresh:\n",
    "            colLines.append(col)\n",
    "            print 'Col', colArr[col]/len(image[0])/total\n",
    "    \n",
    "    return rowLines,colLines\n",
    "\n",
    "def findOrient(image,angleRange = 5,skipStep = 10,rLineThresh = 1000,cLineThresh = 1000):\n",
    "    maxValue = -1\n",
    "    maxRot  = 0\n",
    "    imageRows, imageCols = image.shape\n",
    "    accuracy = 0.1\n",
    "    \n",
    "    maxLen = angleRange*2*int(1/accuracy)\n",
    "    #print maxLen\n",
    "    for i in range(-1, maxLen):\n",
    "        #rot = i\n",
    "        rot = (round(i / 2 - 0.4) + 1) * ((-1) * (i % 2) + ((i + 1) % 2)) * 0.1\n",
    "        #print rot\n",
    "        # print(\"Rotation: \",rot,\". i: \",i)\n",
    "        M = cv2.getRotationMatrix2D((imageCols / 2, imageRows / 2), rot, 1)\n",
    "        dst = cv2.warpAffine(image, M, (imageCols, imageRows), borderValue=(255, 255, 255))\n",
    "\n",
    "        value = orientationScore(255-dst,skipStep = 10)\n",
    "        if value>maxValue:\n",
    "            maxValue = value\n",
    "            maxRot = rot\n",
    "        if int(maxLen/10)!=0 and i%int(maxLen/10)==0:\n",
    "            print \"Percentage complete: \", round(i*100.0/maxLen),\"%. Current angle (degree): \",rot\n",
    "        #print \"Current angle: \",rot,\". Current value: \", value,\". Max value: \",maxValue,\". Max rot: \",maxRot\n",
    "        #cv2.imshow(\"Rotated Image: \",dst)\n",
    "        #cv2.waitKey(0)\n",
    "\n",
    "    M = cv2.getRotationMatrix2D((imageCols / 2, imageRows / 2), maxRot, 1)\n",
    "    dst = cv2.warpAffine(image, M, (imageCols, imageRows), borderValue=(255, 255, 255))\n",
    "    \n",
    "    row,col = getRowCol(dst,rLineThresh,cLineThresh)\n",
    "    \n",
    "    print \"The best angle was found at: \",maxRot, \" degrees.\"\n",
    "    #cv2.imshow(\"Rotated Image: \", dst)\n",
    "    #cv2.waitKey(0)\n",
    "    return dst,row,col"
   ]
  },
  {
   "cell_type": "code",
   "execution_count": 16,
   "metadata": {},
   "outputs": [],
   "source": [
    "#blob_dal = AzureBlobStorageDataAccessLayer('devcapitecdata', 'Gt5z0EAAAm5ZETk//WBnRiQUZ9FDB/BmLmbx5ZPRtDwh6vxTDAB/XzLlM+m/epfnDYcZ8JDfMEGg1p9tBW0iFQ==', 'bank-statements', home_directory='drop/Documentum_line_files')"
   ]
  },
  {
   "cell_type": "code",
   "execution_count": 17,
   "metadata": {},
   "outputs": [
    {
     "data": {
      "text/plain": [
       "\"blob_dal.connect()\\nfiles = blob_dal.list(path='CI')\""
      ]
     },
     "execution_count": 17,
     "metadata": {},
     "output_type": "execute_result"
    }
   ],
   "source": [
    "'''blob_dal.connect()\n",
    "files = blob_dal.list(path='CI')'''"
   ]
  },
  {
   "cell_type": "code",
   "execution_count": 18,
   "metadata": {},
   "outputs": [
    {
     "data": {
      "text/plain": [
       "'f = files[0]\\nf_name = f.directory + f.name\\nprint f_name'"
      ]
     },
     "execution_count": 18,
     "metadata": {},
     "output_type": "execute_result"
    }
   ],
   "source": [
    "'''f = files[0]\n",
    "f_name = f.directory + f.name\n",
    "print f_name'''"
   ]
  },
  {
   "cell_type": "code",
   "execution_count": 19,
   "metadata": {},
   "outputs": [
    {
     "data": {
      "text/plain": [
       "'stream = StringIO()\\nblob_dal.get(f_name, stream)\\nwith open (\"temp.pdf\", \\'w\\') as tmp:\\n  stream.seek (0)\\n  shutil.copyfileobj (stream, tmp)'"
      ]
     },
     "execution_count": 19,
     "metadata": {},
     "output_type": "execute_result"
    }
   ],
   "source": [
    "'''stream = StringIO()\n",
    "blob_dal.get(f_name, stream)\n",
    "with open (\"temp.pdf\", 'w') as tmp:\n",
    "  stream.seek (0)\n",
    "  shutil.copyfileobj (stream, tmp)'''"
   ]
  },
  {
   "cell_type": "code",
   "execution_count": 20,
   "metadata": {},
   "outputs": [],
   "source": [
    "#subprocess.call([\"convert\",\"-density\", \"150\", \"temp.pdf\",\"tmp.png\"])"
   ]
  },
  {
   "cell_type": "code",
   "execution_count": 21,
   "metadata": {},
   "outputs": [
    {
     "data": {
      "text/plain": [
       "\"im = plt.imread('tmp-1.png')\\n#plt.figure(fig_size=(10,10))\\nplt.imshow(im)\\nplt.show()\""
      ]
     },
     "execution_count": 21,
     "metadata": {},
     "output_type": "execute_result"
    }
   ],
   "source": [
    "'''im = plt.imread('tmp-1.png')\n",
    "#plt.figure(fig_size=(10,10))\n",
    "plt.imshow(im)\n",
    "plt.show()'''"
   ]
  },
  {
   "cell_type": "code",
   "execution_count": 22,
   "metadata": {},
   "outputs": [
    {
     "data": {
      "text/plain": [
       "'plt.imshow(im)\\nplt.axis([0,250,300,200])\\nplt.show()'"
      ]
     },
     "execution_count": 22,
     "metadata": {},
     "output_type": "execute_result"
    }
   ],
   "source": [
    "'''plt.imshow(im)\n",
    "plt.axis([0,250,300,200])\n",
    "plt.show()'''"
   ]
  },
  {
   "cell_type": "markdown",
   "metadata": {},
   "source": [
    "## Arguments for processing the image"
   ]
  },
  {
   "cell_type": "code",
   "execution_count": 23,
   "metadata": {},
   "outputs": [],
   "source": [
    "args = {}\n",
    "#args[\"image\"] = \"/home/dries/devel/Praelexis/OCR/Images/rotate.png\"\n",
    "#args[\"image\"] = \"/home/dries/devel/Praelexis/OCR/Images/rotatedDistorted.png\"\n",
    "#args[\"image\"] = \"/home/dries/devel/Praelexis/OCR/Images/RealScan.jpg\"\n",
    "#args[\"image\"] = \"/home/dries/devel/Praelexis/OCR/Images/phonePhoto.jpg\"\n",
    "#args[\"image\"] = \"/home/dries/devel/Praelexis/OCR/Images/bankRotatedBackround.jpg\"\n",
    "args[\"image\"] = 'tmp_sharp-1.jpg'\n",
    "args[\"output\"] = 'OCROutput/'\n",
    "\n",
    "#Smaller means includes less\n",
    "args[\"rLine\"] = 0.65e-07#0.75 high\n",
    "args[\"cLine\"] = 1.4e-07#0.35 high 0.3 low\n",
    "\n",
    "args[\"preprocess\"] = \"\"\n",
    "args[\"rotationSearch\"] = 1\n",
    "con =\"-psm 1 --oem 2 -c tessedit_char_whitelist=0123456789abcdefghijklmnopqrstuvwxyzABCDEFGHIJKLNMOPQRSTUVWXYZ-+,.()&:_/\\*\"\n",
    "lan = \"eng\"\n",
    "\n",
    "#print(pytesseract.image_to_string(Image.open('tmp-0.jpg'), lang='eng'))\n"
   ]
  },
  {
   "cell_type": "markdown",
   "metadata": {},
   "source": [
    "## Read and deskew image and find the columns"
   ]
  },
  {
   "cell_type": "code",
   "execution_count": 24,
   "metadata": {},
   "outputs": [
    {
     "name": "stdout",
     "output_type": "stream",
     "text": [
      "Finding orientation..\n",
      "Percentage complete:  0.0 %. Current angle (degree):  0.1\n",
      "Percentage complete:  10.0 %. Current angle (degree):  0.2\n",
      "Percentage complete:  20.0 %. Current angle (degree):  0.3\n",
      "Percentage complete:  30.0 %. Current angle (degree):  0.4\n",
      "Percentage complete:  40.0 %. Current angle (degree):  0.5\n",
      "Percentage complete:  50.0 %. Current angle (degree):  0.6\n",
      "Percentage complete:  60.0 %. Current angle (degree):  0.7\n",
      "Percentage complete:  70.0 %. Current angle (degree):  0.8\n",
      "Percentage complete:  80.0 %. Current angle (degree):  0.9\n",
      "Percentage complete:  90.0 %. Current angle (degree):  1.0\n",
      "Row:  6.227490638966925e-08\n",
      "Row:  6.25340512167734e-08\n",
      "Row:  5.707676603422703e-08\n",
      "Row:  5.820025079406185e-08\n",
      "Row:  6.366130764176923e-08\n",
      "Row:  6.299372290827107e-08\n",
      "Row:  6.26055557021175e-08\n",
      "Row:  5.805928480866923e-08\n",
      "Row:  6.435230812980864e-08\n",
      "Row:  6.412742259458363e-08\n",
      "Row:  5.990048601810058e-08\n",
      "Row:  5.6039715267665266e-08\n",
      "Row:  5.075639814067031e-08\n",
      "Row:  4.662202451334698e-08\n",
      "Row:  4.541917763241597e-08\n",
      "Row:  4.163886907208212e-08\n",
      "Row:  3.730286851135998e-08\n",
      "Row:  4.684486706327645e-08\n",
      "Row:  5.352684335414466e-08\n",
      "Row:  6.153330272738634e-08\n",
      "Col 1.3600476766902917e-07\n",
      "Col 1.3475867574437653e-07\n",
      "Col 1.3459662591923413e-07\n",
      "Col 1.2348508310129713e-07\n",
      "Col 1.37441624291686e-07\n",
      "Col 1.3813367498724604e-07\n",
      "Col 1.3885199200061762e-07\n",
      "Col 1.2149329486589306e-07\n",
      "Col 1.1484658088409092e-07\n",
      "Col 1.1458503068554378e-07\n",
      "Col 1.0271732954891349e-07\n",
      "Col 1.1793109245963789e-07\n",
      "Col 1.253954012323027e-07\n",
      "Col 1.3267428760889109e-07\n",
      "Col 1.3955494989594686e-07\n",
      "Col 1.3937798614458945e-07\n",
      "Col 1.3709682322143108e-07\n",
      "Col 1.3764218320989107e-07\n",
      "Col 1.3337501954508376e-07\n",
      "Col 1.3651963201731814e-07\n",
      "Col 1.3918989259754916e-07\n",
      "Col 1.3791642137551667e-07\n",
      "Col 1.3443702464914197e-07\n",
      "Col 1.3743205266739874e-07\n",
      "Col 1.3002962555873062e-07\n",
      "Col 1.2520997883622628e-07\n",
      "Col 1.378970555310285e-07\n",
      "Col 1.3640855665640322e-07\n",
      "Col 1.3674222793097529e-07\n",
      "Col 1.3890185348527683e-07\n",
      "Col 1.373107378944556e-07\n",
      "Col 1.2493707624608265e-07\n",
      "Col 1.3201095178619283e-07\n",
      "Col 1.340265577843582e-07\n",
      "Col 1.1982516108894646e-07\n",
      "Col 1.2124153888754684e-07\n",
      "Col 1.1195127583515254e-07\n",
      "Col 1.015170923824742e-07\n",
      "Col 1.1222039429476402e-07\n",
      "Col 1.2257956292453988e-07\n",
      "Col 1.3285436770303972e-07\n",
      "Col 1.387696315125645e-07\n",
      "Col 1.3802126405084918e-07\n",
      "Col 1.395776546791399e-07\n",
      "Col 1.3994404755301954e-07\n",
      "Col 1.3984655054283772e-07\n",
      "Col 1.3327885811038388e-07\n",
      "Col 1.3291869792208662e-07\n",
      "Col 1.3725664708743692e-07\n",
      "Col 1.3957587391183064e-07\n",
      "Col 1.2722224589568683e-07\n",
      "Col 1.2410434493309127e-07\n",
      "Col 9.790547368338716e-08\n",
      "Col 8.284596974082714e-08\n",
      "Col 7.834908709312567e-08\n",
      "Col 6.270860781592054e-08\n",
      "Col 3.8749496649434525e-08\n",
      "Col 4.330158308372299e-08\n",
      "Col 4.419196673835154e-08\n",
      "Col 4.430259690743914e-08\n",
      "Col 4.430259690743914e-08\n",
      "The best angle was found at:  -0.0  degrees.\n",
      "Note: Change percentage to 2 for the extra two rotations at the end.\n",
      "Image corrected.\n"
     ]
    }
   ],
   "source": [
    "# load the example image and convert it to grayscale\n",
    "image = cv2.imread(args[\"image\"])\n",
    "\n",
    "# cv2.imshow(\"Image\", image)\n",
    "gray = cv2.cvtColor(image, cv2.COLOR_BGR2GRAY)\n",
    "\n",
    "#gray = gray[350:750]\n",
    "\n",
    "cv2.imwrite(args[\"output\"] + 'Original.png',gray)\n",
    "#quit()\n",
    "print(\"Finding orientation..\")\n",
    "gray,rows,cols = findOrient(gray,angleRange = args[\"rotationSearch\"],skipStep = 10,rLineThresh=args[\"rLine\"],cLineThresh=args[\"cLine\"])\n",
    "\n",
    "#print(\"Rows: \",rows)\n",
    "#print(\"Cols: \", cols)\n",
    "\n",
    "grayCopy = gray.copy()\n",
    "\n",
    "for row in rows:\n",
    "     cv2.line(grayCopy,(0,row),(511,row),(0,0,0),5)\n",
    "\n",
    "for col in cols:\n",
    "    cv2.line(grayCopy,(col,0),(col,511),(0,0,0),5)\n",
    "\n",
    "cv2.imwrite(args[\"output\"] + 'lines.png',grayCopy)\n",
    "print(\"Note: Change percentage to 2 for the extra two rotations at the end.\")\n",
    "print(\"Image corrected.\")"
   ]
  },
  {
   "cell_type": "markdown",
   "metadata": {},
   "source": [
    "## Generate text form the image using Tesseract"
   ]
  },
  {
   "cell_type": "code",
   "execution_count": 25,
   "metadata": {},
   "outputs": [
    {
     "name": "stdout",
     "output_type": "stream",
     "text": [
      "Sending image through Tesseract..\n"
     ]
    }
   ],
   "source": [
    "print(\"Sending image through Tesseract..\")\n",
    "# check to see if we should apply thresholding to preprocess the\n",
    "# image\n",
    "if args[\"preprocess\"] == \"thresh\":\n",
    "    gray = cv2.threshold(gray, 0, 255, cv2.THRESH_BINARY | cv2.THRESH_OTSU)[1]\n",
    "\n",
    "# make a check to see if median blurring should be done to remove\n",
    "# noise\n",
    "elif args[\"preprocess\"] == \"blur\":\n",
    "    gray = cv2.medianBlur(gray, 1)\n",
    "\n",
    "'''cv2.namedWindow('Input', cv2.WINDOW_NORMAL)\n",
    "cv2.imshow(\"Input\", gray)    \n",
    "cv2.waitKey(0)'''\n",
    "\n",
    "\n",
    "\n",
    "# write the grayscale image to disk as a temporary file so we can\n",
    "# apply OCR to it\n",
    "#filename = \"{}.png\".format(os.getpid())\n",
    "#cv2.imwrite(filename, gray)\n",
    "\n",
    "# load the image as a PIL/Pillow image, apply OCR, and then delete\n",
    "# the temporary file\n",
    "#text = pytesseract.image_to_string(gray,boxes=False)\n",
    "\n",
    "# This might not be the best approach. I think the system also directly searches for words.\n",
    "# These word phrases are not included in the config settings.\n",
    "\n",
    "cv2.imwrite(args[\"output\"] + 'preProcessed.png',gray)\n",
    "\n",
    "text = pytesseract.image_to_string(gray,lang=lan,boxes=False,config=con)\n",
    "\n",
    "f = open(args[\"output\"] + 'outputText.txt','w')\n",
    "f.write(text)\n",
    "f.close()\n",
    "#print \"Text: \",text\n"
   ]
  },
  {
   "cell_type": "markdown",
   "metadata": {},
   "source": [
    "## Estimate the characters and boxes for each characters using Tesseract"
   ]
  },
  {
   "cell_type": "code",
   "execution_count": 26,
   "metadata": {},
   "outputs": [
    {
     "name": "stdout",
     "output_type": "stream",
     "text": [
      "Process done. Go to the output folder to view the results.\n"
     ]
    }
   ],
   "source": [
    "data = pytesseract.image_to_string(gray,boxes=True,config=con)\n",
    "lines = data.split('\\n')\n",
    "\n",
    "array = []\n",
    "\n",
    "\n",
    "yLen = len(gray)\n",
    "newPage = gray.copy()\n",
    "\n",
    "for i in range(len(newPage)):\n",
    "    for j in range(len(newPage[0])):\n",
    "        newPage[i][j] = 255\n",
    "\n",
    "for line in lines:\n",
    "    entry = line.split(' ')\n",
    "    #print(entry)\n",
    "    array.append(entry)\n",
    "    cv2.rectangle(gray, (int(entry[1]), yLen-int(entry[2])), (int(entry[3]), yLen-int(entry[4])), (0,0,0), 1)\n",
    "    font = cv2.FONT_HERSHEY_SIMPLEX\n",
    "    #print(\"Here: \",entry[0], \" \", len(entry[0]))\n",
    "    try:\n",
    "        char = str(entry[0])\n",
    "        #print(char)\n",
    "        \n",
    "        xSize = 0.5*(int(entry[3])-int(entry[1]))\n",
    "        ySize = 0.5*(int(entry[4])-int(entry[2]))\n",
    "        \n",
    "        size = xSize\n",
    "        \n",
    "        if ySize>xSize:\n",
    "            size = ySize\n",
    "        \n",
    "        fondSize = size/15.0\n",
    "        loc = (int(entry[1])+int(0.5*(int(entry[3])-int(entry[1]))),yLen-int(entry[2])+int(0.5*(int(entry[4])-int(entry[2]))))\n",
    "        cv2.putText(newPage,char,loc,font, fondSize,(0,0,255))\n",
    "        #print char,\" \",fondSize, \" \", loc\n",
    "    except (TypeError, ValueError):\n",
    "        print \"Not added: \",entry\n",
    "        xSize = 0.5*(int(entry[3])-int(entry[1]))\n",
    "        ySize = 0.5*(int(entry[4])-int(entry[2]))\n",
    "        \n",
    "        size = xSize\n",
    "        \n",
    "        if ySize>xSize:\n",
    "            size = ySize\n",
    "        \n",
    "        fondSize = size/15.0\n",
    "        loc = (int(entry[1])+int(0.5*(int(entry[3])-int(entry[1]))),yLen-int(entry[2])+int(0.5*(int(entry[4])-int(entry[2]))))\n",
    "        cv2.putText(newPage,'???',loc,font, fondSize,(0,0,255))\n",
    "        \n",
    "        \n",
    "#data = pytesseract.image_to_boxes(gray)\n",
    "#os.remove(filename)\n",
    "#print \"Text found:\\n\",text\n",
    "\n",
    "#print \"Data:\\n\",array\n",
    "# show the output images\n",
    "\n",
    "#for entry in data:\n",
    "    #print \"Entry: \", entry\n",
    "    #cv2.rectangle(gray, (100, 100), (1000, 1000), (0,0,0), 20)\n",
    "#cv2.namedWindow('Input', cv2.WINDOW_NORMAL)\n",
    "#cv2.imshow(\"Input\", gray)\n",
    "cv2.imwrite(args[\"output\"]+'Boxes.png',gray)\n",
    "cv2.imwrite(args[\"output\"]+'Estimation.png',newPage)\n",
    "print \"Process done. Go to the output folder to view the results.\""
   ]
  },
  {
   "cell_type": "markdown",
   "metadata": {},
   "source": [
    "# Results"
   ]
  },
  {
   "cell_type": "code",
   "execution_count": null,
   "metadata": {},
   "outputs": [],
   "source": []
  }
 ],
 "metadata": {
  "kernelspec": {
   "display_name": "Python 2",
   "language": "python",
   "name": "python2"
  },
  "language_info": {
   "codemirror_mode": {
    "name": "ipython",
    "version": 2
   },
   "file_extension": ".py",
   "mimetype": "text/x-python",
   "name": "python",
   "nbconvert_exporter": "python",
   "pygments_lexer": "ipython2",
   "version": "2.7.13"
  }
 },
 "nbformat": 4,
 "nbformat_minor": 2
}
