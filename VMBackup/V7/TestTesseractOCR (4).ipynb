{
 "cells": [
  {
   "cell_type": "code",
   "execution_count": 70,
   "metadata": {},
   "outputs": [],
   "source": [
    "from __future__ import absolute_import, division, print_function\n",
    "\n",
    "from os import listdir\n",
    "import xmltodict\n",
    "import pandas\n",
    "from StringIO import StringIO\n",
    "%matplotlib inline\n",
    "from tqdm import tqdm\n",
    "import math\n",
    "import matplotlib\n",
    "import numpy as np\n",
    "import matplotlib.pyplot as plt\n",
    "from datetime import date\n",
    "from praelexis_file_system_provider.data_access_layer import AzureBlobStorageDataAccessLayer\n",
    "import PyPDF2\n",
    "import subprocess\n",
    "import shutil\n",
    "import os\n",
    "\n",
    "import pytesseract\n",
    "from PIL import Image"
   ]
  },
  {
   "cell_type": "markdown",
   "metadata": {},
   "source": [
    "### Connect to blob storage"
   ]
  },
  {
   "cell_type": "code",
   "execution_count": 71,
   "metadata": {},
   "outputs": [
    {
     "name": "stdout",
     "output_type": "stream",
     "text": [
      "Number of files:  8000\n"
     ]
    }
   ],
   "source": [
    "blob_dal = AzureBlobStorageDataAccessLayer('devcapitecdata', 'Gt5z0EAAAm5ZETk//WBnRiQUZ9FDB/BmLmbx5ZPRtDwh6vxTDAB/XzLlM+m/epfnDYcZ8JDfMEGg1p9tBW0iFQ==', 'bank-statements', home_directory='drop/Documentum_line_files')\n",
    "\n",
    "blob_dal.connect()\n",
    "files = blob_dal.list(path='CI')\n",
    "\n",
    "print (\"Number of files: \", len(files))\n"
   ]
  },
  {
   "cell_type": "code",
   "execution_count": 20,
   "metadata": {},
   "outputs": [
    {
     "name": "stdout",
     "output_type": "stream",
     "text": [
      "0f427a33-cbed-4673-a5d0-79dce1b8d45b.pdf\n",
      "0f427a33-cbed-4673-a5d0-79dce1b8d45b_POCSTATEMENTSSTD_Capitec__19122017_022834_1154.xml\n"
     ]
    }
   ],
   "source": [
    "\n",
    "print(files[500].name)\n",
    "print(files[501].name)\n"
   ]
  },
  {
   "cell_type": "markdown",
   "metadata": {},
   "source": [
    "### Download random pdfs and their xml files"
   ]
  },
  {
   "cell_type": "code",
   "execution_count": 72,
   "metadata": {},
   "outputs": [],
   "source": [
    "folderLoc = \"./TestAllExamples/\""
   ]
  },
  {
   "cell_type": "code",
   "execution_count": 9,
   "metadata": {},
   "outputs": [
    {
     "name": "stderr",
     "output_type": "stream",
     "text": [
      "100%|██████████| 3/3 [00:00<00:00,  6.72it/s]\n"
     ]
    }
   ],
   "source": [
    "import random\n",
    "random.seed(1000)\n",
    "numToTest = 3\n",
    "\n",
    "for i in tqdm(range(numToTest)):\n",
    "    randNum = int(len(files)/2.0*random.random())*2-10 \n",
    "    \n",
    "    while(files[randNum].name[-3:]!=\"pdf\"):\n",
    "        randNum-=1\n",
    "\n",
    "    pdfName = files[randNum].directory + files[randNum].name\n",
    "    \n",
    "    matchString = files[randNum].name[:-4]\n",
    "    #print(matchString)\n",
    "    if matchString in files[randNum-1].name:\n",
    "        #print(files[randNum].name,\" \",files[randNum-1].name)\n",
    "        xmlName = files[randNum-1].directory + files[randNum-1].name\n",
    "    else:\n",
    "        #print (\"Else\")\n",
    "        #print(files[randNum].name,\" \",files[randNum+1].name)\n",
    "        xmlName = files[randNum+1].directory + files[randNum+1].name\n",
    "    #print (\"Downloading: \", pdfName , \" and \", xmlName)\n",
    "        \n",
    "    stream = StringIO()\n",
    "    blob_dal.get(pdfName, stream)\n",
    "    with open (folderLoc+\"Example\"+str(i+1)+\".pdf\", 'w') as tmp:\n",
    "      stream.seek (0)\n",
    "      shutil.copyfileobj (stream, tmp)\n",
    "    \n",
    "    stream = StringIO()\n",
    "    blob_dal.get(xmlName, stream)\n",
    "    with open (folderLoc+\"Example\"+str(i+1)+\".xml\", 'w') as tmp:\n",
    "      stream.seek (0)\n",
    "      shutil.copyfileobj (stream, tmp)"
   ]
  },
  {
   "cell_type": "markdown",
   "metadata": {},
   "source": [
    "### Convert and test document 1 document"
   ]
  },
  {
   "cell_type": "markdown",
   "metadata": {},
   "source": [
    "Command to generate boxes from tesseract\n",
    "\n",
    "command = 'tesseract ./TestRandomExamples/testText.jpg ./TestRandomExamples/testText  batch.nochop makebox'"
   ]
  },
  {
   "cell_type": "code",
   "execution_count": 5,
   "metadata": {},
   "outputs": [
    {
     "name": "stdout",
     "output_type": "stream",
     "text": [
      "env: TESSDATA_PREFIX=/leptonica/tesseract/tessdata\n",
      "(0, '')\n",
      "It took  14.72  seconds to convert the pdf.\n",
      "Command:  tesseract ./TestRandomExamples/Example2.tif ./TestRandomExamples/Example2 -l eng bazaar\n"
     ]
    },
    {
     "ename": "KeyboardInterrupt",
     "evalue": "",
     "output_type": "error",
     "traceback": [
      "\u001b[1;31m---------------------------------------------------------------------------\u001b[0m",
      "\u001b[1;31mKeyboardInterrupt\u001b[0m                         Traceback (most recent call last)",
      "\u001b[1;32m<ipython-input-5-4e127705fef6>\u001b[0m in \u001b[0;36m<module>\u001b[1;34m()\u001b[0m\n\u001b[0;32m     19\u001b[0m \u001b[0mcommand\u001b[0m \u001b[1;33m=\u001b[0m \u001b[1;34m\"tesseract \"\u001b[0m\u001b[1;33m+\u001b[0m\u001b[0mstr\u001b[0m\u001b[1;33m(\u001b[0m\u001b[0mfileName\u001b[0m\u001b[1;33m[\u001b[0m\u001b[1;33m:\u001b[0m\u001b[1;33m-\u001b[0m\u001b[1;36m4\u001b[0m\u001b[1;33m]\u001b[0m\u001b[1;33m)\u001b[0m\u001b[1;33m+\u001b[0m\u001b[1;34m\".tif \"\u001b[0m\u001b[1;33m+\u001b[0m\u001b[0mstr\u001b[0m\u001b[1;33m(\u001b[0m\u001b[0mfileName\u001b[0m\u001b[1;33m[\u001b[0m\u001b[1;33m:\u001b[0m\u001b[1;33m-\u001b[0m\u001b[1;36m4\u001b[0m\u001b[1;33m]\u001b[0m\u001b[1;33m)\u001b[0m\u001b[1;33m+\u001b[0m \u001b[1;34m\" -l eng bazaar\"\u001b[0m\u001b[1;33m\u001b[0m\u001b[0m\n\u001b[0;32m     20\u001b[0m \u001b[1;32mprint\u001b[0m\u001b[1;33m(\u001b[0m\u001b[1;34m\"Command: \"\u001b[0m\u001b[1;33m,\u001b[0m \u001b[0mcommand\u001b[0m\u001b[1;33m)\u001b[0m\u001b[1;33m\u001b[0m\u001b[0m\n\u001b[1;32m---> 21\u001b[1;33m \u001b[0ms\u001b[0m\u001b[1;33m=\u001b[0m\u001b[0mcommands\u001b[0m\u001b[1;33m.\u001b[0m\u001b[0mgetstatusoutput\u001b[0m\u001b[1;33m(\u001b[0m\u001b[0mcommand\u001b[0m\u001b[1;33m)\u001b[0m\u001b[1;33m\u001b[0m\u001b[0m\n\u001b[0m\u001b[0;32m     22\u001b[0m \u001b[1;32mprint\u001b[0m\u001b[1;33m(\u001b[0m\u001b[0ms\u001b[0m\u001b[1;33m)\u001b[0m\u001b[1;33m\u001b[0m\u001b[0m\n\u001b[0;32m     23\u001b[0m \u001b[1;32mprint\u001b[0m\u001b[1;33m(\u001b[0m\u001b[1;34m\"It took \"\u001b[0m\u001b[1;33m,\u001b[0m\u001b[0mround\u001b[0m\u001b[1;33m(\u001b[0m\u001b[0mtime\u001b[0m\u001b[1;33m.\u001b[0m\u001b[0mtime\u001b[0m\u001b[1;33m(\u001b[0m\u001b[1;33m)\u001b[0m\u001b[1;33m-\u001b[0m\u001b[0mstart\u001b[0m\u001b[1;33m)\u001b[0m\u001b[1;33m,\u001b[0m \u001b[1;34m\" to run tesseract on the tif file.\"\u001b[0m\u001b[1;33m)\u001b[0m\u001b[1;33m\u001b[0m\u001b[0m\n",
      "\u001b[1;32m/opt/conda/lib/python2.7/commands.pyc\u001b[0m in \u001b[0;36mgetstatusoutput\u001b[1;34m(cmd)\u001b[0m\n\u001b[0;32m     58\u001b[0m     \u001b[1;32mimport\u001b[0m \u001b[0mos\u001b[0m\u001b[1;33m\u001b[0m\u001b[0m\n\u001b[0;32m     59\u001b[0m     \u001b[0mpipe\u001b[0m \u001b[1;33m=\u001b[0m \u001b[0mos\u001b[0m\u001b[1;33m.\u001b[0m\u001b[0mpopen\u001b[0m\u001b[1;33m(\u001b[0m\u001b[1;34m'{ '\u001b[0m \u001b[1;33m+\u001b[0m \u001b[0mcmd\u001b[0m \u001b[1;33m+\u001b[0m \u001b[1;34m'; } 2>&1'\u001b[0m\u001b[1;33m,\u001b[0m \u001b[1;34m'r'\u001b[0m\u001b[1;33m)\u001b[0m\u001b[1;33m\u001b[0m\u001b[0m\n\u001b[1;32m---> 60\u001b[1;33m     \u001b[0mtext\u001b[0m \u001b[1;33m=\u001b[0m \u001b[0mpipe\u001b[0m\u001b[1;33m.\u001b[0m\u001b[0mread\u001b[0m\u001b[1;33m(\u001b[0m\u001b[1;33m)\u001b[0m\u001b[1;33m\u001b[0m\u001b[0m\n\u001b[0m\u001b[0;32m     61\u001b[0m     \u001b[0msts\u001b[0m \u001b[1;33m=\u001b[0m \u001b[0mpipe\u001b[0m\u001b[1;33m.\u001b[0m\u001b[0mclose\u001b[0m\u001b[1;33m(\u001b[0m\u001b[1;33m)\u001b[0m\u001b[1;33m\u001b[0m\u001b[0m\n\u001b[0;32m     62\u001b[0m     \u001b[1;32mif\u001b[0m \u001b[0msts\u001b[0m \u001b[1;32mis\u001b[0m \u001b[0mNone\u001b[0m\u001b[1;33m:\u001b[0m \u001b[0msts\u001b[0m \u001b[1;33m=\u001b[0m \u001b[1;36m0\u001b[0m\u001b[1;33m\u001b[0m\u001b[0m\n",
      "\u001b[1;31mKeyboardInterrupt\u001b[0m: "
     ]
    }
   ],
   "source": [
    "import commands\n",
    "import time\n",
    "import glob\n",
    "\n",
    "exampleNumber = 2\n",
    "\n",
    "%env TESSDATA_PREFIX=/leptonica/tesseract/tessdata\n",
    "\n",
    "pdfNames = glob.glob(folderLoc+\"*.pdf\")\n",
    "\n",
    "fileName = pdfNames[exampleNumber-1]\n",
    "\n",
    "start = time.time()\n",
    "s=commands.getstatusoutput(\"convert -density 300 -units pixelsperinch \"+str(fileName)+\" -quality 100 \"+str(fileName[:-4])+\".tif\")\n",
    "print(s)\n",
    "print(\"It took \",round(time.time()-start,2),\" seconds to convert the pdf.\")\n",
    "\n",
    "start = time.time()\n",
    "command = \"tesseract \"+str(fileName[:-4])+\".tif \"+str(fileName[:-4])+ \" -l eng bazaar\"\n",
    "print(\"Command: \", command)\n",
    "s=commands.getstatusoutput(command)\n",
    "print(s)\n",
    "print(\"It took \",round(time.time()-start), \" to run tesseract on the tif file.\")\n",
    "\n",
    "s=commands.getstatusoutput(\"convert -density 300 -units pixelsperinch \"+str(fileName)+\" -quality 100 \"+str(fileName[:-4])+\".tif\")\n",
    "print(s)\n",
    "print(\"It took \",round(time.time()-start,2),\" seconds to convert the pdf.\")\n",
    "tifLoc = str(fileName[:-4])+\".tif\"\n",
    "print(\"Deleting the tif file.\")\n",
    "s=commands.getstatusoutput(\"rm \" + tifLoc)\n",
    "print(\"Tif deleted. Please check.\")\n",
    "\n",
    "print(\"Done\")"
   ]
  },
  {
   "cell_type": "markdown",
   "metadata": {},
   "source": [
    "### Convert and process all pdfs"
   ]
  },
  {
   "cell_type": "markdown",
   "metadata": {},
   "source": [
    "The pdfs are first converted to tif files. The tif files are then sent through Tesseract. A text file is then generated for each pdf image with the estimated text found using Tesseract."
   ]
  },
  {
   "cell_type": "code",
   "execution_count": null,
   "metadata": {},
   "outputs": [],
   "source": [
    "#import commands\n",
    "#s=commands.getstatusoutput(\"tesseract ./TestRandomExamples/Example1.tif ./TestRandomExamples/Example1 -l eng\")\n",
    "#print(s)"
   ]
  },
  {
   "cell_type": "code",
   "execution_count": null,
   "metadata": {},
   "outputs": [
    {
     "name": "stderr",
     "output_type": "stream",
     "text": [
      "\r",
      "  0%|          | 0/3 [00:00<?, ?it/s]"
     ]
    },
    {
     "name": "stdout",
     "output_type": "stream",
     "text": [
      "env: TESSDATA_PREFIX=/leptonica/tesseract/tessdata\n",
      "Number of pdfs found:  3\n",
      "(0, '')\n",
      "It took  6.8  seconds to convert the pdf.\n",
      "Command:  tesseract ./TestRandomExamples/Example1.tif ./TestRandomExamples/Example1 -l eng\n",
      "(0, 'Tesseract Open Source OCR Engine v4.00.00alpha with Leptonica\\nPage 1\\nPage 2\\nPage 3\\nPage 4')\n",
      "It took  49.0  to run tesseract on the tif file.\n",
      "Deleting the tif file.\n"
     ]
    },
    {
     "name": "stderr",
     "output_type": "stream",
     "text": [
      "\r",
      " 33%|███▎      | 1/3 [00:55<01:51, 55.64s/it]"
     ]
    },
    {
     "name": "stdout",
     "output_type": "stream",
     "text": [
      "Tif deleted. Please check.\n",
      "(0, '')\n",
      "It took  17.22  seconds to convert the pdf.\n",
      "Command:  tesseract ./TestRandomExamples/Example2.tif ./TestRandomExamples/Example2 -l eng\n"
     ]
    },
    {
     "name": "stderr",
     "output_type": "stream",
     "text": [
      "\n"
     ]
    },
    {
     "ename": "KeyboardInterrupt",
     "evalue": "",
     "output_type": "error",
     "traceback": [
      "\u001b[1;31m---------------------------------------------------------------------------\u001b[0m",
      "\u001b[1;31mKeyboardInterrupt\u001b[0m                         Traceback (most recent call last)",
      "\u001b[1;32m<ipython-input-10-c71ee8f56baa>\u001b[0m in \u001b[0;36m<module>\u001b[1;34m()\u001b[0m\n\u001b[0;32m     19\u001b[0m     \u001b[0mcommand\u001b[0m \u001b[1;33m=\u001b[0m \u001b[1;34m\"tesseract \"\u001b[0m \u001b[1;33m+\u001b[0m \u001b[0mtifLoc\u001b[0m \u001b[1;33m+\u001b[0m \u001b[1;34m\" \"\u001b[0m\u001b[1;33m+\u001b[0m\u001b[0mstr\u001b[0m\u001b[1;33m(\u001b[0m\u001b[0mpdfNames\u001b[0m\u001b[1;33m[\u001b[0m\u001b[0mi\u001b[0m\u001b[1;33m]\u001b[0m\u001b[1;33m[\u001b[0m\u001b[1;33m:\u001b[0m\u001b[1;33m-\u001b[0m\u001b[1;36m4\u001b[0m\u001b[1;33m]\u001b[0m\u001b[1;33m)\u001b[0m\u001b[1;33m+\u001b[0m\u001b[1;34m\" -l eng\"\u001b[0m\u001b[1;33m\u001b[0m\u001b[0m\n\u001b[0;32m     20\u001b[0m     \u001b[1;32mprint\u001b[0m\u001b[1;33m(\u001b[0m\u001b[1;34m\"Command: \"\u001b[0m\u001b[1;33m,\u001b[0m \u001b[0mcommand\u001b[0m\u001b[1;33m)\u001b[0m\u001b[1;33m\u001b[0m\u001b[0m\n\u001b[1;32m---> 21\u001b[1;33m     \u001b[0ms\u001b[0m\u001b[1;33m=\u001b[0m\u001b[0mcommands\u001b[0m\u001b[1;33m.\u001b[0m\u001b[0mgetstatusoutput\u001b[0m\u001b[1;33m(\u001b[0m\u001b[0mcommand\u001b[0m\u001b[1;33m)\u001b[0m\u001b[1;33m\u001b[0m\u001b[0m\n\u001b[0m\u001b[0;32m     22\u001b[0m     \u001b[1;32mprint\u001b[0m\u001b[1;33m(\u001b[0m\u001b[0ms\u001b[0m\u001b[1;33m)\u001b[0m\u001b[1;33m\u001b[0m\u001b[0m\n\u001b[0;32m     23\u001b[0m     \u001b[1;32mprint\u001b[0m\u001b[1;33m(\u001b[0m\u001b[1;34m\"It took \"\u001b[0m\u001b[1;33m,\u001b[0m\u001b[0mround\u001b[0m\u001b[1;33m(\u001b[0m\u001b[0mtime\u001b[0m\u001b[1;33m.\u001b[0m\u001b[0mtime\u001b[0m\u001b[1;33m(\u001b[0m\u001b[1;33m)\u001b[0m\u001b[1;33m-\u001b[0m\u001b[0mstart\u001b[0m\u001b[1;33m)\u001b[0m\u001b[1;33m,\u001b[0m \u001b[1;34m\" to run tesseract on the tif file.\"\u001b[0m\u001b[1;33m)\u001b[0m\u001b[1;33m\u001b[0m\u001b[0m\n",
      "\u001b[1;32m/opt/conda/lib/python2.7/commands.pyc\u001b[0m in \u001b[0;36mgetstatusoutput\u001b[1;34m(cmd)\u001b[0m\n\u001b[0;32m     58\u001b[0m     \u001b[1;32mimport\u001b[0m \u001b[0mos\u001b[0m\u001b[1;33m\u001b[0m\u001b[0m\n\u001b[0;32m     59\u001b[0m     \u001b[0mpipe\u001b[0m \u001b[1;33m=\u001b[0m \u001b[0mos\u001b[0m\u001b[1;33m.\u001b[0m\u001b[0mpopen\u001b[0m\u001b[1;33m(\u001b[0m\u001b[1;34m'{ '\u001b[0m \u001b[1;33m+\u001b[0m \u001b[0mcmd\u001b[0m \u001b[1;33m+\u001b[0m \u001b[1;34m'; } 2>&1'\u001b[0m\u001b[1;33m,\u001b[0m \u001b[1;34m'r'\u001b[0m\u001b[1;33m)\u001b[0m\u001b[1;33m\u001b[0m\u001b[0m\n\u001b[1;32m---> 60\u001b[1;33m     \u001b[0mtext\u001b[0m \u001b[1;33m=\u001b[0m \u001b[0mpipe\u001b[0m\u001b[1;33m.\u001b[0m\u001b[0mread\u001b[0m\u001b[1;33m(\u001b[0m\u001b[1;33m)\u001b[0m\u001b[1;33m\u001b[0m\u001b[0m\n\u001b[0m\u001b[0;32m     61\u001b[0m     \u001b[0msts\u001b[0m \u001b[1;33m=\u001b[0m \u001b[0mpipe\u001b[0m\u001b[1;33m.\u001b[0m\u001b[0mclose\u001b[0m\u001b[1;33m(\u001b[0m\u001b[1;33m)\u001b[0m\u001b[1;33m\u001b[0m\u001b[0m\n\u001b[0;32m     62\u001b[0m     \u001b[1;32mif\u001b[0m \u001b[0msts\u001b[0m \u001b[1;32mis\u001b[0m \u001b[0mNone\u001b[0m\u001b[1;33m:\u001b[0m \u001b[0msts\u001b[0m \u001b[1;33m=\u001b[0m \u001b[1;36m0\u001b[0m\u001b[1;33m\u001b[0m\u001b[0m\n",
      "\u001b[1;31mKeyboardInterrupt\u001b[0m: "
     ]
    }
   ],
   "source": [
    "import commands\n",
    "import time\n",
    "import glob\n",
    "\n",
    "%env TESSDATA_PREFIX=/leptonica/tesseract/tessdata\n",
    "\n",
    "pdfNames = glob.glob(folderLoc+\"*.pdf\")\n",
    "\n",
    "print(\"Number of pdfs found: \",len(pdfNames))\n",
    "\n",
    "for i in tqdm(range(len(pdfNames))):\n",
    "    start = time.time()\n",
    "    tifLoc = str(pdfNames[i][:-4])+\".tif\"\n",
    "    s=commands.getstatusoutput(\"convert -density 300 -units pixelsperinch \"+str(pdfNames[i])+\" -quality 100 \"+tifLoc)\n",
    "    print(s)\n",
    "    print(\"It took \",round(time.time()-start,2),\" seconds to convert the pdf.\")\n",
    "\n",
    "    start = time.time()\n",
    "    command = \"tesseract \" + tifLoc + \" \"+str(pdfNames[i][:-4])+\" -l eng\"\n",
    "    print(\"Command: \", command)\n",
    "    s=commands.getstatusoutput(command)\n",
    "    print(s)\n",
    "    print(\"It took \",round(time.time()-start), \" to run tesseract on the tif file.\")\n",
    "    \n",
    "    print(\"Deleting the tif file.\")\n",
    "    s=commands.getstatusoutput(\"rm \" + tifLoc)\n",
    "    print(\"Tif deleted. Please check.\")\n",
    "    exit(0)\n",
    "\n",
    "print(\"Done\")"
   ]
  },
  {
   "cell_type": "markdown",
   "metadata": {},
   "source": [
    "### Test amount value errors"
   ]
  },
  {
   "cell_type": "code",
   "execution_count": 28,
   "metadata": {},
   "outputs": [],
   "source": [
    "def getValues(fileName):\n",
    "    f = open(txtNames[i],'r')\n",
    "    values = []\n",
    "    line = f.readline()\n",
    "    while line:\n",
    "\n",
    "        amountLen = 0\n",
    "        valueLine = []\n",
    "        for index,char in enumerate(line):\n",
    "            \n",
    "            if amountLen>0:\n",
    "                if char == '0' or char == '1' or char == '2' or char == '3' or char == '4' or char == '5'or \\\n",
    "                char == '6' or char == '7' or char == '8' or char == '9' or char == ' ' or char == ',' or \\\n",
    "                char == '.' or char == '-' or char == '+':\n",
    "                    amountLen+=1\n",
    "                else:\n",
    "                    if amountLen>1 and line[index-amountLen:index] != \"R \":\n",
    "                        amount = str(line[index-amountLen:index])\n",
    "                        amount = amount.replace(\"R\", \"\")\n",
    "                        amount = amount.replace(\",\", \"\")\n",
    "                        amount = amount.replace(\" \", \"\")\n",
    "                        amount = amount.replace(\".\", \"\")\n",
    "                        valueLine.append(amount)\n",
    "                        #print(amount)\n",
    "                        \n",
    "                        if len(valueLine)==2:\n",
    "                            break\n",
    "                        \n",
    "                    amountLen = 0\n",
    "                    \n",
    "            if char == 'R' and amountLen==0 and (len(valueLine)>0 or line[index-1] == ' '):\n",
    "                amountLen = 1\n",
    "        if len(valueLine)>0:\n",
    "            values.append(valueLine)\n",
    "        line = f.readline()\n",
    "    return values\n",
    "    \n",
    "def getResult(values):\n",
    "    possibleAlt = 0.0\n",
    "    right = 0.0\n",
    "    total = 0\n",
    "    skip = 0\n",
    "    for base in range(1,len(values)):\n",
    "        i = base# + skip\n",
    "        try:\n",
    "            #print(values[i])\n",
    "            if len(values[i])==2:\n",
    "                if round(float(values[i][1])-float(values[i][0]),2) == round(float(values[i-1][len(values[i-1])-1]),2):\n",
    "                    right+=1\n",
    "                else:\n",
    "                    skip += 1\n",
    "                    #print(\"Wrong. Ans: \", float(values[i][1]),\" minus \",float(values[i][0]),\" must equal \",float(values[i-1][len(values[i-1])-1]), \". But true subtraction: \",round(float(values[i][1])-float(values[i][0]),2))\n",
    "                total += 1\n",
    "        except:\n",
    "            #print(\"Not a number.\")\n",
    "            total +=1\n",
    "    \n",
    "    return round(right/total,2) if total>0 else 0.0,total"
   ]
  },
  {
   "cell_type": "code",
   "execution_count": 110,
   "metadata": {},
   "outputs": [
    {
     "name": "stderr",
     "output_type": "stream",
     "text": [
      " 42%|████▏     | 28/66 [00:00<00:00, 275.56it/s]"
     ]
    },
    {
     "name": "stdout",
     "output_type": "stream",
     "text": [
      "Number of textfiles found:  66\n",
      "File number:  1\n",
      "File name:  ./TestAllExamples/Example41.txt\n",
      "Number of values tested:  100\n",
      "Accuracy:  0.0  out of 1.\n",
      "\n",
      "File number:  2\n",
      "File name:  ./TestAllExamples/Example40.txt\n",
      "Number of values tested:  204\n",
      "Accuracy:  0.5  out of 1.\n",
      "\n",
      "File number:  3\n",
      "File name:  ./TestAllExamples/Example42.txt\n",
      "Number of values tested:  100\n",
      "Accuracy:  0.0  out of 1.\n",
      "\n",
      "File number:  4\n",
      "File name:  ./TestAllExamples/Example45.txt\n",
      "Number of values tested:  59\n",
      "Accuracy:  0.92  out of 1.\n",
      "\n",
      "File number:  5\n",
      "File name:  ./TestAllExamples/Example46.txt\n",
      "Number of values tested:  59\n",
      "Accuracy:  0.92  out of 1.\n",
      "\n",
      "File number:  6\n",
      "File name:  ./TestAllExamples/Example49.txt\n",
      "Number of values tested:  213\n",
      "Accuracy:  0.35  out of 1.\n",
      "\n",
      "File number:  7\n",
      "File name:  ./TestAllExamples/Example50.txt\n",
      "Number of values tested:  213\n",
      "Accuracy:  0.35  out of 1.\n",
      "\n",
      "File number:  8\n",
      "File name:  ./TestAllExamples/Example1.txt\n",
      "Number of values tested:  123\n",
      "Accuracy:  0.84  out of 1.\n",
      "\n",
      "File number:  9\n",
      "File name:  ./TestAllExamples/Example2.txt\n",
      "Number of values tested:  123\n",
      "Accuracy:  0.84  out of 1.\n",
      "\n",
      "File number:  10\n",
      "File name:  ./TestAllExamples/Example3.txt\n",
      "Number of values tested:  33\n",
      "Accuracy:  0.82  out of 1.\n",
      "\n",
      "File number:  11\n",
      "File name:  ./TestAllExamples/Example4.txt\n",
      "Number of values tested:  33\n",
      "Accuracy:  0.82  out of 1.\n",
      "\n",
      "File number:  12\n",
      "File name:  ./TestAllExamples/Example5.txt\n",
      "Number of values tested:  168\n",
      "Accuracy:  0.86  out of 1.\n",
      "\n",
      "File number:  13\n",
      "File name:  ./TestAllExamples/Example6.txt\n",
      "Number of values tested:  168\n",
      "Accuracy:  0.86  out of 1.\n",
      "\n",
      "File number:  14\n",
      "File name:  ./TestAllExamples/Example7.txt\n",
      "Number of values tested:  278\n",
      "Accuracy:  0.85  out of 1.\n",
      "\n",
      "File number:  15\n",
      "File name:  ./TestAllExamples/Example8.txt\n",
      "Number of values tested:  278\n",
      "Accuracy:  0.85  out of 1.\n",
      "\n",
      "File number:  16\n",
      "File name:  ./TestAllExamples/Example9.txt\n",
      "Number of values tested:  145\n",
      "Accuracy:  0.86  out of 1.\n",
      "\n",
      "File number:  17\n",
      "File name:  ./TestAllExamples/Example10.txt\n",
      "Number of values tested:  145\n",
      "Accuracy:  0.86  out of 1.\n",
      "\n",
      "File number:  18\n",
      "File name:  ./TestAllExamples/Example11.txt\n",
      "Number of values tested:  294\n",
      "Accuracy:  0.12  out of 1.\n",
      "\n",
      "File number:  19\n",
      "File name:  ./TestAllExamples/Example12.txt\n",
      "Number of values tested:  294\n",
      "Accuracy:  0.12  out of 1.\n",
      "\n",
      "File number:  20\n",
      "File name:  ./TestAllExamples/Example13.txt\n",
      "Number of values tested:  197\n",
      "Accuracy:  0.89  out of 1.\n",
      "\n",
      "File number:  21\n",
      "File name:  ./TestAllExamples/Example14.txt\n",
      "Number of values tested:  197\n",
      "Accuracy:  0.89  out of 1.\n",
      "\n",
      "File number:  22\n",
      "File name:  ./TestAllExamples/Example15.txt\n",
      "Number of values tested:  59\n",
      "Accuracy:  0.49  out of 1.\n",
      "\n",
      "File number:  23\n",
      "File name:  ./TestAllExamples/Example16.txt\n",
      "Number of values tested:  59\n",
      "Accuracy:  0.49  out of 1.\n",
      "\n",
      "File number:  24\n",
      "File name:  ./TestAllExamples/Example17.txt\n",
      "Number of values tested:  44\n",
      "Accuracy:  0.8  out of 1.\n",
      "\n",
      "File number:  25\n",
      "File name:  ./TestAllExamples/Example18.txt\n",
      "Number of values tested:  44\n",
      "Accuracy:  0.8  out of 1.\n",
      "\n",
      "File number:  26\n",
      "File name:  ./TestAllExamples/Example19.txt\n",
      "Number of values tested:  35\n",
      "Accuracy:  0.11  out of 1.\n",
      "\n",
      "File number:  27\n",
      "File name:  ./TestAllExamples/Example20.txt\n",
      "Number of values tested:  35\n",
      "Accuracy:  0.11  out of 1.\n",
      "\n",
      "File number:  28\n",
      "File name:  ./TestAllExamples/Example21.txt\n",
      "Number of values tested:  79\n",
      "Accuracy:  0.96  out of 1.\n",
      "\n",
      "File number:  29\n",
      "File name:  ./TestAllExamples/Example22.txt\n",
      "Number of values tested:  79\n",
      "Accuracy:  0.96  out of 1.\n",
      "\n",
      "File number:  30\n",
      "File name:  ./TestAllExamples/Example23.txt\n",
      "Number of values tested:  16\n",
      "Accuracy:  0.06  out of 1.\n",
      "\n",
      "File number:  31\n",
      "File name:  ./TestAllExamples/Example24.txt\n",
      "Number of values tested:  16\n",
      "Accuracy:  0.06  out of 1.\n",
      "\n",
      "File number:  32\n",
      "File name:  ./TestAllExamples/Example25.txt\n",
      "Number of values tested:  137\n",
      "Accuracy:  0.81  out of 1.\n",
      "\n",
      "File number:  33\n",
      "File name:  ./TestAllExamples/Example26.txt\n",
      "Number of values tested:  137\n",
      "Accuracy:  0.81  out of 1.\n",
      "\n",
      "File number:  34\n",
      "File name:  ./TestAllExamples/Example27.txt\n",
      "Number of values tested:  25\n",
      "Accuracy:  0.12  out of 1.\n",
      "\n",
      "File number:  35\n",
      "File name:  ./TestAllExamples/Example28.txt\n",
      "Number of values tested:  25\n",
      "Accuracy:  0.12  out of 1.\n",
      "\n",
      "File number:  36\n",
      "File name:  ./TestAllExamples/Example29.txt\n",
      "Number of values tested:  145\n",
      "Accuracy:  0.7  out of 1.\n",
      "\n",
      "File number:  37\n",
      "File name:  ./TestAllExamples/Example30.txt\n",
      "Number of values tested:  145\n",
      "Accuracy:  0.7  out of 1.\n",
      "\n",
      "File number:  38\n",
      "File name:  ./TestAllExamples/Example31.txt\n",
      "Number of values tested:  44\n",
      "Accuracy:  0.27  out of 1.\n",
      "\n",
      "File number:  39\n",
      "File name:  ./TestAllExamples/Example32.txt\n",
      "Number of values tested:  44\n",
      "Accuracy:  0.27  out of 1.\n",
      "\n",
      "File number:  40\n",
      "File name:  ./TestAllExamples/Example33.txt\n",
      "Number of values tested:  149\n",
      "Accuracy:  0.55  out of 1.\n",
      "\n",
      "File number:  41\n",
      "File name:  ./TestAllExamples/Example34.txt\n",
      "Number of values tested:  149\n",
      "Accuracy:  0.55  out of 1.\n",
      "\n",
      "File number:  42\n",
      "File name:  ./TestAllExamples/Example35.txt\n",
      "Number of values tested:  28\n",
      "Accuracy:  0.71  out of 1.\n",
      "\n",
      "File number:  43\n",
      "File name:  ./TestAllExamples/Example36.txt\n",
      "Number of values tested:  28\n",
      "Accuracy:  0.71  out of 1.\n",
      "\n",
      "File number:  44\n",
      "File name:  ./TestAllExamples/Example37.txt\n",
      "Number of values tested:  186\n",
      "Accuracy:  0.8  out of 1.\n",
      "\n",
      "File number:  45\n",
      "File name:  ./TestAllExamples/Example38.txt\n",
      "Number of values tested:  186\n",
      "Accuracy:  0.8  out of 1.\n",
      "\n",
      "File number:  46\n",
      "File name:  ./TestAllExamples/Example39.txt\n",
      "Number of values tested:  204\n",
      "Accuracy:  0.5  out of 1.\n",
      "\n",
      "File number:  47\n",
      "File name:  ./TestAllExamples/Example43.txt\n",
      "Number of values tested:  13\n",
      "Accuracy:  0.85  out of 1.\n",
      "\n",
      "File number:  48\n",
      "File name:  ./TestAllExamples/Example44.txt\n",
      "Number of values tested:  13\n",
      "Accuracy:  0.85  out of 1.\n",
      "\n",
      "File number:  49\n",
      "File name:  ./TestAllExamples/Example47.txt\n",
      "Number of values tested:  22\n",
      "Accuracy:  0.18  out of 1.\n",
      "\n",
      "File number:  50\n",
      "File name:  ./TestAllExamples/Example48.txt\n",
      "Number of values tested:  22\n",
      "Accuracy:  0.18  out of 1.\n",
      "\n",
      "File number:  51\n",
      "File name:  ./TestAllExamples/Example51.txt\n",
      "Number of values tested:  112\n",
      "Accuracy:  0.92  out of 1.\n",
      "\n",
      "File number:  52\n",
      "File name:  ./TestAllExamples/Example52.txt\n",
      "Number of values tested:  112\n",
      "Accuracy:  0.92  out of 1.\n",
      "\n",
      "File number:  53\n",
      "File name:  ./TestAllExamples/Example53.txt\n",
      "Number of values tested:  43\n",
      "Accuracy:  0.42  out of 1.\n",
      "\n",
      "File number:  54\n",
      "File name:  ./TestAllExamples/Example54.txt\n",
      "Number of values tested:  43\n",
      "Accuracy:  0.42  out of 1.\n",
      "\n",
      "File number:  55\n",
      "File name:  ./TestAllExamples/Example55.txt\n",
      "Number of values tested:  41\n",
      "Accuracy:  0.73  out of 1.\n",
      "\n",
      "File number:  56\n",
      "File name:  ./TestAllExamples/Example56.txt\n",
      "Number of values tested:  41\n",
      "Accuracy:  0.73  out of 1.\n",
      "\n",
      "File number:  57\n",
      "File name:  ./TestAllExamples/Example57.txt\n",
      "Number of values tested:  81\n",
      "Accuracy:  0.98  out of 1.\n",
      "\n",
      "File number:  58\n",
      "File name:  ./TestAllExamples/Example58.txt\n",
      "Number of values tested:  81\n",
      "Accuracy:  0.98  out of 1.\n",
      "\n",
      "File number:  59\n",
      "File name:  ./TestAllExamples/Example59.txt\n",
      "Number of values tested:  51\n",
      "Accuracy:  0.25  out of 1.\n",
      "\n",
      "File number:  60\n",
      "File name:  ./TestAllExamples/Example60.txt\n",
      "Number of values tested:  51\n",
      "Accuracy:  0.25  out of 1.\n",
      "\n",
      "File number:  61\n",
      "File name:  ./TestAllExamples/Example61.txt\n",
      "Number of values tested:  209\n",
      "Accuracy:  0.87  out of 1.\n",
      "\n",
      "File number:  62\n",
      "File name:  ./TestAllExamples/Example62.txt\n"
     ]
    },
    {
     "name": "stderr",
     "output_type": "stream",
     "text": [
      "100%|██████████| 66/66 [00:00<00:00, 319.41it/s]"
     ]
    },
    {
     "name": "stdout",
     "output_type": "stream",
     "text": [
      "Number of values tested:  209\n",
      "Accuracy:  0.87  out of 1.\n",
      "\n",
      "File number:  63\n",
      "File name:  ./TestAllExamples/Example63.txt\n",
      "Number of values tested:  36\n",
      "Accuracy:  0.86  out of 1.\n",
      "\n",
      "File number:  64\n",
      "File name:  ./TestAllExamples/Example64.txt\n",
      "Number of values tested:  36\n",
      "Accuracy:  0.86  out of 1.\n",
      "\n",
      "File number:  65\n",
      "File name:  ./TestAllExamples/Example65.txt\n",
      "Number of values tested:  71\n",
      "Accuracy:  0.82  out of 1.\n",
      "\n",
      "File number:  66\n",
      "File name:  ./TestAllExamples/Example66.txt\n",
      "Number of values tested:  0\n",
      "Accuracy:  0.0  out of 1.\n",
      "\n"
     ]
    },
    {
     "name": "stderr",
     "output_type": "stream",
     "text": [
      "\n"
     ]
    }
   ],
   "source": [
    "import glob\n",
    "txtNames = glob.glob(folderLoc+\"*.txt\")\n",
    "print(\"Number of textfiles found: \",len(txtNames))\n",
    "result = np.zeros(len(txtNames))\n",
    "for i in tqdm(range(len(txtNames))):\n",
    "    print(\"File number: \",str(i+1))\n",
    "    print(\"File name: \",txtNames[i])\n",
    "    \n",
    "    values = getValues(txtNames[i])\n",
    "    \n",
    "    res,total = getResult(values)\n",
    "    result[i] = res\n",
    "    print(\"Number of values tested: \",total)\n",
    "    print(\"Accuracy: \", res,\" out of 1.\\n\")"
   ]
  },
  {
   "cell_type": "markdown",
   "metadata": {},
   "source": [
    "### Plot the results"
   ]
  },
  {
   "cell_type": "code",
   "execution_count": 111,
   "metadata": {},
   "outputs": [
    {
     "data": {
      "text/plain": [
       "<matplotlib.text.Text at 0x7f4380d2f5d0>"
      ]
     },
     "execution_count": 111,
     "metadata": {},
     "output_type": "execute_result"
    },
    {
     "data": {
      "image/png": "[encoded data removed]",
      "text/plain": [
       "<matplotlib.figure.Figure at 0x7f4380db79d0>"
      ]
     },
     "metadata": {},
     "output_type": "display_data"
    }
   ],
   "source": [
    "import matplotlib.pyplot as plt\n",
    "import numpy as np\n",
    "%matplotlib inline\n",
    "x = result#np.random.normal(size = 1000)\n",
    "plt.figure(figsize=(20,5))\n",
    "plt.hist(x, bins=20)\n",
    "plt.title('Balance accuracy of sample statements')\n",
    "plt.xlabel('Balance accuracy')\n",
    "plt.ylabel('Statements')"
   ]
  },
  {
   "cell_type": "markdown",
   "metadata": {},
   "source": [
    "### Read the xml and output using pandas"
   ]
  },
  {
   "cell_type": "code",
   "execution_count": null,
   "metadata": {},
   "outputs": [],
   "source": [
    "import xml.etree.cElementTree as et\n",
    "import pandas as pd\n",
    " \n",
    "def getvalueofnode(node):\n",
    "    \"\"\" return node text or None \"\"\"\n",
    "    return node.text if node is not None else None\n",
    " \n",
    "\"\"\" main \"\"\"\n",
    "path = './TestExamples/Example1.xml'\n",
    "parsed_xml = et.parse(path)\n",
    "dfcols = ['postdate', 'description','fee','payments','deposits','balance']\n",
    "df_xml = pd.DataFrame(columns=dfcols)\n",
    "child = parsed_xml.getroot().getchildren()[2].getchildren()\n",
    "for node in child:\n",
    "    postdate = node.find('postdate')\n",
    "    description = node.find('description')\n",
    "    fee = node.find('fee')\n",
    "    payments = node.find('payments')\n",
    "    deposits = node.find('deposits')\n",
    "    balance = node.find('balance')\n",
    "\n",
    "    df_xml = df_xml.append(\n",
    "        pd.Series([getvalueofnode(postdate),\n",
    "                   getvalueofnode(description),\n",
    "                   getvalueofnode(fee),\n",
    "                   getvalueofnode(payments),\n",
    "                   getvalueofnode(deposits),\n",
    "                   getvalueofnode(balance)], index=dfcols),\n",
    "        ignore_index=True)\n",
    "\n",
    "print df_xml"
   ]
  }
 ],
 "metadata": {
  "kernelspec": {
   "display_name": "Python 2",
   "language": "python",
   "name": "python2"
  },
  "language_info": {
   "codemirror_mode": {
    "name": "ipython",
    "version": 2
   },
   "file_extension": ".py",
   "mimetype": "text/x-python",
   "name": "python",
   "nbconvert_exporter": "python",
   "pygments_lexer": "ipython2",
   "version": "2.7.13"
  }
 },
 "nbformat": 4,
 "nbformat_minor": 2
}
